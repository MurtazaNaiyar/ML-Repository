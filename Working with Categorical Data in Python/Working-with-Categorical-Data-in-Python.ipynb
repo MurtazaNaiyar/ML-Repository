{
 "cells": [
  {
   "cell_type": "code",
   "execution_count": null,
   "id": "3326dae7-29af-409f-8c28-aa9eededb10d",
   "metadata": {},
   "outputs": [],
   "source": []
  },
  {
   "cell_type": "markdown",
   "id": "b55f3601",
   "metadata": {},
   "source": [
    "# Working with Categorical Data in Python"
   ]
  },
  {
   "cell_type": "markdown",
   "id": "a3003051",
   "metadata": {},
   "source": [
    "## Introduction to Categorical Data"
   ]
  },
  {
   "cell_type": "code",
   "execution_count": 19,
   "id": "6ea6343a",
   "metadata": {},
   "outputs": [],
   "source": [
    "import pandas as pd"
   ]
  },
  {
   "cell_type": "code",
   "execution_count": 20,
   "id": "f370310e",
   "metadata": {},
   "outputs": [],
   "source": [
    "adult = pd.read_csv('adult.csv')"
   ]
  },
  {
   "cell_type": "code",
   "execution_count": 21,
   "id": "a89226eb",
   "metadata": {},
   "outputs": [
    {
     "data": {
      "text/html": [
       "<div>\n",
       "<style scoped>\n",
       "    .dataframe tbody tr th:only-of-type {\n",
       "        vertical-align: middle;\n",
       "    }\n",
       "\n",
       "    .dataframe tbody tr th {\n",
       "        vertical-align: top;\n",
       "    }\n",
       "\n",
       "    .dataframe thead th {\n",
       "        text-align: right;\n",
       "    }\n",
       "</style>\n",
       "<table border=\"1\" class=\"dataframe\">\n",
       "  <thead>\n",
       "    <tr style=\"text-align: right;\">\n",
       "      <th></th>\n",
       "      <th>Age</th>\n",
       "      <th>Workclass</th>\n",
       "      <th>fnlgwt</th>\n",
       "      <th>Education</th>\n",
       "      <th>Education Num</th>\n",
       "      <th>Marital Status</th>\n",
       "      <th>Occupation</th>\n",
       "      <th>Relationship</th>\n",
       "      <th>Race</th>\n",
       "      <th>Sex</th>\n",
       "      <th>Capital Gain</th>\n",
       "      <th>Capital Loss</th>\n",
       "      <th>Hours/Week</th>\n",
       "      <th>Country</th>\n",
       "      <th>Above/Below 50k</th>\n",
       "    </tr>\n",
       "  </thead>\n",
       "  <tbody>\n",
       "    <tr>\n",
       "      <th>0</th>\n",
       "      <td>39</td>\n",
       "      <td>State-gov</td>\n",
       "      <td>77516</td>\n",
       "      <td>Bachelors</td>\n",
       "      <td>13</td>\n",
       "      <td>Never-married</td>\n",
       "      <td>Adm-clerical</td>\n",
       "      <td>Not-in-family</td>\n",
       "      <td>White</td>\n",
       "      <td>Male</td>\n",
       "      <td>2174</td>\n",
       "      <td>0</td>\n",
       "      <td>40</td>\n",
       "      <td>United-States</td>\n",
       "      <td>&lt;=50K</td>\n",
       "    </tr>\n",
       "    <tr>\n",
       "      <th>1</th>\n",
       "      <td>50</td>\n",
       "      <td>Self-emp-not-inc</td>\n",
       "      <td>83311</td>\n",
       "      <td>Bachelors</td>\n",
       "      <td>13</td>\n",
       "      <td>Married-civ-spouse</td>\n",
       "      <td>Exec-managerial</td>\n",
       "      <td>Husband</td>\n",
       "      <td>White</td>\n",
       "      <td>Male</td>\n",
       "      <td>0</td>\n",
       "      <td>0</td>\n",
       "      <td>13</td>\n",
       "      <td>United-States</td>\n",
       "      <td>&lt;=50K</td>\n",
       "    </tr>\n",
       "    <tr>\n",
       "      <th>2</th>\n",
       "      <td>38</td>\n",
       "      <td>Private</td>\n",
       "      <td>215646</td>\n",
       "      <td>HS-grad</td>\n",
       "      <td>9</td>\n",
       "      <td>Divorced</td>\n",
       "      <td>Handlers-cleaners</td>\n",
       "      <td>Not-in-family</td>\n",
       "      <td>White</td>\n",
       "      <td>Male</td>\n",
       "      <td>0</td>\n",
       "      <td>0</td>\n",
       "      <td>40</td>\n",
       "      <td>United-States</td>\n",
       "      <td>&lt;=50K</td>\n",
       "    </tr>\n",
       "    <tr>\n",
       "      <th>3</th>\n",
       "      <td>53</td>\n",
       "      <td>Private</td>\n",
       "      <td>234721</td>\n",
       "      <td>11th</td>\n",
       "      <td>7</td>\n",
       "      <td>Married-civ-spouse</td>\n",
       "      <td>Handlers-cleaners</td>\n",
       "      <td>Husband</td>\n",
       "      <td>Black</td>\n",
       "      <td>Male</td>\n",
       "      <td>0</td>\n",
       "      <td>0</td>\n",
       "      <td>40</td>\n",
       "      <td>United-States</td>\n",
       "      <td>&lt;=50K</td>\n",
       "    </tr>\n",
       "    <tr>\n",
       "      <th>4</th>\n",
       "      <td>28</td>\n",
       "      <td>Private</td>\n",
       "      <td>338409</td>\n",
       "      <td>Bachelors</td>\n",
       "      <td>13</td>\n",
       "      <td>Married-civ-spouse</td>\n",
       "      <td>Prof-specialty</td>\n",
       "      <td>Wife</td>\n",
       "      <td>Black</td>\n",
       "      <td>Female</td>\n",
       "      <td>0</td>\n",
       "      <td>0</td>\n",
       "      <td>40</td>\n",
       "      <td>Cuba</td>\n",
       "      <td>&lt;=50K</td>\n",
       "    </tr>\n",
       "  </tbody>\n",
       "</table>\n",
       "</div>"
      ],
      "text/plain": [
       "   Age          Workclass  fnlgwt   Education  Education Num  \\\n",
       "0   39          State-gov   77516   Bachelors             13   \n",
       "1   50   Self-emp-not-inc   83311   Bachelors             13   \n",
       "2   38            Private  215646     HS-grad              9   \n",
       "3   53            Private  234721        11th              7   \n",
       "4   28            Private  338409   Bachelors             13   \n",
       "\n",
       "        Marital Status          Occupation    Relationship    Race      Sex  \\\n",
       "0        Never-married        Adm-clerical   Not-in-family   White     Male   \n",
       "1   Married-civ-spouse     Exec-managerial         Husband   White     Male   \n",
       "2             Divorced   Handlers-cleaners   Not-in-family   White     Male   \n",
       "3   Married-civ-spouse   Handlers-cleaners         Husband   Black     Male   \n",
       "4   Married-civ-spouse      Prof-specialty            Wife   Black   Female   \n",
       "\n",
       "   Capital Gain  Capital Loss  Hours/Week         Country Above/Below 50k  \n",
       "0          2174             0          40   United-States           <=50K  \n",
       "1             0             0          13   United-States           <=50K  \n",
       "2             0             0          40   United-States           <=50K  \n",
       "3             0             0          40   United-States           <=50K  \n",
       "4             0             0          40            Cuba           <=50K  "
      ]
     },
     "execution_count": 21,
     "metadata": {},
     "output_type": "execute_result"
    }
   ],
   "source": [
    "adult.head()"
   ]
  },
  {
   "cell_type": "code",
   "execution_count": 22,
   "id": "2de69f40",
   "metadata": {},
   "outputs": [
    {
     "name": "stdout",
     "output_type": "stream",
     "text": [
      "count      32561\n",
      "unique         2\n",
      "top        <=50K\n",
      "freq       24720\n",
      "Name: Above/Below 50k, dtype: object\n"
     ]
    }
   ],
   "source": [
    "\n",
    "print(adult['Above/Below 50k'].describe())"
   ]
  },
  {
   "cell_type": "code",
   "execution_count": 23,
   "id": "b29e94d6",
   "metadata": {},
   "outputs": [
    {
     "name": "stdout",
     "output_type": "stream",
     "text": [
      " <=50K    24720\n",
      " >50K      7841\n",
      "Name: Above/Below 50k, dtype: int64\n"
     ]
    }
   ],
   "source": [
    "\n",
    "print(adult['Above/Below 50k'].value_counts())"
   ]
  },
  {
   "cell_type": "code",
   "execution_count": 24,
   "id": "0fc87348",
   "metadata": {},
   "outputs": [
    {
     "name": "stdout",
     "output_type": "stream",
     "text": [
      " <=50K    0.75919\n",
      " >50K     0.24081\n",
      "Name: Above/Below 50k, dtype: float64\n"
     ]
    }
   ],
   "source": [
    "print(adult['Above/Below 50k'].value_counts(normalize=True))"
   ]
  },
  {
   "cell_type": "markdown",
   "id": "71793c11",
   "metadata": {},
   "source": [
    "### Setting dtypes and saving memory"
   ]
  },
  {
   "cell_type": "code",
   "execution_count": 25,
   "id": "9a4f94df",
   "metadata": {},
   "outputs": [
    {
     "data": {
      "text/plain": [
       " Prof-specialty       4140\n",
       " Craft-repair         4099\n",
       " Exec-managerial      4066\n",
       " Adm-clerical         3770\n",
       " Sales                3650\n",
       " Other-service        3295\n",
       " Machine-op-inspct    2002\n",
       " ?                    1843\n",
       " Transport-moving     1597\n",
       " Handlers-cleaners    1370\n",
       " Farming-fishing       994\n",
       " Tech-support          928\n",
       " Protective-serv       649\n",
       " Priv-house-serv       149\n",
       " Armed-Forces            9\n",
       "Name: Occupation, dtype: int64"
      ]
     },
     "execution_count": 25,
     "metadata": {},
     "output_type": "execute_result"
    }
   ],
   "source": [
    "adult['Occupation'].value_counts()"
   ]
  },
  {
   "cell_type": "code",
   "execution_count": 26,
   "id": "a6ed7bc5",
   "metadata": {},
   "outputs": [],
   "source": [
    "list_of_occupations = adult['Occupation'].values.tolist()"
   ]
  },
  {
   "cell_type": "code",
   "execution_count": 27,
   "id": "07a783ac",
   "metadata": {},
   "outputs": [],
   "source": [
    "series1 = pd.Series(list_of_occupations)"
   ]
  },
  {
   "cell_type": "code",
   "execution_count": 28,
   "id": "4f4f8266",
   "metadata": {},
   "outputs": [
    {
     "name": "stdout",
     "output_type": "stream",
     "text": [
      "series1 data type: object\n",
      "series1 number of bytes: 260488\n"
     ]
    }
   ],
   "source": [
    "\n",
    "print(\"series1 data type:\", series1.dtype)\n",
    "print(\"series1 number of bytes:\", series1.nbytes)"
   ]
  },
  {
   "cell_type": "code",
   "execution_count": 29,
   "id": "dc004789",
   "metadata": {},
   "outputs": [],
   "source": [
    "\n",
    "series2 = pd.Series(list_of_occupations, dtype=\"category\")"
   ]
  },
  {
   "cell_type": "code",
   "execution_count": 30,
   "id": "2e41ac3e",
   "metadata": {},
   "outputs": [
    {
     "name": "stdout",
     "output_type": "stream",
     "text": [
      "series2 data type: category\n",
      "series2 number of bytes: 32681\n"
     ]
    }
   ],
   "source": [
    "print(\"series2 data type:\", series2.dtype)\n",
    "print(\"series2 number of bytes:\", series2.nbytes)"
   ]
  },
  {
   "cell_type": "markdown",
   "id": "45f2fac4",
   "metadata": {},
   "source": [
    "### Creating a categorical pandas Series"
   ]
  },
  {
   "cell_type": "code",
   "execution_count": 31,
   "id": "08979f0f",
   "metadata": {},
   "outputs": [],
   "source": [
    "medal_won = pd.read_csv('medals_won.txt')"
   ]
  },
  {
   "cell_type": "code",
   "execution_count": 32,
   "id": "98379a9c",
   "metadata": {},
   "outputs": [
    {
     "name": "stdout",
     "output_type": "stream",
     "text": [
      "['Silver']\n",
      "Categories (3, object): ['Bronze' < 'Silver' < 'Gold']\n"
     ]
    }
   ],
   "source": [
    "\n",
    "medals = pd.Categorical(medal_won, categories=['Bronze', 'Silver', 'Gold'], ordered=True)\n",
    "print(medals)"
   ]
  },
  {
   "cell_type": "markdown",
   "id": "d5718a2e",
   "metadata": {},
   "source": [
    "### Setting dtype when reading data\n"
   ]
  },
  {
   "cell_type": "code",
   "execution_count": 33,
   "id": "c9e6141d",
   "metadata": {},
   "outputs": [
    {
     "data": {
      "text/html": [
       "<div>\n",
       "<style scoped>\n",
       "    .dataframe tbody tr th:only-of-type {\n",
       "        vertical-align: middle;\n",
       "    }\n",
       "\n",
       "    .dataframe tbody tr th {\n",
       "        vertical-align: top;\n",
       "    }\n",
       "\n",
       "    .dataframe thead th {\n",
       "        text-align: right;\n",
       "    }\n",
       "</style>\n",
       "<table border=\"1\" class=\"dataframe\">\n",
       "  <thead>\n",
       "    <tr style=\"text-align: right;\">\n",
       "      <th></th>\n",
       "      <th>Age</th>\n",
       "      <th>Workclass</th>\n",
       "      <th>fnlgwt</th>\n",
       "      <th>Education</th>\n",
       "      <th>Education Num</th>\n",
       "      <th>Marital Status</th>\n",
       "      <th>Occupation</th>\n",
       "      <th>Relationship</th>\n",
       "      <th>Race</th>\n",
       "      <th>Sex</th>\n",
       "      <th>Capital Gain</th>\n",
       "      <th>Capital Loss</th>\n",
       "      <th>Hours/Week</th>\n",
       "      <th>Country</th>\n",
       "      <th>Above/Below 50k</th>\n",
       "    </tr>\n",
       "  </thead>\n",
       "  <tbody>\n",
       "    <tr>\n",
       "      <th>0</th>\n",
       "      <td>39</td>\n",
       "      <td>State-gov</td>\n",
       "      <td>77516</td>\n",
       "      <td>Bachelors</td>\n",
       "      <td>13</td>\n",
       "      <td>Never-married</td>\n",
       "      <td>Adm-clerical</td>\n",
       "      <td>Not-in-family</td>\n",
       "      <td>White</td>\n",
       "      <td>Male</td>\n",
       "      <td>2174</td>\n",
       "      <td>0</td>\n",
       "      <td>40</td>\n",
       "      <td>United-States</td>\n",
       "      <td>&lt;=50K</td>\n",
       "    </tr>\n",
       "    <tr>\n",
       "      <th>1</th>\n",
       "      <td>50</td>\n",
       "      <td>Self-emp-not-inc</td>\n",
       "      <td>83311</td>\n",
       "      <td>Bachelors</td>\n",
       "      <td>13</td>\n",
       "      <td>Married-civ-spouse</td>\n",
       "      <td>Exec-managerial</td>\n",
       "      <td>Husband</td>\n",
       "      <td>White</td>\n",
       "      <td>Male</td>\n",
       "      <td>0</td>\n",
       "      <td>0</td>\n",
       "      <td>13</td>\n",
       "      <td>United-States</td>\n",
       "      <td>&lt;=50K</td>\n",
       "    </tr>\n",
       "    <tr>\n",
       "      <th>2</th>\n",
       "      <td>38</td>\n",
       "      <td>Private</td>\n",
       "      <td>215646</td>\n",
       "      <td>HS-grad</td>\n",
       "      <td>9</td>\n",
       "      <td>Divorced</td>\n",
       "      <td>Handlers-cleaners</td>\n",
       "      <td>Not-in-family</td>\n",
       "      <td>White</td>\n",
       "      <td>Male</td>\n",
       "      <td>0</td>\n",
       "      <td>0</td>\n",
       "      <td>40</td>\n",
       "      <td>United-States</td>\n",
       "      <td>&lt;=50K</td>\n",
       "    </tr>\n",
       "    <tr>\n",
       "      <th>3</th>\n",
       "      <td>53</td>\n",
       "      <td>Private</td>\n",
       "      <td>234721</td>\n",
       "      <td>11th</td>\n",
       "      <td>7</td>\n",
       "      <td>Married-civ-spouse</td>\n",
       "      <td>Handlers-cleaners</td>\n",
       "      <td>Husband</td>\n",
       "      <td>Black</td>\n",
       "      <td>Male</td>\n",
       "      <td>0</td>\n",
       "      <td>0</td>\n",
       "      <td>40</td>\n",
       "      <td>United-States</td>\n",
       "      <td>&lt;=50K</td>\n",
       "    </tr>\n",
       "    <tr>\n",
       "      <th>4</th>\n",
       "      <td>28</td>\n",
       "      <td>Private</td>\n",
       "      <td>338409</td>\n",
       "      <td>Bachelors</td>\n",
       "      <td>13</td>\n",
       "      <td>Married-civ-spouse</td>\n",
       "      <td>Prof-specialty</td>\n",
       "      <td>Wife</td>\n",
       "      <td>Black</td>\n",
       "      <td>Female</td>\n",
       "      <td>0</td>\n",
       "      <td>0</td>\n",
       "      <td>40</td>\n",
       "      <td>Cuba</td>\n",
       "      <td>&lt;=50K</td>\n",
       "    </tr>\n",
       "  </tbody>\n",
       "</table>\n",
       "</div>"
      ],
      "text/plain": [
       "   Age          Workclass  fnlgwt   Education  Education Num  \\\n",
       "0   39          State-gov   77516   Bachelors             13   \n",
       "1   50   Self-emp-not-inc   83311   Bachelors             13   \n",
       "2   38            Private  215646     HS-grad              9   \n",
       "3   53            Private  234721        11th              7   \n",
       "4   28            Private  338409   Bachelors             13   \n",
       "\n",
       "        Marital Status          Occupation    Relationship    Race      Sex  \\\n",
       "0        Never-married        Adm-clerical   Not-in-family   White     Male   \n",
       "1   Married-civ-spouse     Exec-managerial         Husband   White     Male   \n",
       "2             Divorced   Handlers-cleaners   Not-in-family   White     Male   \n",
       "3   Married-civ-spouse   Handlers-cleaners         Husband   Black     Male   \n",
       "4   Married-civ-spouse      Prof-specialty            Wife   Black   Female   \n",
       "\n",
       "   Capital Gain  Capital Loss  Hours/Week         Country Above/Below 50k  \n",
       "0          2174             0          40   United-States           <=50K  \n",
       "1             0             0          13   United-States           <=50K  \n",
       "2             0             0          40   United-States           <=50K  \n",
       "3             0             0          40   United-States           <=50K  \n",
       "4             0             0          40            Cuba           <=50K  "
      ]
     },
     "execution_count": 33,
     "metadata": {},
     "output_type": "execute_result"
    }
   ],
   "source": [
    "adult.head()"
   ]
  },
  {
   "cell_type": "code",
   "execution_count": 34,
   "id": "5c9edf16",
   "metadata": {},
   "outputs": [
    {
     "name": "stdout",
     "output_type": "stream",
     "text": [
      "Age                 int64\n",
      "Workclass          object\n",
      "fnlgwt              int64\n",
      "Education          object\n",
      "Education Num       int64\n",
      "Marital Status     object\n",
      "Occupation         object\n",
      "Relationship       object\n",
      "Race               object\n",
      "Sex                object\n",
      "Capital Gain        int64\n",
      "Capital Loss        int64\n",
      "Hours/Week          int64\n",
      "Country            object\n",
      "Above/Below 50k    object\n",
      "dtype: object\n"
     ]
    }
   ],
   "source": [
    "print(adult.dtypes)"
   ]
  },
  {
   "cell_type": "code",
   "execution_count": 35,
   "id": "95cdf6a7",
   "metadata": {},
   "outputs": [],
   "source": [
    "adult_dtypes = {\n",
    "   \"Workclass\": \"category\",\n",
    "   \"Education\": \"category\",\n",
    "   \"Relationship\": \"category\",\n",
    "   \"Above/Below 50k\": \"category\" \n",
    "}"
   ]
  },
  {
   "cell_type": "code",
   "execution_count": 36,
   "id": "1920979e",
   "metadata": {},
   "outputs": [
    {
     "name": "stdout",
     "output_type": "stream",
     "text": [
      "Age                   int64\n",
      "Workclass          category\n",
      "fnlgwt                int64\n",
      "Education          category\n",
      "Education Num         int64\n",
      "Marital Status       object\n",
      "Occupation           object\n",
      "Relationship       category\n",
      "Race                 object\n",
      "Sex                  object\n",
      "Capital Gain          int64\n",
      "Capital Loss          int64\n",
      "Hours/Week            int64\n",
      "Country              object\n",
      "Above/Below 50k    category\n",
      "dtype: object\n"
     ]
    }
   ],
   "source": [
    "adult2 = pd.read_csv(\n",
    "  \"adult.csv\",\n",
    "  dtype=adult_dtypes\n",
    ")\n",
    "print(adult2.dtypes)"
   ]
  },
  {
   "cell_type": "markdown",
   "id": "06ff31d6",
   "metadata": {},
   "source": [
    "### Setting up a .groupby() statement"
   ]
  },
  {
   "cell_type": "code",
   "execution_count": 37,
   "id": "ba76b238",
   "metadata": {},
   "outputs": [
    {
     "name": "stdout",
     "output_type": "stream",
     "text": [
      "Sex      Above/Below 50k\n",
      " Female   <=50K              9592\n",
      "          >50K               1179\n",
      " Male     <=50K             15128\n",
      "          >50K               6662\n",
      "dtype: int64\n",
      "                               Age         fnlgwt  Education Num  \\\n",
      "Sex     Above/Below 50k                                            \n",
      " Female  <=50K           36.210801  185999.381359       9.820475   \n",
      "         >50K            42.125530  183687.406277      11.787108   \n",
      " Male    <=50K           37.147012  193093.609268       9.452142   \n",
      "         >50K            44.625788  188769.101321      11.580606   \n",
      "\n",
      "                         Capital Gain  Capital Loss  Hours/Week  \n",
      "Sex     Above/Below 50k                                          \n",
      " Female  <=50K             121.986134     47.364470   35.916701  \n",
      "         >50K             4200.389313    173.648855   40.426633  \n",
      " Male    <=50K             165.723823     56.806782   40.693879  \n",
      "         >50K             3971.765836    198.780396   46.366106  \n"
     ]
    }
   ],
   "source": [
    "gb = adult.groupby(by=['Sex', 'Above/Below 50k'])\n",
    "\n",
    "\n",
    "print(gb.size())\n",
    "\n",
    "\n",
    "print(gb.mean())"
   ]
  },
  {
   "cell_type": "markdown",
   "id": "7269a786",
   "metadata": {},
   "source": [
    "### Using pandas functions effectively"
   ]
  },
  {
   "cell_type": "code",
   "execution_count": 38,
   "id": "05408c2f",
   "metadata": {},
   "outputs": [
    {
     "name": "stdout",
     "output_type": "stream",
     "text": [
      "Education      Above/Below 50k\n",
      " 10th           <=50K             36.574053\n",
      "                >50K              43.774194\n",
      " 11th           <=50K             33.322870\n",
      "                >50K              45.133333\n",
      " 12th           <=50K             35.035000\n",
      "                >50K              44.818182\n",
      " 1st-4th        <=50K             37.864198\n",
      "                >50K              48.833333\n",
      " 5th-6th        <=50K             38.539432\n",
      "                >50K              46.000000\n",
      " 7th-8th        <=50K             38.830033\n",
      "                >50K              47.500000\n",
      " 9th            <=50K             37.667351\n",
      "                >50K              44.851852\n",
      " Assoc-acdm     <=50K             39.264339\n",
      "                >50K              44.256604\n",
      " Assoc-voc      <=50K             40.817826\n",
      "                >50K              43.853186\n",
      " Bachelors      <=50K             40.586152\n",
      "                >50K              45.475462\n",
      " Doctorate      <=50K             45.429907\n",
      "                >50K              47.513072\n",
      " HS-grad        <=50K             39.727510\n",
      "                >50K              45.042985\n",
      " Masters        <=50K             41.223822\n",
      "                >50K              45.917623\n",
      " Preschool      <=50K             36.647059\n",
      " Prof-school    <=50K             42.816993\n",
      "                >50K              49.092199\n",
      " Some-college   <=50K             37.450203\n",
      "                >50K              44.820476\n",
      "Name: Hours/Week, dtype: float64\n"
     ]
    }
   ],
   "source": [
    "\n",
    "user_list = ['Education', 'Above/Below 50k']\n",
    "\n",
    "\n",
    "gb = adult.groupby(by=user_list)\n",
    "\n",
    "\n",
    "print(gb['Hours/Week'].mean())"
   ]
  },
  {
   "cell_type": "markdown",
   "id": "5577c2e7",
   "metadata": {},
   "source": [
    "## Categorical pandas Series\n"
   ]
  },
  {
   "cell_type": "code",
   "execution_count": 39,
   "id": "52aecb4e-2564-46a8-b71b-8f719c4321f2",
   "metadata": {},
   "outputs": [],
   "source": [
    "dogs = pd.read_csv('ShelterDogs.csv')"
   ]
  },
  {
   "cell_type": "code",
   "execution_count": 40,
   "id": "f5b315d0",
   "metadata": {},
   "outputs": [
    {
     "name": "stdout",
     "output_type": "stream",
     "text": [
      "both flat and garden    1224\n",
      "NaN                     1021\n",
      "garden                   510\n",
      "flat                     182\n",
      "Name: keep_in, dtype: int64\n"
     ]
    }
   ],
   "source": [
    "print(dogs[\"keep_in\"].value_counts(dropna=False))"
   ]
  },
  {
   "cell_type": "code",
   "execution_count": 41,
   "id": "cf7bcf34-c467-4c82-b6d6-2d542bbd9bd3",
   "metadata": {},
   "outputs": [],
   "source": [
    "dogs[\"keep_in\"] = dogs[\"keep_in\"].astype('category')"
   ]
  },
  {
   "cell_type": "code",
   "execution_count": 42,
   "id": "dc8abecb-8eed-4d72-8a86-e2b3c71057b9",
   "metadata": {},
   "outputs": [],
   "source": [
    "new_categories = [\"Unknown History\", \"Open Yard (Countryside)\"]\n",
    "dogs[\"keep_in\"] = dogs[\"keep_in\"].cat.add_categories(new_categories)"
   ]
  },
  {
   "cell_type": "code",
   "execution_count": 43,
   "id": "810d2f9c-7eb0-4c49-b4ca-fe4988c625b0",
   "metadata": {},
   "outputs": [
    {
     "name": "stdout",
     "output_type": "stream",
     "text": [
      "both flat and garden       1224\n",
      "NaN                        1021\n",
      "garden                      510\n",
      "flat                        182\n",
      "Unknown History               0\n",
      "Open Yard (Countryside)       0\n",
      "Name: keep_in, dtype: int64\n"
     ]
    }
   ],
   "source": [
    "print(dogs[\"keep_in\"].value_counts(dropna=False))"
   ]
  },
  {
   "cell_type": "markdown",
   "id": "a650a5ea-1557-4382-a8d1-4b50083fd5a7",
   "metadata": {},
   "source": [
    "### Removing categories"
   ]
  },
  {
   "cell_type": "code",
   "execution_count": 44,
   "id": "68c4e607-0c20-4918-a7ca-8ea4d7ab82ce",
   "metadata": {},
   "outputs": [],
   "source": [
    "dogs[\"likes_children\"] = dogs[\"likes_children\"].astype(\"category\")"
   ]
  },
  {
   "cell_type": "code",
   "execution_count": 45,
   "id": "9e22ef93-781c-44cc-a560-f3f705ea743c",
   "metadata": {},
   "outputs": [],
   "source": [
    "dogs[\"likes_children\"] = dogs[\"likes_children\"].cat.add_categories(  new_categories=[\"maybe\"])"
   ]
  },
  {
   "cell_type": "code",
   "execution_count": 46,
   "id": "7a76fad1-9022-4839-9d47-85a8216f8d0d",
   "metadata": {},
   "outputs": [],
   "source": [
    "dogs.loc[dogs[\"likes_children\"] == \"maybe\", \"likes_children\"] = \"no\""
   ]
  },
  {
   "cell_type": "code",
   "execution_count": 47,
   "id": "3c41a6b5-f47b-4487-843e-d2bc6af5cfd1",
   "metadata": {},
   "outputs": [
    {
     "name": "stdout",
     "output_type": "stream",
     "text": [
      "Index(['no', 'yes', 'maybe'], dtype='object')\n"
     ]
    }
   ],
   "source": [
    "\n",
    "print(dogs[\"likes_children\"].cat.categories)"
   ]
  },
  {
   "cell_type": "code",
   "execution_count": 48,
   "id": "cda13dfd-b8c4-4be4-b100-03afd8d0ef15",
   "metadata": {},
   "outputs": [
    {
     "name": "stdout",
     "output_type": "stream",
     "text": [
      "yes      1172\n",
      "no         47\n",
      "maybe       0\n",
      "Name: likes_children, dtype: int64\n"
     ]
    }
   ],
   "source": [
    "\n",
    "print(dogs[\"likes_children\"].value_counts())"
   ]
  },
  {
   "cell_type": "code",
   "execution_count": 49,
   "id": "9eaa56f5-17aa-412a-be56-c7348cde7da5",
   "metadata": {},
   "outputs": [
    {
     "name": "stdout",
     "output_type": "stream",
     "text": [
      "yes    1172\n",
      "no       47\n",
      "Name: likes_children, dtype: int64\n"
     ]
    }
   ],
   "source": [
    "dogs[\"likes_children\"] = dogs[\"likes_children\"].cat.remove_categories([\"maybe\"])\n",
    "print(dogs[\"likes_children\"].value_counts())"
   ]
  },
  {
   "cell_type": "code",
   "execution_count": 50,
   "id": "0d427686-53dd-47a7-ae9e-c80b8077c578",
   "metadata": {},
   "outputs": [
    {
     "name": "stdout",
     "output_type": "stream",
     "text": [
      "Index(['no', 'yes'], dtype='object')\n"
     ]
    }
   ],
   "source": [
    "print(dogs[\"likes_children\"].cat.categories)"
   ]
  },
  {
   "cell_type": "markdown",
   "id": "23db83a8-cd92-41b7-9881-bf96b7df01d9",
   "metadata": {},
   "source": [
    "### Renaming categories"
   ]
  },
  {
   "cell_type": "code",
   "execution_count": 51,
   "id": "c0fb5213-dc5f-4bf3-976e-244df03e265a",
   "metadata": {},
   "outputs": [
    {
     "name": "stdout",
     "output_type": "stream",
     "text": [
      "Index(['NO', 'YES'], dtype='object')\n"
     ]
    }
   ],
   "source": [
    "\n",
    "my_changes = {\"Maybe?\": \"Maybe\"}\n",
    "\n",
    "\n",
    "dogs[\"likes_children\"] = dogs[\"likes_children\"].cat.rename_categories(my_changes)\n",
    "\n",
    "\n",
    "dogs[\"likes_children\"] =  dogs[\"likes_children\"].cat.rename_categories(lambda c: c.upper())\n",
    "\n",
    "\n",
    "print(dogs[\"likes_children\"].cat.categories)"
   ]
  },
  {
   "cell_type": "markdown",
   "id": "59c5b1dc-05d3-4149-8147-1eb3ce8b2352",
   "metadata": {},
   "source": [
    "### Collapsing categories"
   ]
  },
  {
   "cell_type": "code",
   "execution_count": 52,
   "id": "47287f72-2810-4e83-8e5d-6e4d3fb401a3",
   "metadata": {},
   "outputs": [
    {
     "name": "stdout",
     "output_type": "stream",
     "text": [
      "short     1972\n",
      "medium     785\n",
      "long       180\n",
      "Name: coat_collapsed, dtype: int64\n"
     ]
    }
   ],
   "source": [
    "\n",
    "update_coats = {\"wirehaired\": \"medium\", \"medium-long\": \"medium\"}\n",
    "\n",
    "\n",
    "dogs[\"coat_collapsed\"] = dogs[\"coat\"].replace(update_coats)\n",
    "\n",
    "\n",
    "dogs[\"coat_collapsed\"] = dogs[\"coat_collapsed\"].astype('category')\n",
    "\n",
    "\n",
    "print(dogs[\"coat_collapsed\"].value_counts())"
   ]
  },
  {
   "cell_type": "markdown",
   "id": "b3edb3fa-7402-42d0-9410-8e5a9043d128",
   "metadata": {},
   "source": [
    "### Reordering categories in a Series"
   ]
  },
  {
   "cell_type": "code",
   "execution_count": 53,
   "id": "fbfbfa66-6029-4a91-91ae-14e97388ec25",
   "metadata": {},
   "outputs": [],
   "source": [
    "dogs[\"size\"] = dogs[\"size\"].astype(\"category\")"
   ]
  },
  {
   "cell_type": "code",
   "execution_count": 54,
   "id": "6505f449-45b5-47cd-bc36-4db8d66c7ca4",
   "metadata": {},
   "outputs": [
    {
     "name": "stdout",
     "output_type": "stream",
     "text": [
      "Index(['large', 'medium', 'small'], dtype='object')\n"
     ]
    }
   ],
   "source": [
    "\n",
    "print(dogs[\"size\"].cat.categories)"
   ]
  },
  {
   "cell_type": "code",
   "execution_count": 55,
   "id": "c7e52a67-7d96-44e2-8352-0b1557bf0f29",
   "metadata": {},
   "outputs": [],
   "source": [
    "\n",
    "dogs[\"size\"] = dogs[\"size\"].cat.reorder_categories(\n",
    "    new_categories=[\"small\", \"medium\", \"large\"]\n",
    ")"
   ]
  },
  {
   "cell_type": "code",
   "execution_count": 56,
   "id": "27a90a3a-439a-462c-9849-6ed9e7f67288",
   "metadata": {},
   "outputs": [],
   "source": [
    "\n",
    "dogs[\"size\"] = dogs[\"size\"].cat.reorder_categories(\n",
    "  new_categories=[\"small\", \"medium\", \"large\"],\n",
    "  ordered=True\n",
    ")"
   ]
  },
  {
   "cell_type": "code",
   "execution_count": 57,
   "id": "6aba158d-3ae7-40fb-a7b3-93687a539a53",
   "metadata": {},
   "outputs": [
    {
     "name": "stderr",
     "output_type": "stream",
     "text": [
      "/Users/Hakan.Ozler/Desktop/notebooks/datacamp/Working with Categorical Data in Python/venv/lib/python3.9/site-packages/pandas/core/arrays/categorical.py:2630: FutureWarning: The `inplace` parameter in pandas.Categorical.reorder_categories is deprecated and will be removed in a future version. Removing unused categories will always return a new Categorical object.\n",
      "  res = method(*args, **kwargs)\n"
     ]
    }
   ],
   "source": [
    "\n",
    "dogs[\"size\"].cat.reorder_categories(\n",
    "  new_categories=[\"small\", \"medium\", \"large\"],\n",
    "  ordered=True,\n",
    "  inplace=True\n",
    ")"
   ]
  },
  {
   "cell_type": "markdown",
   "id": "4697ff0e-daaf-4bd2-844a-2fe6028b261e",
   "metadata": {},
   "source": [
    "### Using .groupby() after reordering"
   ]
  },
  {
   "cell_type": "code",
   "execution_count": 58,
   "id": "ca0d3b46-6078-40eb-b317-8fcd8502dd93",
   "metadata": {},
   "outputs": [
    {
     "name": "stdout",
     "output_type": "stream",
     "text": [
      "size    sex   \n",
      "small   male       260\n",
      "        female     214\n",
      "medium  male      1090\n",
      "        female     854\n",
      "large   male       331\n",
      "        female     188\n",
      "Name: sex, dtype: int64\n",
      "size                           \n",
      "small   both flat and garden       0.702065\n",
      "        flat                       0.235988\n",
      "        garden                     0.061947\n",
      "        Unknown History            0.000000\n",
      "        Open Yard (Countryside)    0.000000\n",
      "medium  both flat and garden       0.657568\n",
      "        garden                     0.262200\n",
      "        flat                       0.080232\n",
      "        Unknown History            0.000000\n",
      "        Open Yard (Countryside)    0.000000\n",
      "large   both flat and garden       0.519022\n",
      "        garden                     0.467391\n",
      "        flat                       0.013587\n",
      "        Unknown History            0.000000\n",
      "        Open Yard (Countryside)    0.000000\n",
      "Name: keep_in, dtype: float64\n"
     ]
    },
    {
     "name": "stderr",
     "output_type": "stream",
     "text": [
      "/Users/Hakan.Ozler/Desktop/notebooks/datacamp/Working with Categorical Data in Python/venv/lib/python3.9/site-packages/pandas/core/arrays/categorical.py:2630: FutureWarning: The `inplace` parameter in pandas.Categorical.reorder_categories is deprecated and will be removed in a future version. Removing unused categories will always return a new Categorical object.\n",
      "  res = method(*args, **kwargs)\n"
     ]
    }
   ],
   "source": [
    "\n",
    "dogs[\"size\"].cat.reorder_categories(\n",
    "  new_categories=[\"small\", \"medium\", \"large\"],\n",
    "  ordered=True,\n",
    "  inplace=True\n",
    ")\n",
    "\n",
    "\n",
    "print(dogs.groupby(\"size\")[\"sex\"].value_counts())\n",
    "\n",
    "\n",
    "print(dogs.groupby(\"size\")[\"keep_in\"].value_counts(normalize=True))"
   ]
  },
  {
   "cell_type": "markdown",
   "id": "24557fae-0ec8-42f5-87cc-f01ebb9d241a",
   "metadata": {},
   "source": [
    "### Cleaning variables"
   ]
  },
  {
   "cell_type": "code",
   "execution_count": 59,
   "id": "b2d53346-0a67-41a8-89b4-f9ec5b405798",
   "metadata": {},
   "outputs": [
    {
     "name": "stdout",
     "output_type": "stream",
     "text": [
      "male      1681\n",
      "female    1256\n",
      "Name: sex, dtype: int64\n"
     ]
    }
   ],
   "source": [
    "\n",
    "replace_map = {\"Malez\": \"male\"}\n",
    "\n",
    "\n",
    "dogs[\"sex\"] = dogs[\"sex\"].replace(replace_map)\n",
    "\n",
    "\n",
    "dogs[\"sex\"] = dogs[\"sex\"].str.strip()\n",
    "\n",
    "\n",
    "dogs[\"sex\"] = dogs[\"sex\"].str.lower()\n",
    "\n",
    "\n",
    "dogs[\"sex\"] = dogs[\"sex\"].astype('category')\n",
    "\n",
    "print(dogs[\"sex\"].value_counts())"
   ]
  },
  {
   "cell_type": "markdown",
   "id": "8f72274a-9ea0-47fe-aa1f-612651a12820",
   "metadata": {},
   "source": [
    "### Accessing and filtering data"
   ]
  },
  {
   "cell_type": "code",
   "execution_count": 60,
   "id": "1f6820bb-d1e6-4065-bfdb-c6c1e4e565a6",
   "metadata": {},
   "outputs": [
    {
     "data": {
      "text/html": [
       "<div>\n",
       "<style scoped>\n",
       "    .dataframe tbody tr th:only-of-type {\n",
       "        vertical-align: middle;\n",
       "    }\n",
       "\n",
       "    .dataframe tbody tr th {\n",
       "        vertical-align: top;\n",
       "    }\n",
       "\n",
       "    .dataframe thead th {\n",
       "        text-align: right;\n",
       "    }\n",
       "</style>\n",
       "<table border=\"1\" class=\"dataframe\">\n",
       "  <thead>\n",
       "    <tr style=\"text-align: right;\">\n",
       "      <th></th>\n",
       "      <th>ID</th>\n",
       "      <th>name</th>\n",
       "      <th>age</th>\n",
       "      <th>sex</th>\n",
       "      <th>breed</th>\n",
       "      <th>date_found</th>\n",
       "      <th>adoptable_from</th>\n",
       "      <th>posted</th>\n",
       "      <th>color</th>\n",
       "      <th>coat</th>\n",
       "      <th>size</th>\n",
       "      <th>neutered</th>\n",
       "      <th>housebroken</th>\n",
       "      <th>likes_people</th>\n",
       "      <th>likes_children</th>\n",
       "      <th>get_along_males</th>\n",
       "      <th>get_along_females</th>\n",
       "      <th>get_along_cats</th>\n",
       "      <th>keep_in</th>\n",
       "      <th>coat_collapsed</th>\n",
       "    </tr>\n",
       "  </thead>\n",
       "  <tbody>\n",
       "    <tr>\n",
       "      <th>0</th>\n",
       "      <td>23807</td>\n",
       "      <td>Gida</td>\n",
       "      <td>0.25</td>\n",
       "      <td>female</td>\n",
       "      <td>Unknown Mix</td>\n",
       "      <td>12/10/19</td>\n",
       "      <td>12/11/19</td>\n",
       "      <td>12/11/19</td>\n",
       "      <td>red</td>\n",
       "      <td>short</td>\n",
       "      <td>small</td>\n",
       "      <td>no</td>\n",
       "      <td>NaN</td>\n",
       "      <td>NaN</td>\n",
       "      <td>NaN</td>\n",
       "      <td>NaN</td>\n",
       "      <td>NaN</td>\n",
       "      <td>NaN</td>\n",
       "      <td>NaN</td>\n",
       "      <td>short</td>\n",
       "    </tr>\n",
       "    <tr>\n",
       "      <th>1</th>\n",
       "      <td>533</td>\n",
       "      <td>Frida És Ricsi</td>\n",
       "      <td>0.17</td>\n",
       "      <td>female</td>\n",
       "      <td>Unknown Mix</td>\n",
       "      <td>12/1/19</td>\n",
       "      <td>12/1/19</td>\n",
       "      <td>12/9/19</td>\n",
       "      <td>black and white</td>\n",
       "      <td>short</td>\n",
       "      <td>small</td>\n",
       "      <td>no</td>\n",
       "      <td>NaN</td>\n",
       "      <td>yes</td>\n",
       "      <td>YES</td>\n",
       "      <td>yes</td>\n",
       "      <td>yes</td>\n",
       "      <td>yes</td>\n",
       "      <td>NaN</td>\n",
       "      <td>short</td>\n",
       "    </tr>\n",
       "    <tr>\n",
       "      <th>2</th>\n",
       "      <td>23793</td>\n",
       "      <td>NaN</td>\n",
       "      <td>4.00</td>\n",
       "      <td>male</td>\n",
       "      <td>Unknown Mix</td>\n",
       "      <td>12/8/19</td>\n",
       "      <td>12/23/19</td>\n",
       "      <td>12/8/19</td>\n",
       "      <td>saddle back</td>\n",
       "      <td>short</td>\n",
       "      <td>medium</td>\n",
       "      <td>no</td>\n",
       "      <td>NaN</td>\n",
       "      <td>NaN</td>\n",
       "      <td>NaN</td>\n",
       "      <td>NaN</td>\n",
       "      <td>NaN</td>\n",
       "      <td>NaN</td>\n",
       "      <td>NaN</td>\n",
       "      <td>short</td>\n",
       "    </tr>\n",
       "    <tr>\n",
       "      <th>3</th>\n",
       "      <td>23795</td>\n",
       "      <td>NaN</td>\n",
       "      <td>1.00</td>\n",
       "      <td>male</td>\n",
       "      <td>Unknown Mix</td>\n",
       "      <td>12/8/19</td>\n",
       "      <td>12/23/19</td>\n",
       "      <td>12/8/19</td>\n",
       "      <td>yellow-brown</td>\n",
       "      <td>medium</td>\n",
       "      <td>medium</td>\n",
       "      <td>no</td>\n",
       "      <td>NaN</td>\n",
       "      <td>NaN</td>\n",
       "      <td>NaN</td>\n",
       "      <td>NaN</td>\n",
       "      <td>NaN</td>\n",
       "      <td>NaN</td>\n",
       "      <td>NaN</td>\n",
       "      <td>medium</td>\n",
       "    </tr>\n",
       "    <tr>\n",
       "      <th>4</th>\n",
       "      <td>23806</td>\n",
       "      <td>Amy</td>\n",
       "      <td>2.00</td>\n",
       "      <td>female</td>\n",
       "      <td>French Bulldog Mix</td>\n",
       "      <td>12/10/19</td>\n",
       "      <td>12/11/19</td>\n",
       "      <td>12/11/19</td>\n",
       "      <td>black</td>\n",
       "      <td>short</td>\n",
       "      <td>small</td>\n",
       "      <td>no</td>\n",
       "      <td>NaN</td>\n",
       "      <td>NaN</td>\n",
       "      <td>NaN</td>\n",
       "      <td>NaN</td>\n",
       "      <td>NaN</td>\n",
       "      <td>NaN</td>\n",
       "      <td>NaN</td>\n",
       "      <td>short</td>\n",
       "    </tr>\n",
       "  </tbody>\n",
       "</table>\n",
       "</div>"
      ],
      "text/plain": [
       "      ID            name   age     sex               breed date_found  \\\n",
       "0  23807            Gida  0.25  female         Unknown Mix   12/10/19   \n",
       "1    533  Frida És Ricsi  0.17  female         Unknown Mix    12/1/19   \n",
       "2  23793             NaN  4.00    male         Unknown Mix    12/8/19   \n",
       "3  23795             NaN  1.00    male         Unknown Mix    12/8/19   \n",
       "4  23806             Amy  2.00  female  French Bulldog Mix   12/10/19   \n",
       "\n",
       "  adoptable_from    posted            color    coat    size neutered  \\\n",
       "0       12/11/19  12/11/19              red   short   small       no   \n",
       "1        12/1/19   12/9/19  black and white   short   small       no   \n",
       "2       12/23/19   12/8/19      saddle back   short  medium       no   \n",
       "3       12/23/19   12/8/19     yellow-brown  medium  medium       no   \n",
       "4       12/11/19  12/11/19            black   short   small       no   \n",
       "\n",
       "  housebroken likes_people likes_children get_along_males get_along_females  \\\n",
       "0         NaN          NaN            NaN             NaN               NaN   \n",
       "1         NaN          yes            YES             yes               yes   \n",
       "2         NaN          NaN            NaN             NaN               NaN   \n",
       "3         NaN          NaN            NaN             NaN               NaN   \n",
       "4         NaN          NaN            NaN             NaN               NaN   \n",
       "\n",
       "  get_along_cats keep_in coat_collapsed  \n",
       "0            NaN     NaN          short  \n",
       "1            yes     NaN          short  \n",
       "2            NaN     NaN          short  \n",
       "3            NaN     NaN         medium  \n",
       "4            NaN     NaN          short  "
      ]
     },
     "execution_count": 60,
     "metadata": {},
     "output_type": "execute_result"
    }
   ],
   "source": [
    "dogs.head()"
   ]
  },
  {
   "cell_type": "code",
   "execution_count": 61,
   "id": "382d92da-0791-4ace-aa73-aed02c62be77",
   "metadata": {},
   "outputs": [],
   "source": [
    "dogs['coat'] = dogs['coat'].astype('category')"
   ]
  },
  {
   "cell_type": "code",
   "execution_count": 62,
   "id": "4c059183-d5e9-4035-b4dc-15e37a7d2b04",
   "metadata": {},
   "outputs": [
    {
     "name": "stdout",
     "output_type": "stream",
     "text": [
      "0    short\n",
      "Name: coat, dtype: category\n",
      "Categories (4, object): ['long', 'medium', 'short', 'wirehaired']\n"
     ]
    }
   ],
   "source": [
    "\n",
    "print(dogs.loc[dogs['ID'] == 23807, \"coat\"])"
   ]
  },
  {
   "cell_type": "code",
   "execution_count": 63,
   "id": "a3d2712e-d25b-4b98-b512-59d5badd71b2",
   "metadata": {},
   "outputs": [
    {
     "name": "stdout",
     "output_type": "stream",
     "text": [
      "male      124\n",
      "female     56\n",
      "Name: sex, dtype: int64\n"
     ]
    }
   ],
   "source": [
    "\n",
    "print(dogs.loc[dogs['coat'] == 'long', \"sex\"].value_counts())"
   ]
  },
  {
   "cell_type": "code",
   "execution_count": 64,
   "id": "9d01875c-6f29-49ff-b2bf-f3710b782aec",
   "metadata": {},
   "outputs": [
    {
     "name": "stdout",
     "output_type": "stream",
     "text": [
      "8.186153846153847\n"
     ]
    }
   ],
   "source": [
    "\n",
    "print(dogs.loc[dogs['breed'] == \"English Cocker Spaniel\", \"age\"].mean())"
   ]
  },
  {
   "cell_type": "code",
   "execution_count": 65,
   "id": "7fde66d1-75df-4332-929a-af094112e01b",
   "metadata": {},
   "outputs": [
    {
     "name": "stdout",
     "output_type": "stream",
     "text": [
      "35\n"
     ]
    }
   ],
   "source": [
    "\n",
    "print(dogs[dogs[\"breed\"].str.contains('English', regex=False)].shape[0])"
   ]
  },
  {
   "cell_type": "markdown",
   "id": "df344cdf-2528-426a-b4e2-30d97b475b7d",
   "metadata": {},
   "source": [
    "## Visualizing Categorical Data"
   ]
  },
  {
   "cell_type": "code",
   "execution_count": 66,
   "id": "aa24ed55-1c80-498d-a9b2-545c03e4d9c4",
   "metadata": {},
   "outputs": [],
   "source": [
    "import seaborn as sns"
   ]
  },
  {
   "cell_type": "code",
   "execution_count": 67,
   "id": "4adb94ea-f39d-479e-8332-767e918b68e4",
   "metadata": {},
   "outputs": [],
   "source": [
    "import matplotlib.pyplot as plt"
   ]
  },
  {
   "cell_type": "code",
   "execution_count": 68,
   "id": "637d49d0-5472-47a9-8dab-f1225cf3638b",
   "metadata": {},
   "outputs": [],
   "source": [
    "df = pd.read_csv('lasvegas_tripadvisor.csv')"
   ]
  },
  {
   "cell_type": "code",
   "execution_count": 69,
   "id": "27850736-a88f-45e7-aca0-01b0b42eb6f6",
   "metadata": {},
   "outputs": [
    {
     "data": {
      "text/html": [
       "<div>\n",
       "<style scoped>\n",
       "    .dataframe tbody tr th:only-of-type {\n",
       "        vertical-align: middle;\n",
       "    }\n",
       "\n",
       "    .dataframe tbody tr th {\n",
       "        vertical-align: top;\n",
       "    }\n",
       "\n",
       "    .dataframe thead th {\n",
       "        text-align: right;\n",
       "    }\n",
       "</style>\n",
       "<table border=\"1\" class=\"dataframe\">\n",
       "  <thead>\n",
       "    <tr style=\"text-align: right;\">\n",
       "      <th></th>\n",
       "      <th>User country</th>\n",
       "      <th>Nr. reviews</th>\n",
       "      <th>Nr. hotel reviews</th>\n",
       "      <th>Helpful votes</th>\n",
       "      <th>Score</th>\n",
       "      <th>Period of stay</th>\n",
       "      <th>Traveler type</th>\n",
       "      <th>Pool</th>\n",
       "      <th>Gym</th>\n",
       "      <th>Tennis court</th>\n",
       "      <th>Spa</th>\n",
       "      <th>Casino</th>\n",
       "      <th>Free internet</th>\n",
       "      <th>Hotel name</th>\n",
       "      <th>Hotel stars</th>\n",
       "      <th>Nr. rooms</th>\n",
       "      <th>User continent</th>\n",
       "      <th>Member years</th>\n",
       "      <th>Review month</th>\n",
       "      <th>Review weekday</th>\n",
       "    </tr>\n",
       "  </thead>\n",
       "  <tbody>\n",
       "    <tr>\n",
       "      <th>0</th>\n",
       "      <td>USA</td>\n",
       "      <td>11</td>\n",
       "      <td>4</td>\n",
       "      <td>13</td>\n",
       "      <td>5</td>\n",
       "      <td>Dec-Feb</td>\n",
       "      <td>Friends</td>\n",
       "      <td>NO</td>\n",
       "      <td>YES</td>\n",
       "      <td>NO</td>\n",
       "      <td>NO</td>\n",
       "      <td>YES</td>\n",
       "      <td>YES</td>\n",
       "      <td>Circus Circus Hotel &amp; Casino Las Vegas</td>\n",
       "      <td>3</td>\n",
       "      <td>3773</td>\n",
       "      <td>North America</td>\n",
       "      <td>9</td>\n",
       "      <td>January</td>\n",
       "      <td>Thursday</td>\n",
       "    </tr>\n",
       "    <tr>\n",
       "      <th>1</th>\n",
       "      <td>USA</td>\n",
       "      <td>119</td>\n",
       "      <td>21</td>\n",
       "      <td>75</td>\n",
       "      <td>3</td>\n",
       "      <td>Dec-Feb</td>\n",
       "      <td>Business</td>\n",
       "      <td>NO</td>\n",
       "      <td>YES</td>\n",
       "      <td>NO</td>\n",
       "      <td>NO</td>\n",
       "      <td>YES</td>\n",
       "      <td>YES</td>\n",
       "      <td>Circus Circus Hotel &amp; Casino Las Vegas</td>\n",
       "      <td>3</td>\n",
       "      <td>3773</td>\n",
       "      <td>North America</td>\n",
       "      <td>3</td>\n",
       "      <td>January</td>\n",
       "      <td>Friday</td>\n",
       "    </tr>\n",
       "    <tr>\n",
       "      <th>2</th>\n",
       "      <td>USA</td>\n",
       "      <td>36</td>\n",
       "      <td>9</td>\n",
       "      <td>25</td>\n",
       "      <td>5</td>\n",
       "      <td>Mar-May</td>\n",
       "      <td>Families</td>\n",
       "      <td>NO</td>\n",
       "      <td>YES</td>\n",
       "      <td>NO</td>\n",
       "      <td>NO</td>\n",
       "      <td>YES</td>\n",
       "      <td>YES</td>\n",
       "      <td>Circus Circus Hotel &amp; Casino Las Vegas</td>\n",
       "      <td>3</td>\n",
       "      <td>3773</td>\n",
       "      <td>North America</td>\n",
       "      <td>2</td>\n",
       "      <td>February</td>\n",
       "      <td>Saturday</td>\n",
       "    </tr>\n",
       "    <tr>\n",
       "      <th>3</th>\n",
       "      <td>UK</td>\n",
       "      <td>14</td>\n",
       "      <td>7</td>\n",
       "      <td>14</td>\n",
       "      <td>4</td>\n",
       "      <td>Mar-May</td>\n",
       "      <td>Friends</td>\n",
       "      <td>NO</td>\n",
       "      <td>YES</td>\n",
       "      <td>NO</td>\n",
       "      <td>NO</td>\n",
       "      <td>YES</td>\n",
       "      <td>YES</td>\n",
       "      <td>Circus Circus Hotel &amp; Casino Las Vegas</td>\n",
       "      <td>3</td>\n",
       "      <td>3773</td>\n",
       "      <td>Europe</td>\n",
       "      <td>6</td>\n",
       "      <td>February</td>\n",
       "      <td>Friday</td>\n",
       "    </tr>\n",
       "    <tr>\n",
       "      <th>4</th>\n",
       "      <td>Canada</td>\n",
       "      <td>5</td>\n",
       "      <td>5</td>\n",
       "      <td>2</td>\n",
       "      <td>4</td>\n",
       "      <td>Mar-May</td>\n",
       "      <td>Solo</td>\n",
       "      <td>NO</td>\n",
       "      <td>YES</td>\n",
       "      <td>NO</td>\n",
       "      <td>NO</td>\n",
       "      <td>YES</td>\n",
       "      <td>YES</td>\n",
       "      <td>Circus Circus Hotel &amp; Casino Las Vegas</td>\n",
       "      <td>3</td>\n",
       "      <td>3773</td>\n",
       "      <td>North America</td>\n",
       "      <td>7</td>\n",
       "      <td>March</td>\n",
       "      <td>Tuesday</td>\n",
       "    </tr>\n",
       "  </tbody>\n",
       "</table>\n",
       "</div>"
      ],
      "text/plain": [
       "  User country  Nr. reviews  Nr. hotel reviews  Helpful votes  Score  \\\n",
       "0          USA           11                  4             13      5   \n",
       "1          USA          119                 21             75      3   \n",
       "2          USA           36                  9             25      5   \n",
       "3           UK           14                  7             14      4   \n",
       "4       Canada            5                  5              2      4   \n",
       "\n",
       "  Period of stay Traveler type Pool  Gym Tennis court Spa Casino  \\\n",
       "0        Dec-Feb       Friends   NO  YES           NO  NO    YES   \n",
       "1        Dec-Feb      Business   NO  YES           NO  NO    YES   \n",
       "2        Mar-May      Families   NO  YES           NO  NO    YES   \n",
       "3        Mar-May       Friends   NO  YES           NO  NO    YES   \n",
       "4        Mar-May          Solo   NO  YES           NO  NO    YES   \n",
       "\n",
       "  Free internet                              Hotel name  Hotel stars  \\\n",
       "0           YES  Circus Circus Hotel & Casino Las Vegas            3   \n",
       "1           YES  Circus Circus Hotel & Casino Las Vegas            3   \n",
       "2           YES  Circus Circus Hotel & Casino Las Vegas            3   \n",
       "3           YES  Circus Circus Hotel & Casino Las Vegas            3   \n",
       "4           YES  Circus Circus Hotel & Casino Las Vegas            3   \n",
       "\n",
       "   Nr. rooms User continent  Member years Review month Review weekday  \n",
       "0       3773  North America             9      January       Thursday  \n",
       "1       3773  North America             3      January         Friday  \n",
       "2       3773  North America             2     February       Saturday  \n",
       "3       3773         Europe             6     February         Friday  \n",
       "4       3773  North America             7        March        Tuesday  "
      ]
     },
     "execution_count": 69,
     "metadata": {},
     "output_type": "execute_result"
    }
   ],
   "source": [
    "df.head()"
   ]
  },
  {
   "cell_type": "code",
   "execution_count": 70,
   "id": "74eca835-8401-4fc7-b777-95a2b6989656",
   "metadata": {},
   "outputs": [
    {
     "data": {
      "image/png": "[encoded data removed]",
      "text/plain": [
       "<Figure size 360x360 with 1 Axes>"
      ]
     },
     "metadata": {},
     "output_type": "display_data"
    }
   ],
   "source": [
    "\n",
    "sns.set(font_scale=1.25)\n",
    "\n",
    "\n",
    "sns.set_style(\"darkgrid\")\n",
    "\n",
    "\n",
    "sns.catplot(x='Traveler type', y='Helpful votes', kind='box', data=df)\n",
    "\n",
    "plt.show()"
   ]
  },
  {
   "cell_type": "markdown",
   "id": "5c7dbc8d-c738-42f0-9c3b-0d023980b99b",
   "metadata": {},
   "source": [
    "### Creating a bar plot"
   ]
  },
  {
   "cell_type": "code",
   "execution_count": 71,
   "id": "1e65cc46-9459-446f-9823-d37a2477c7e7",
   "metadata": {},
   "outputs": [
    {
     "name": "stdout",
     "output_type": "stream",
     "text": [
      "Mar-May    128\n",
      "Jun-Aug    126\n",
      "Sep-Nov    126\n",
      "Dec-Feb    124\n",
      "Name: Period of stay, dtype: int64\n"
     ]
    },
    {
     "data": {
      "image/png": "[encoded data removed]",
      "text/plain": [
       "<Figure size 360x360 with 1 Axes>"
      ]
     },
     "metadata": {},
     "output_type": "display_data"
    }
   ],
   "source": [
    "\n",
    "print(df['Period of stay'].value_counts())\n",
    "\n",
    "sns.set(font_scale=1.4)\n",
    "sns.set_style(\"whitegrid\")\n",
    "\n",
    "\n",
    "sns.catplot(x='Period of stay', y='Helpful votes', kind='bar', data=df)\n",
    "plt.show()"
   ]
  },
  {
   "cell_type": "markdown",
   "id": "27eaa876-662f-43b2-9dfb-5e790a44e1a2",
   "metadata": {},
   "source": [
    "### Ordering categories"
   ]
  },
  {
   "cell_type": "code",
   "execution_count": 72,
   "id": "1fbfc4fa-23e2-49e5-bc26-a140c880bb3d",
   "metadata": {},
   "outputs": [
    {
     "data": {
      "image/png": "[encoded data removed]",
      "text/plain": [
       "<Figure size 360x360 with 1 Axes>"
      ]
     },
     "metadata": {},
     "output_type": "display_data"
    }
   ],
   "source": [
    "\n",
    "sns.catplot(x='User continent', y='Score', data=df, kind='bar')\n",
    "plt.show()"
   ]
  },
  {
   "cell_type": "code",
   "execution_count": 73,
   "id": "a4fcf4d8-2cdd-4bf7-ad39-fcab8ab07684",
   "metadata": {},
   "outputs": [
    {
     "name": "stdout",
     "output_type": "stream",
     "text": [
      "North America    295\n",
      "Europe           118\n",
      "Oceania           41\n",
      "Asia              36\n",
      "Africa             7\n",
      "South America      7\n",
      "Name: User continent, dtype: int64\n"
     ]
    }
   ],
   "source": [
    "\n",
    "print(df['User continent'].value_counts())"
   ]
  },
  {
   "cell_type": "code",
   "execution_count": 74,
   "id": "de07dd67-5824-45a9-af27-f302fa23eb60",
   "metadata": {},
   "outputs": [
    {
     "data": {
      "image/png": "[encoded data removed]",
      "text/plain": [
       "<Figure size 360x360 with 1 Axes>"
      ]
     },
     "metadata": {},
     "output_type": "display_data"
    }
   ],
   "source": [
    "\n",
    "df[\"User continent\"] = df[\"User continent\"].astype('category')\n",
    "sns.catplot(x='User continent', y=\"Score\", data=df, kind=\"bar\")\n",
    "plt.show()"
   ]
  },
  {
   "cell_type": "code",
   "execution_count": 75,
   "id": "3832e5df-1cb5-4281-9af8-eba6249349a2",
   "metadata": {},
   "outputs": [
    {
     "data": {
      "text/plain": [
       "North America    295\n",
       "Europe           118\n",
       "Oceania           41\n",
       "Asia              36\n",
       "Africa             7\n",
       "South America      7\n",
       "Name: User continent, dtype: int64"
      ]
     },
     "execution_count": 75,
     "metadata": {},
     "output_type": "execute_result"
    }
   ],
   "source": [
    "df[\"User continent\"].value_counts()"
   ]
  },
  {
   "cell_type": "code",
   "execution_count": 76,
   "id": "6b912139-8477-4c3e-9fa5-bc2af32b6e69",
   "metadata": {},
   "outputs": [
    {
     "data": {
      "text/plain": [
       "0      North America\n",
       "1      North America\n",
       "2      North America\n",
       "3             Europe\n",
       "4      North America\n",
       "           ...      \n",
       "499           Europe\n",
       "500    North America\n",
       "501    North America\n",
       "502    North America\n",
       "503    North America\n",
       "Name: User continent, Length: 504, dtype: category\n",
       "Categories (6, object): ['Africa', 'Asia', 'Europe', 'North America', 'Oceania', 'South America']"
      ]
     },
     "execution_count": 76,
     "metadata": {},
     "output_type": "execute_result"
    }
   ],
   "source": [
    "df[\"User continent\"]"
   ]
  },
  {
   "cell_type": "code",
   "execution_count": 77,
   "id": "13123512-ea8f-4103-b72e-7d5d5932d034",
   "metadata": {},
   "outputs": [
    {
     "data": {
      "image/png": "[encoded data removed]",
      "text/plain": [
       "<Figure size 360x360 with 1 Axes>"
      ]
     },
     "metadata": {},
     "output_type": "display_data"
    }
   ],
   "source": [
    "\n",
    "continent_categories = list(df[\"User continent\"].value_counts().index)\n",
    "\n",
    "df[\"User continent\"] = df[\"User continent\"].cat.reorder_categories(new_categories=continent_categories)\n",
    "\n",
    "sns.catplot(x=\"User continent\", y=\"Score\", data=df, kind=\"bar\")\n",
    "plt.show()"
   ]
  },
  {
   "cell_type": "markdown",
   "id": "d927fa7c-9831-4dad-92fc-608bd26955cc",
   "metadata": {},
   "source": [
    "### Bar plot using hue"
   ]
  },
  {
   "cell_type": "code",
   "execution_count": 78,
   "id": "14358f6b-a20e-4dbd-86c6-6066025806c3",
   "metadata": {},
   "outputs": [
    {
     "data": {
      "image/png": "[encoded data removed]",
      "text/plain": [
       "<Figure size 467.57x360 with 1 Axes>"
      ]
     },
     "metadata": {},
     "output_type": "display_data"
    }
   ],
   "source": [
    "\n",
    "\n",
    "sns.catplot(x='Casino', y=\"Score\", data=df, kind=\"bar\", hue='Free internet')\n",
    "plt.show()"
   ]
  },
  {
   "cell_type": "code",
   "execution_count": 79,
   "id": "3c5040ba-a776-40ce-9175-45ceb92da4c2",
   "metadata": {},
   "outputs": [
    {
     "data": {
      "image/png": "[encoded data removed]",
      "text/plain": [
       "<Figure size 446.065x360 with 1 Axes>"
      ]
     },
     "metadata": {},
     "output_type": "display_data"
    }
   ],
   "source": [
    "\n",
    "sns.catplot(x='Free internet', y=\"Score\", data=df, kind=\"bar\", hue='Casino')\n",
    "plt.show()"
   ]
  },
  {
   "cell_type": "code",
   "execution_count": 80,
   "id": "c0d9dc03-f67a-497a-95b2-7bc43db77a14",
   "metadata": {},
   "outputs": [
    {
     "data": {
      "image/png": "[encoded data removed]",
      "text/plain": [
       "<Figure size 415.265x360 with 1 Axes>"
      ]
     },
     "metadata": {},
     "output_type": "display_data"
    }
   ],
   "source": [
    "sns.set(font_scale=0.9)\n",
    "sns.catplot(x='User continent', y=\"Score\", data=df, kind=\"bar\", hue=\"Casino\")\n",
    "plt.show()"
   ]
  },
  {
   "cell_type": "markdown",
   "id": "db8927fd-e4f4-46e4-a9ca-fe639bc38771",
   "metadata": {},
   "source": [
    "### Creating a point plot"
   ]
  },
  {
   "cell_type": "code",
   "execution_count": 81,
   "id": "fcc77f4d-3360-4d38-911a-c815751e1b75",
   "metadata": {},
   "outputs": [
    {
     "data": {
      "image/png": "[encoded data removed]",
      "text/plain": [
       "<Figure size 415.265x360 with 1 Axes>"
      ]
     },
     "metadata": {},
     "output_type": "display_data"
    }
   ],
   "source": [
    "\n",
    "sns.catplot(\n",
    "  \n",
    "  x='Hotel stars',\n",
    "  y='Nr. reviews',\n",
    "  data=df,\n",
    "  \n",
    "  kind='point',\n",
    "  hue=\"Pool\",\n",
    "  \n",
    "  dodge=True\n",
    ")\n",
    "plt.show()"
   ]
  },
  {
   "cell_type": "code",
   "execution_count": 82,
   "id": "f101f08d-03bd-4dd8-9985-a5fba155a8a7",
   "metadata": {},
   "outputs": [
    {
     "data": {
      "text/plain": [
       "<seaborn.axisgrid.FacetGrid at 0x7f8dae266eb0>"
      ]
     },
     "execution_count": 82,
     "metadata": {},
     "output_type": "execute_result"
    },
    {
     "data": {
      "image/png": "[encoded data removed]",
      "text/plain": [
       "<Figure size 360x360 with 1 Axes>"
      ]
     },
     "metadata": {},
     "output_type": "display_data"
    }
   ],
   "source": [
    "sns.catplot(\n",
    "    x='Hotel stars',\n",
    "    kind='count',\n",
    "    data=df\n",
    ")"
   ]
  },
  {
   "cell_type": "markdown",
   "id": "a07654f3-c343-4551-983d-d2bb4f0e3d27",
   "metadata": {},
   "source": [
    "### Creating a count plot"
   ]
  },
  {
   "cell_type": "code",
   "execution_count": 83,
   "id": "67725334-20b7-465f-8855-23c2fa6c223c",
   "metadata": {},
   "outputs": [
    {
     "data": {
      "image/png": "[encoded data removed]",
      "text/plain": [
       "<Figure size 435.89x360 with 1 Axes>"
      ]
     },
     "metadata": {},
     "output_type": "display_data"
    }
   ],
   "source": [
    "\n",
    "sns.catplot(\n",
    "  x='Score',\n",
    "  kind='count',\n",
    "  hue='Traveler type',\n",
    "  data=df\n",
    ")\n",
    "plt.show()"
   ]
  },
  {
   "cell_type": "markdown",
   "id": "bde860fa-f505-43d2-9a8c-7aa65af3d089",
   "metadata": {},
   "source": [
    "1. a graphical form of a frequency table. count \n",
    "2. has the parameters, join and dodge, which can update the look of the lines in the plot. point\n",
    "3. can be used to see the distribution and outliers of a numeric column. box\n",
    "4. is similar to a point plot and can be used to see the central tendency of numerical data. bar"
   ]
  },
  {
   "cell_type": "markdown",
   "id": "a327d095-18d2-4133-bbad-fa22b30d92c9",
   "metadata": {},
   "source": [
    "### One visualization per group"
   ]
  },
  {
   "cell_type": "code",
   "execution_count": 84,
   "id": "ea73db43-4bd3-4933-99a8-2dbe69e82f85",
   "metadata": {},
   "outputs": [
    {
     "data": {
      "image/png": "[encoded data removed]",
      "text/plain": [
       "<Figure size 720x720 with 4 Axes>"
      ]
     },
     "metadata": {},
     "output_type": "display_data"
    }
   ],
   "source": [
    "\n",
    "ax = sns.catplot(\n",
    "  \n",
    "  x='Review weekday',\n",
    "  \n",
    "  col='Period of stay',\n",
    "  \n",
    "  kind='count',\n",
    "  \n",
    "  col_wrap=2,\n",
    "  data=df\n",
    ")\n",
    "plt.show()"
   ]
  },
  {
   "cell_type": "markdown",
   "id": "67394167-aa9c-4281-ab05-b47a81853387",
   "metadata": {},
   "source": [
    "### Updating categorical plots"
   ]
  },
  {
   "cell_type": "code",
   "execution_count": 85,
   "id": "6225c27d-e047-49ac-988f-dff546fceddf",
   "metadata": {},
   "outputs": [
    {
     "data": {
      "image/png": "[encoded data removed]",
      "text/plain": [
       "<Figure size 435.89x360 with 1 Axes>"
      ]
     },
     "metadata": {},
     "output_type": "display_data"
    }
   ],
   "source": [
    "\n",
    "ax = sns.catplot(\n",
    "    x=\"Free internet\", \n",
    "    y=\"Score\",\n",
    "    hue=\"Traveler type\", \n",
    "    kind=\"bar\",\n",
    "    data=df,\n",
    "    palette=sns.color_palette(\"Set2\")\n",
    ")\n",
    "\n",
    "\n",
    "ax.fig.suptitle(\"Hotel Score by Traveler Type and Free Internet Access\")\n",
    "\n",
    "ax.set_axis_labels(\"Free Internet\", \"Average Review Rating\")\n",
    "\n",
    "\n",
    "plt.subplots_adjust(top=0.93)\n",
    "plt.show()"
   ]
  },
  {
   "cell_type": "code",
   "execution_count": 86,
   "id": "7d553122-bbf4-4cf4-a43b-b1764547a744",
   "metadata": {},
   "outputs": [
    {
     "data": {
      "image/png": "[encoded data removed]",
      "text/plain": [
       "<Figure size 1080x720 with 5 Axes>"
      ]
     },
     "metadata": {},
     "output_type": "display_data"
    }
   ],
   "source": [
    "\n",
    "ax = sns.catplot(\n",
    "    col=\"Traveler type\",\n",
    "    x=\"Free internet\", \n",
    "    kind=\"count\",\n",
    "    data=df,\n",
    "    palette=sns.color_palette(\"Set2\"),\n",
    "    col_wrap=3\n",
    ")\n",
    "\n",
    "\n",
    "ax.fig.suptitle(\"Hotel Score by Traveler Type and Free Internet Access\")\n",
    "\n",
    "ax.set_axis_labels(\"Free Internet\", \"Average Review Rating\")\n",
    "\n",
    "\n",
    "plt.subplots_adjust(top=0.93)\n",
    "plt.show()"
   ]
  },
  {
   "cell_type": "code",
   "execution_count": 87,
   "id": "492d134e-0e1d-4666-8aa2-abc2f0ede200",
   "metadata": {},
   "outputs": [
    {
     "data": {
      "image/png": "[encoded data removed]",
      "text/plain": [
       "<Figure size 720x1080 with 5 Axes>"
      ]
     },
     "metadata": {},
     "output_type": "display_data"
    }
   ],
   "source": [
    "\n",
    "ax = sns.catplot(\n",
    "    col=\"Score\",\n",
    "    x=\"Traveler type\", \n",
    "    kind=\"count\",\n",
    "    data=df,\n",
    "    palette=sns.color_palette(\"Set2\"),\n",
    "    col_wrap=2\n",
    ")\n",
    "\n",
    "\n",
    "ax.fig.suptitle(\"Hotel Score by Traveler Type and Score\")\n",
    "\n",
    "ax.set_axis_labels(\"Traveler type\", \"Score\")\n",
    "\n",
    "\n",
    "plt.subplots_adjust(top=0.93)\n",
    "plt.show()"
   ]
  },
  {
   "cell_type": "markdown",
   "id": "2a1fb647-ad53-4aad-a005-0c06fb950a29",
   "metadata": {},
   "source": [
    "## Pitfalls and Encoding"
   ]
  },
  {
   "cell_type": "markdown",
   "id": "708f9597-8433-4c14-88e5-66141da8798e",
   "metadata": {},
   "source": [
    "### Overcoming pitfalls: string issues"
   ]
  },
  {
   "cell_type": "code",
   "execution_count": 131,
   "id": "dcb7cc1f-8550-4741-a180-506c732bba99",
   "metadata": {},
   "outputs": [],
   "source": [
    "used_cars = pd.read_csv('cars.csv')"
   ]
  },
  {
   "cell_type": "code",
   "execution_count": 132,
   "id": "c4e0900c-fadf-4852-bedc-0ac6e0d5b4ca",
   "metadata": {},
   "outputs": [
    {
     "name": "stdout",
     "output_type": "stream",
     "text": [
      "sedan        13011\n",
      "hatchback     7644\n",
      "universal     5507\n",
      "suv           5164\n",
      "minivan       3608\n",
      "minibus       1369\n",
      "van            808\n",
      "coupe          652\n",
      "liftback       552\n",
      "pickup         129\n",
      "cabriolet       75\n",
      "limousine       12\n",
      "Name: body_type, dtype: int64\n",
      "object\n"
     ]
    }
   ],
   "source": [
    "\n",
    "print(used_cars[\"body_type\"].value_counts(dropna=False))\n",
    "\n",
    "\n",
    "used_cars.loc[used_cars[\"body_type\"].isna(), \"body_type\"] = \"other\"\n",
    "\n",
    "\n",
    "used_cars[\"body_type\"] = used_cars[\"body_type\"].str.title()\n",
    "\n",
    "\n",
    "print(used_cars[\"body_type\"].dtype)"
   ]
  },
  {
   "cell_type": "markdown",
   "id": "92b78fa8-9676-42dd-b5fb-2f230ea480f1",
   "metadata": {},
   "source": [
    "### Create a label encoding and map"
   ]
  },
  {
   "cell_type": "code",
   "execution_count": 133,
   "id": "21c952ad-efe6-4e4f-bbde-75d68c660e36",
   "metadata": {},
   "outputs": [
    {
     "name": "stdout",
     "output_type": "stream",
     "text": [
      "black     7705\n",
      "silver    6852\n",
      "blue      5802\n",
      "white     4212\n",
      "grey      3751\n",
      "red       2925\n",
      "green     2760\n",
      "other     2688\n",
      "brown      886\n",
      "violet     463\n",
      "yellow     303\n",
      "orange     184\n",
      "Name: color, dtype: int64\n",
      "{8: 'silver', 1: 'blue', 7: 'red', 0: 'black', 4: 'grey', 6: 'other', 2: 'brown', 10: 'white', 3: 'green', 9: 'violet', 5: 'orange', 11: 'yellow'}\n"
     ]
    }
   ],
   "source": [
    "\n",
    "used_cars[\"color\"] = used_cars[\"color\"].astype(\"category\")\n",
    "print(used_cars[\"color\"].value_counts())\n",
    "\n",
    "\n",
    "used_cars[\"color_code\"] = used_cars[\"color\"].cat.codes\n",
    "\n",
    "\n",
    "codes = used_cars[\"color\"].cat.codes\n",
    "categories = used_cars[\"color\"]\n",
    "color_map = dict(zip(codes, categories))\n",
    "\n",
    "\n",
    "print(color_map)"
   ]
  },
  {
   "cell_type": "markdown",
   "id": "195d5c5a-6e95-4387-b7b4-c3c758505cd3",
   "metadata": {},
   "source": [
    "### Using saved mappings"
   ]
  },
  {
   "cell_type": "code",
   "execution_count": null,
   "id": "9e6f66e5-70ce-44d2-8a94-aa643b596754",
   "metadata": {},
   "outputs": [],
   "source": []
  },
  {
   "cell_type": "code",
   "execution_count": 134,
   "id": "8e3efd31-0d6c-400c-8794-96461b6382f9",
   "metadata": {},
   "outputs": [],
   "source": [
    "fuel_map = dict(zip(used_cars[\"engine_fuel\"].astype(\"category\").cat.codes, used_cars[\"engine_fuel\"].astype(\"category\")))\n",
    "transmission_map = dict(zip(used_cars[\"transmission\"].astype(\"category\").cat.codes, used_cars[\"transmission\"].astype(\"category\")))"
   ]
  },
  {
   "cell_type": "code",
   "execution_count": 135,
   "id": "b443ab2f-d4b5-4a29-af81-9e60d13ff1b6",
   "metadata": {},
   "outputs": [
    {
     "data": {
      "text/plain": [
       "{3: 'gasoline',\n",
       " 2: 'gas',\n",
       " 0: 'diesel',\n",
       " 5: 'hybrid-petrol',\n",
       " 4: 'hybrid-diesel',\n",
       " 1: 'electric'}"
      ]
     },
     "execution_count": 135,
     "metadata": {},
     "output_type": "execute_result"
    }
   ],
   "source": [
    "fuel_map"
   ]
  },
  {
   "cell_type": "code",
   "execution_count": 136,
   "id": "6dfaa756-aa68-4b1b-844a-1626fe959507",
   "metadata": {},
   "outputs": [
    {
     "data": {
      "text/plain": [
       "{0: 'automatic', 1: 'mechanical'}"
      ]
     },
     "execution_count": 136,
     "metadata": {},
     "output_type": "execute_result"
    }
   ],
   "source": [
    "transmission_map"
   ]
  },
  {
   "cell_type": "code",
   "execution_count": 137,
   "id": "2f0e94b8-7d47-44d9-804e-35d637c73e83",
   "metadata": {},
   "outputs": [
    {
     "name": "stdout",
     "output_type": "stream",
     "text": [
      "<class 'pandas.core.frame.DataFrame'>\n",
      "RangeIndex: 38531 entries, 0 to 38530\n",
      "Data columns (total 31 columns):\n",
      " #   Column             Non-Null Count  Dtype  \n",
      "---  ------             --------------  -----  \n",
      " 0   manufacturer_name  38531 non-null  object \n",
      " 1   model_name         38531 non-null  object \n",
      " 2   transmission       38531 non-null  object \n",
      " 3   color              38531 non-null  object \n",
      " 4   odometer_value     38531 non-null  int64  \n",
      " 5   year_produced      38531 non-null  int64  \n",
      " 6   engine_fuel        38531 non-null  object \n",
      " 7   engine_has_gas     38531 non-null  bool   \n",
      " 8   engine_type        38531 non-null  object \n",
      " 9   engine_capacity    38521 non-null  float64\n",
      " 10  body_type          38531 non-null  object \n",
      " 11  has_warranty       38531 non-null  bool   \n",
      " 12  state              38531 non-null  object \n",
      " 13  drivetrain         38531 non-null  object \n",
      " 14  price_usd          38531 non-null  float64\n",
      " 15  is_exchangeable    38531 non-null  bool   \n",
      " 16  location_region    38531 non-null  object \n",
      " 17  number_of_photos   38531 non-null  int64  \n",
      " 18  up_counter         38531 non-null  int64  \n",
      " 19  feature_0          38531 non-null  bool   \n",
      " 20  feature_1          38531 non-null  bool   \n",
      " 21  feature_2          38531 non-null  bool   \n",
      " 22  feature_3          38531 non-null  bool   \n",
      " 23  feature_4          38531 non-null  bool   \n",
      " 24  feature_5          38531 non-null  bool   \n",
      " 25  feature_6          38531 non-null  bool   \n",
      " 26  feature_7          38531 non-null  bool   \n",
      " 27  feature_8          38531 non-null  bool   \n",
      " 28  feature_9          38531 non-null  bool   \n",
      " 29  duration_listed    38531 non-null  int64  \n",
      " 30  color_code         38531 non-null  int8   \n",
      "dtypes: bool(13), float64(2), int64(5), int8(1), object(10)\n",
      "memory usage: 5.5+ MB\n",
      "None\n"
     ]
    }
   ],
   "source": [
    "\n",
    "used_cars[\"color\"] = used_cars['color'].cat.codes.map(color_map)\n",
    "\n",
    "used_cars[\"engine_fuel\"] = used_cars['engine_fuel'].astype(\"category\")\n",
    "used_cars[\"engine_fuel\"] = used_cars[\"engine_fuel\"].cat.codes\n",
    "used_cars[\"engine_fuel\"] = used_cars[\"engine_fuel\"].map(fuel_map)\n",
    "\n",
    "used_cars[\"transmission\"] = used_cars['transmission'].astype(\"category\")\n",
    "used_cars[\"transmission\"] = used_cars[\"transmission\"].cat.codes\n",
    "used_cars[\"transmission\"] = used_cars['transmission'].map(transmission_map)\n",
    "\n",
    "\n",
    "print(used_cars.info())"
   ]
  },
  {
   "cell_type": "markdown",
   "id": "4df06699-8c64-4116-a0e5-270045261337",
   "metadata": {},
   "source": [
    "### Creating a Boolean encoding"
   ]
  },
  {
   "cell_type": "code",
   "execution_count": 139,
   "id": "fdf9dd23-b4ab-472e-81d8-e33114fb23bb",
   "metadata": {},
   "outputs": [],
   "source": [
    "import numpy as np"
   ]
  },
  {
   "cell_type": "code",
   "execution_count": 140,
   "id": "bd8c711d-98fa-4693-966e-cbbe2026e8dc",
   "metadata": {},
   "outputs": [
    {
     "name": "stdout",
     "output_type": "stream",
     "text": [
      "Volkswagen       4243\n",
      "Opel             2759\n",
      "BMW              2610\n",
      "Ford             2566\n",
      "Renault          2493\n",
      "Audi             2468\n",
      "Mercedes-Benz    2237\n",
      "Peugeot          1909\n",
      "Citroen          1562\n",
      "Nissan           1361\n",
      "Mazda            1328\n",
      "Toyota           1246\n",
      "Hyundai          1116\n",
      "Skoda            1089\n",
      "Kia               912\n",
      "Mitsubishi        887\n",
      "Fiat              824\n",
      "Honda             797\n",
      "Volvo             721\n",
      "ВАЗ               481\n",
      "Chevrolet         436\n",
      "Chrysler          410\n",
      "Seat              303\n",
      "Dodge             297\n",
      "Subaru            291\n",
      "Rover             235\n",
      "Suzuki            234\n",
      "Daewoo            221\n",
      "Lexus             213\n",
      "Alfa Romeo        207\n",
      "ГАЗ               200\n",
      "Land Rover        184\n",
      "Infiniti          162\n",
      "LADA              146\n",
      "Iveco             139\n",
      "Saab              108\n",
      "Jeep              107\n",
      "Lancia             92\n",
      "SsangYong          79\n",
      "УАЗ                74\n",
      "Geely              71\n",
      "Mini               68\n",
      "Acura              66\n",
      "Porsche            61\n",
      "Dacia              59\n",
      "Chery              58\n",
      "Москвич            55\n",
      "Jaguar             53\n",
      "Buick              47\n",
      "Lifan              47\n",
      "Cadillac           43\n",
      "Pontiac            42\n",
      "ЗАЗ                42\n",
      "Lincoln            36\n",
      "Great Wall         36\n",
      "Name: manufacturer_name, dtype: int64\n",
      "0    34288\n",
      "1     4243\n",
      "Name: is_volkswagen, dtype: int64\n"
     ]
    }
   ],
   "source": [
    "\n",
    "print(used_cars[\"manufacturer_name\"].value_counts())\n",
    "\n",
    "\n",
    "used_cars[\"is_volkswagen\"] = np.where(\n",
    "  used_cars[\"manufacturer_name\"].str.contains(\"Volkswagen\", regex=False), 1, 0\n",
    ")\n",
    "  \n",
    "\n",
    "print(used_cars[\"is_volkswagen\"].value_counts())"
   ]
  },
  {
   "cell_type": "markdown",
   "id": "6855a803-8c50-4384-b08d-0b047b149b8a",
   "metadata": {},
   "source": [
    "### One-hot encoding specific columns"
   ]
  },
  {
   "cell_type": "code",
   "execution_count": 141,
   "id": "50bcff86-2c6c-432e-82ea-e2740c02f143",
   "metadata": {},
   "outputs": [
    {
     "name": "stdout",
     "output_type": "stream",
     "text": [
      "(38531, 87)\n"
     ]
    }
   ],
   "source": [
    "\n",
    "used_cars_simple = pd.get_dummies(\n",
    "  used_cars,\n",
    "  \n",
    "  columns=[\"manufacturer_name\", 'transmission'],\n",
    "  \n",
    "  prefix=\"dummy\"\n",
    ")\n",
    "\n",
    "\n",
    "print(used_cars_simple.shape)"
   ]
  },
  {
   "cell_type": "code",
   "execution_count": null,
   "id": "e0ccd61a-8c2e-497c-8c91-320d67354345",
   "metadata": {},
   "outputs": [],
   "source": []
  }
 ],
 "metadata": {
  "kernelspec": {
   "display_name": "Python 3 (ipykernel)",
   "language": "python",
   "name": "python3"
  },
  "language_info": {
   "codemirror_mode": {
    "name": "ipython",
    "version": 3
   },
   "file_extension": ".py",
   "mimetype": "text/x-python",
   "name": "python",
   "nbconvert_exporter": "python",
   "pygments_lexer": "ipython3",
   "version": "3.9.6"
  }
 },
 "nbformat": 4,
 "nbformat_minor": 5
}
