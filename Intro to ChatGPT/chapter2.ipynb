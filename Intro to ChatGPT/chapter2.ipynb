{
 "cells": [
  {
   "cell_type": "markdown",
   "id": "869be9f7-aa4f-4b10-82a7-f472f20b34fe",
   "metadata": {},
   "source": [
    "# Introduction to ChatGPT"
   ]
  },
  {
   "cell_type": "markdown",
   "id": "6ac1cd17-f0a7-439f-81a8-4223f8a276ea",
   "metadata": {},
   "source": [
    "## Adopting ChatGPT"
   ]
  },
  {
   "cell_type": "markdown",
   "id": "34c4d7d7-46cb-48c4-a641-5649523e4de3",
   "metadata": {},
   "source": [
    "### Generating marketing copy"
   ]
  },
  {
   "cell_type": "markdown",
   "id": "1ed2c500-e967-4998-90a4-7a82d90ecb19",
   "metadata": {},
   "source": [
    "Write a title for an article on ChatGPT for an online technology magazine.\n",
    "\n",
    "What should you do after generating this title with AI?"
   ]
  },
  {
   "cell_type": "code",
   "execution_count": null,
   "id": "f1b600c9-a746-4e70-94c2-37b0c6252860",
   "metadata": {},
   "outputs": [],
   "source": []
  }
 ],
 "metadata": {
  "kernelspec": {
   "display_name": "Python 3 (ipykernel)",
   "language": "python",
   "name": "python3"
  },
  "language_info": {
   "codemirror_mode": {
    "name": "ipython",
    "version": 3
   },
   "file_extension": ".py",
   "mimetype": "text/x-python",
   "name": "python",
   "nbconvert_exporter": "python",
   "pygments_lexer": "ipython3",
   "version": "3.8.0"
  }
 },
 "nbformat": 4,
 "nbformat_minor": 5
}
