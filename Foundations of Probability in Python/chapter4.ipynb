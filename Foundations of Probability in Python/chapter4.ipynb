{
 "cells": [
  {
   "cell_type": "markdown",
   "id": "226d8692-1139-47cd-8704-92fe1eaf7c30",
   "metadata": {},
   "source": [
    "# Probability meets statistics"
   ]
  },
  {
   "cell_type": "markdown",
   "id": "e8324a74-10bb-4278-9194-d2fbc2216530",
   "metadata": {},
   "source": [
    "## Generating a sample"
   ]
  },
  {
   "cell_type": "code",
   "execution_count": null,
   "id": "31456cf0-1d42-4ac2-b773-4022b0077e09",
   "metadata": {},
   "outputs": [],
   "source": [
    "\n",
    "from scipy.stats import binom\n",
    "\n",
    "\n",
    "sample = binom.rvs(n=1, p=0.505, size=250, random_state=42)\n",
    "\n",
    "\n",
    "print(sample)"
   ]
  }
 ],
 "metadata": {
  "kernelspec": {
   "display_name": "Python 3 (ipykernel)",
   "language": "python",
   "name": "python3"
  },
  "language_info": {
   "codemirror_mode": {
    "name": "ipython",
    "version": 3
   },
   "file_extension": ".py",
   "mimetype": "text/x-python",
   "name": "python",
   "nbconvert_exporter": "python",
   "pygments_lexer": "ipython3",
   "version": "3.8.0"
  }
 },
 "nbformat": 4,
 "nbformat_minor": 5
}
