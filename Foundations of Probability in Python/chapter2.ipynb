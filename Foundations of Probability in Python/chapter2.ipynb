{
 "cells": [
  {
   "cell_type": "markdown",
   "id": "835e6345-88fa-4df8-8ded-1a3a573235ff",
   "metadata": {},
   "source": [
    "## Calculate some probabilities"
   ]
  },
  {
   "cell_type": "markdown",
   "id": "b6e4eeaa-bd90-40c1-b9f4-d672e5f08f34",
   "metadata": {},
   "source": [
    "### Measuring a sample"
   ]
  },
  {
   "cell_type": "code",
   "execution_count": 1,
   "id": "4a6cbd72-d3f5-449b-aaaf-eecea59d1bc4",
   "metadata": {},
   "outputs": [],
   "source": [
    "import numpy as np"
   ]
  },
  {
   "cell_type": "code",
   "execution_count": 2,
   "id": "7748e099-5382-454c-8a60-8f05ce4a3f1d",
   "metadata": {},
   "outputs": [],
   "source": [
    "sample_of_two_coin_flips = np.array(\n",
    "    [1, 2, 1, 1, 0, 0, 0, 2, 1, 1, 0, 2, 2, 0, 0, 0, 1, 1, 1, 1, 1, 0,\n",
    "       1, 1, 1, 2, 0, 1, 1, 0, 1, 0, 0, 2, 2, 2, 1, 0, 1, 1, 0, 1, 0, 2,\n",
    "       1, 1, 1, 1, 1, 0, 2, 2, 2, 2, 1, 2, 0, 0, 0, 1, 1, 1, 2, 1, 1, 1,\n",
    "       0, 2, 0, 2, 2, 0, 0, 2, 1, 1, 2, 0, 1, 0, 2, 1, 1, 0, 1, 1, 1, 1,\n",
    "       2, 1, 0, 1, 2, 1, 2, 1, 1, 1, 0, 0, 0, 1, 1, 1, 2, 0, 1, 2, 0, 0,\n",
    "       1, 0, 2, 2, 1, 2, 2, 0, 2, 1, 2, 2, 1, 0, 0, 1, 2, 2, 0, 1, 1, 0,\n",
    "       0, 1, 2, 1, 1, 1, 1, 2, 2, 1, 1, 1, 1, 0, 1, 1, 0, 1, 2, 0, 0, 1,\n",
    "       2, 0, 1, 2, 0, 1, 1, 1, 1, 1, 0, 2, 1, 0, 0, 1, 1, 0, 1, 0, 1, 0,\n",
    "       1, 1, 2, 0, 1, 0, 2, 2, 1, 1, 2, 1, 1, 0, 0, 2, 2, 1, 1, 1, 1, 2,\n",
    "       2, 2, 1, 0, 0, 2, 1, 0, 0, 1, 0, 0, 1, 1, 1, 0, 1, 0, 1, 1, 1, 2,\n",
    "       1, 1, 0, 1, 1, 0, 2, 1, 2, 1, 2, 1, 1, 1, 0, 1, 1, 0, 1, 0, 2, 2,\n",
    "       2, 1, 0, 2, 1, 2, 2, 2, 1, 1, 2, 1, 0, 1, 2, 1, 1, 0, 1, 2, 0, 1,\n",
    "       2, 1, 1, 1, 1, 1, 2, 2, 2, 2, 1, 1, 2, 1, 1, 2, 2, 1, 1, 0, 1, 0,\n",
    "       1, 1, 1, 1, 0, 0, 2, 1, 0, 1, 2, 0, 1, 0, 0, 1, 1, 1, 1, 2, 1, 1,\n",
    "       2, 1, 1, 0, 0, 2, 2, 1, 1, 0, 0, 1, 1, 1, 1, 1, 2, 1, 1, 1, 1, 0,\n",
    "       1, 2, 0, 0, 0, 0, 2, 1, 1, 0, 1, 1, 0, 1, 1, 1, 1, 0, 1, 1, 1, 2,\n",
    "       1, 0, 0, 1, 0, 1, 2, 1, 1, 1, 1, 1, 2, 1, 2, 2, 0, 0, 0, 0, 0, 1,\n",
    "       0, 1, 2, 0, 2, 1, 0, 1, 1, 2, 1, 2, 1, 0, 2, 2, 2, 1, 1, 2, 1, 2,\n",
    "       2, 1, 2, 2, 0, 2, 1, 2, 1, 2, 1, 0, 2, 0, 1, 2, 2, 1, 1, 1, 1, 1,\n",
    "       1, 2, 2, 2, 0, 1, 0, 1, 1, 2, 1, 0, 0, 2, 1, 0, 0, 1, 0, 2, 1, 0,\n",
    "       0, 2, 1, 1, 2, 2, 2, 2, 1, 0, 2, 1, 1, 2, 0, 1, 0, 1, 0, 0, 0, 1,\n",
    "       1, 1, 2, 1, 1, 2, 0, 2, 0, 2, 0, 2, 1, 2, 0, 1, 2, 1, 1, 1, 1, 1,\n",
    "       1, 2, 0, 1, 2, 2, 1, 1, 1, 0, 1, 1, 1, 0, 2, 2, 1, 1, 1, 2, 1, 0,\n",
    "       2, 2, 2, 1, 1, 1, 2, 2, 0, 0, 1, 2, 2, 0, 1, 1, 2, 2, 2, 1, 1, 1,\n",
    "       0, 2, 2, 2, 2, 1, 2, 2, 2, 0, 1, 0, 2, 1, 0, 1, 1, 1, 0, 1, 1, 2,\n",
    "       1, 2, 1, 1, 2, 1, 0, 0, 2, 1, 1, 0, 0, 0, 1, 1, 1, 1, 2, 1, 1, 2,\n",
    "       1, 1, 2, 2, 0, 2, 1, 1, 1, 2, 1, 1, 1, 0, 0, 0, 0, 0, 0, 1, 0, 1,\n",
    "       2, 1, 1, 0, 0, 0, 0, 1, 0, 0, 0, 1, 0, 1, 1, 1, 0, 2, 1, 0, 2, 2,\n",
    "       0, 1, 2, 1, 0, 0, 1, 1, 1, 1, 1, 1, 0, 1, 1, 2, 1, 1, 0, 1, 1, 0,\n",
    "       1, 1, 0, 1, 0, 1, 0, 2, 1, 1, 2, 1, 0, 1, 1, 1, 1, 0, 1, 1, 1, 1,\n",
    "       1, 2, 1, 0, 0, 0, 0, 0, 0, 1, 0, 2, 0, 1, 1, 2, 0, 1, 2, 2, 2, 1,\n",
    "       0, 1, 2, 1, 1, 1, 2, 0, 1, 1, 1, 0, 0, 1, 1, 1, 0, 1, 1, 0, 1, 0,\n",
    "       0, 2, 1, 2, 1, 1, 2, 1, 1, 1, 1, 2, 2, 2, 0, 1, 2, 0, 0, 1, 1, 2,\n",
    "       0, 2, 0, 0, 0, 2, 1, 1, 1, 2, 1, 2, 1, 1, 1, 1, 1, 1, 0, 2, 1, 1,\n",
    "       2, 1, 0, 2, 1, 1, 0, 2, 1, 1, 2, 2, 0, 1, 0, 1, 0, 1, 2, 2, 1, 2,\n",
    "       0, 2, 0, 1, 2, 0, 0, 1, 1, 1, 1, 1, 1, 1, 0, 2, 1, 1, 1, 2, 0, 1,\n",
    "       1, 1, 0, 2, 2, 1, 1, 2, 1, 0, 1, 1, 1, 1, 2, 2, 1, 0, 2, 2, 0, 2,\n",
    "       2, 1, 1, 1, 0, 1, 2, 0, 1, 1, 1, 2, 1, 1, 1, 1, 0, 1, 0, 0, 1, 1,\n",
    "       2, 1, 1, 1, 0, 1, 0, 2, 0, 1, 0, 2, 1, 1, 0, 1, 0, 2, 0, 0, 0, 1,\n",
    "       1, 0, 2, 1, 1, 1, 1, 1, 0, 0, 2, 2, 1, 1, 1, 1, 0, 0, 1, 1, 0, 0,\n",
    "       0, 1, 0, 0, 2, 0, 1, 0, 0, 0, 1, 2, 2, 1, 1, 0, 1, 2, 0, 0, 0, 0,\n",
    "       0, 1, 1, 2, 2, 1, 1, 1, 1, 1, 1, 1, 1, 1, 1, 2, 2, 0, 2, 1, 2, 2,\n",
    "       1, 0, 1, 1, 1, 1, 0, 2, 2, 1, 0, 1, 0, 2, 0, 1, 1, 1, 1, 2, 0, 0,\n",
    "       0, 2, 2, 1, 1, 1, 0, 2, 1, 1, 1, 0, 0, 1, 0, 1, 0, 1, 1, 1, 1, 1,\n",
    "       1, 1, 1, 2, 1, 0, 0, 1, 1, 0, 1, 1, 1, 2, 0, 0, 1, 1, 1, 1, 0, 2,\n",
    "       2, 1, 1, 1, 1, 0, 2, 0, 2, 1]\n",
    ")"
   ]
  },
  {
   "cell_type": "code",
   "execution_count": 3,
   "id": "87c6e0a6-b159-41af-8720-6f9bf40a9b98",
   "metadata": {},
   "outputs": [],
   "source": [
    "from scipy.stats import find_repeats, relfreq\n",
    "from scipy.stats import binom"
   ]
  },
  {
   "cell_type": "code",
   "execution_count": 4,
   "id": "72bac7e1-31fe-4ad7-ae3e-572fd10599bd",
   "metadata": {},
   "outputs": [
    {
     "data": {
      "text/plain": [
       "RepeatedResults(values=array([0., 1., 2.]), counts=array([269, 488, 243]))"
      ]
     },
     "execution_count": 4,
     "metadata": {},
     "output_type": "execute_result"
    }
   ],
   "source": [
    "find_repeats(sample_of_two_coin_flips)"
   ]
  },
  {
   "cell_type": "code",
   "execution_count": 6,
   "id": "f5aa6205-3a8e-40a2-8e4b-5ad06dbe1c55",
   "metadata": {},
   "outputs": [
    {
     "name": "stdout",
     "output_type": "stream",
     "text": [
      "0.243\n"
     ]
    }
   ],
   "source": [
    "\n",
    "count_2_heads = find_repeats(sample_of_two_coin_flips).counts[2]\n",
    "\n",
    "\n",
    "prob_2_heads = count_2_heads / len(sample_of_two_coin_flips)\n",
    "\n",
    "\n",
    "print(prob_2_heads)"
   ]
  },
  {
   "cell_type": "code",
   "execution_count": 10,
   "id": "24442051-65d3-479b-8cac-71478e77e409",
   "metadata": {},
   "outputs": [
    {
     "name": "stdout",
     "output_type": "stream",
     "text": [
      "[0.269 0.488 0.243]\n"
     ]
    }
   ],
   "source": [
    "\n",
    "\n",
    "\n",
    "rel_freq = relfreq(sample_of_two_coin_flips, numbins=3).frequency\n",
    "print(rel_freq)"
   ]
  },
  {
   "cell_type": "code",
   "execution_count": 22,
   "id": "adbcbea1-600d-4558-a03b-491c873d2a77",
   "metadata": {},
   "outputs": [
    {
     "name": "stdout",
     "output_type": "stream",
     "text": [
      "[0.25 0.5  0.25]\n"
     ]
    }
   ],
   "source": [
    "probabilities = binom.pmf([0, 1, 2], n=2, p=0.5)\n",
    "print(probabilities)"
   ]
  },
  {
   "cell_type": "markdown",
   "id": "491028d9-a69e-465b-a3da-eeeee7e9b630",
   "metadata": {},
   "source": [
    "### Joint probabilities"
   ]
  },
  {
   "cell_type": "markdown",
   "id": "78accc8b-1ad2-4de8-85e1-f47522a5b307",
   "metadata": {},
   "source": [
    "![https://assets.datacamp.com/production/repositories/3819/datasets/cee10abf503db19eb82cf5eb1cda124ed1337b3a/Datacamp-Slides-Ex.png](https://assets.datacamp.com/production/repositories/3819/datasets/cee10abf503db19eb82cf5eb1cda124ed1337b3a/Datacamp-Slides-Ex.png)"
   ]
  },
  {
   "cell_type": "markdown",
   "id": "f0a98dc5-e3b8-43b0-a938-f524cdc2b288",
   "metadata": {},
   "source": [
    "Calculate the probability that the engine and gear box both work."
   ]
  },
  {
   "cell_type": "code",
   "execution_count": 1,
   "id": "ffbc5c3e-6aed-482b-86e0-80c0b93af86d",
   "metadata": {},
   "outputs": [
    {
     "name": "stdout",
     "output_type": "stream",
     "text": [
      "0.98505\n"
     ]
    }
   ],
   "source": [
    "\n",
    "P_Eng_works = 0.99\n",
    "P_GearB_works = 0.995\n",
    "\n",
    "\n",
    "P_both_works = P_Eng_works * P_GearB_works\n",
    "\n",
    "print(P_both_works)"
   ]
  },
  {
   "cell_type": "markdown",
   "id": "500a003e-6744-4dff-b380-29e2f5cfb168",
   "metadata": {},
   "source": [
    "Calculate the probability that one fails -- either engine or gear box -- but not both."
   ]
  },
  {
   "cell_type": "code",
   "execution_count": null,
   "id": "c341dcb3-df92-4588-a4af-817e2b067e92",
   "metadata": {},
   "outputs": [],
   "source": [
    "\n",
    "P_Eng_fails = 0.01\n",
    "P_Eng_works = 0.99\n",
    "P_GearB_fails = 0.005\n",
    "P_GearB_works = 0.995\n",
    "\n",
    "\n",
    "P_only_GearB_fails = P_GearB_fails * P_Eng_works\n",
    "P_only_Eng_fails = P_Eng_fails * P_GearB_works\n",
    "\n",
    "\n",
    "P_one_fails = P_only_GearB_fails + P_only_Eng_fails\n",
    "\n",
    "print(P_one_fails)"
   ]
  },
  {
   "cell_type": "markdown",
   "id": "d70cb4f9-61ef-4480-b521-a88970c87aa9",
   "metadata": {},
   "source": [
    "What is the probability that either both work or both fail?"
   ]
  },
  {
   "cell_type": "code",
   "execution_count": null,
   "id": "b50d66ac-0f2b-4b1f-b199-df9306f76973",
   "metadata": {},
   "outputs": [],
   "source": [
    "\n",
    "P_Eng_fails = 0.01\n",
    "P_Eng_works = 0.99\n",
    "P_GearB_fails = 0.005\n",
    "P_GearB_works = 0.995\n",
    "\n",
    "\n",
    "P_EngW_GearBW = P_Eng_works * P_GearB_works\n",
    "P_EngF_GearBF = P_Eng_fails * P_GearB_fails\n",
    "\n",
    "\n",
    "P_fails_or_works = P_EngW_GearBW + P_EngF_GearBF\n",
    "\n",
    "print(P_fails_or_works)"
   ]
  },
  {
   "cell_type": "markdown",
   "id": "6a7a8074-4243-4957-a1d7-9b9b355dc858",
   "metadata": {},
   "source": [
    "Calculate the probability of not getting an Ace."
   ]
  },
  {
   "cell_type": "code",
   "execution_count": null,
   "id": "2cd4697f-e736-4dd3-b34d-4c64ed3bc6ba",
   "metadata": {},
   "outputs": [],
   "source": [
    "\n",
    "P_Ace = 4/52\n",
    "\n",
    "\n",
    "P_not_Ace = 1 - P_Ace\n",
    "\n",
    "print(P_not_Ace)"
   ]
  },
  {
   "cell_type": "markdown",
   "id": "8c97031f-4895-47d3-8786-aa10ff265e2b",
   "metadata": {},
   "source": [
    "Calculate the probability of getting a red card."
   ]
  },
  {
   "cell_type": "code",
   "execution_count": null,
   "id": "3208dfce-d1d3-437c-8f31-8fa3dfae8f3d",
   "metadata": {},
   "outputs": [],
   "source": [
    "\n",
    "P_Hearts = 13/52\n",
    "P_Diamonds = 13/52\n",
    "\n",
    "\n",
    "P_Red = P_Hearts + P_Diamonds\n",
    "\n",
    "print(P_Red)"
   ]
  },
  {
   "cell_type": "markdown",
   "id": "710c2a47-d4ea-4bd9-8699-2b6667607b75",
   "metadata": {},
   "source": [
    "Calculate the probability of getting a Jack or a spade."
   ]
  },
  {
   "cell_type": "code",
   "execution_count": null,
   "id": "05323777-1430-4aa7-a410-2fbcfa00f6d8",
   "metadata": {},
   "outputs": [],
   "source": [
    "\n",
    "P_Jack = 4/52\n",
    "P_Spade = 13/52\n",
    "\n",
    "\n",
    "P_Jack_n_Spade = 1/52\n",
    "\n",
    "\n",
    "P_Jack_or_Spade = P_Jack + P_Spade - P_Jack_n_Spade\n",
    "\n",
    "print(P_Jack_or_Spade)"
   ]
  },
  {
   "cell_type": "markdown",
   "id": "d7aaed91-086c-4b7a-98f8-f491d382d0f4",
   "metadata": {},
   "source": [
    "Calculate the probability of getting a King or a Queen."
   ]
  },
  {
   "cell_type": "code",
   "execution_count": null,
   "id": "0902aab6-e68c-46ef-8710-cc5b2cc106c6",
   "metadata": {},
   "outputs": [],
   "source": [
    "\n",
    "P_King = 4/52\n",
    "P_Queen = 4/52\n",
    "\n",
    "\n",
    "P_King_n_Queen = 0\n",
    "\n",
    "\n",
    "P_King_or_Queen = P_King + P_Queen - P_King_n_Queen\n",
    "\n",
    "print(P_King_or_Queen)"
   ]
  },
  {
   "cell_type": "code",
   "execution_count": null,
   "id": "6e7e6b67-46ed-427c-a1d7-18331a6096e9",
   "metadata": {},
   "outputs": [],
   "source": []
  }
 ],
 "metadata": {
  "kernelspec": {
   "display_name": "Python 3 (ipykernel)",
   "language": "python",
   "name": "python3"
  },
  "language_info": {
   "codemirror_mode": {
    "name": "ipython",
    "version": 3
   },
   "file_extension": ".py",
   "mimetype": "text/x-python",
   "name": "python",
   "nbconvert_exporter": "python",
   "pygments_lexer": "ipython3",
   "version": "3.8.0"
  }
 },
 "nbformat": 4,
 "nbformat_minor": 5
}
