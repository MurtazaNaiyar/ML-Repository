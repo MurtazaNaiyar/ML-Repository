{
 "cells": [
  {
   "cell_type": "markdown",
   "id": "835e6345-88fa-4df8-8ded-1a3a573235ff",
   "metadata": {},
   "source": [
    "## Calculate some probabilities"
   ]
  },
  {
   "cell_type": "markdown",
   "id": "b6e4eeaa-bd90-40c1-b9f4-d672e5f08f34",
   "metadata": {},
   "source": [
    "### Measuring a sample"
   ]
  },
  {
   "cell_type": "code",
   "execution_count": 1,
   "id": "4a6cbd72-d3f5-449b-aaaf-eecea59d1bc4",
   "metadata": {},
   "outputs": [],
   "source": [
    "import numpy as np"
   ]
  },
  {
   "cell_type": "code",
   "execution_count": 2,
   "id": "7748e099-5382-454c-8a60-8f05ce4a3f1d",
   "metadata": {},
   "outputs": [],
   "source": [
    "sample_of_two_coin_flips = np.array(\n",
    "    [1, 2, 1, 1, 0, 0, 0, 2, 1, 1, 0, 2, 2, 0, 0, 0, 1, 1, 1, 1, 1, 0,\n",
    "       1, 1, 1, 2, 0, 1, 1, 0, 1, 0, 0, 2, 2, 2, 1, 0, 1, 1, 0, 1, 0, 2,\n",
    "       1, 1, 1, 1, 1, 0, 2, 2, 2, 2, 1, 2, 0, 0, 0, 1, 1, 1, 2, 1, 1, 1,\n",
    "       0, 2, 0, 2, 2, 0, 0, 2, 1, 1, 2, 0, 1, 0, 2, 1, 1, 0, 1, 1, 1, 1,\n",
    "       2, 1, 0, 1, 2, 1, 2, 1, 1, 1, 0, 0, 0, 1, 1, 1, 2, 0, 1, 2, 0, 0,\n",
    "       1, 0, 2, 2, 1, 2, 2, 0, 2, 1, 2, 2, 1, 0, 0, 1, 2, 2, 0, 1, 1, 0,\n",
    "       0, 1, 2, 1, 1, 1, 1, 2, 2, 1, 1, 1, 1, 0, 1, 1, 0, 1, 2, 0, 0, 1,\n",
    "       2, 0, 1, 2, 0, 1, 1, 1, 1, 1, 0, 2, 1, 0, 0, 1, 1, 0, 1, 0, 1, 0,\n",
    "       1, 1, 2, 0, 1, 0, 2, 2, 1, 1, 2, 1, 1, 0, 0, 2, 2, 1, 1, 1, 1, 2,\n",
    "       2, 2, 1, 0, 0, 2, 1, 0, 0, 1, 0, 0, 1, 1, 1, 0, 1, 0, 1, 1, 1, 2,\n",
    "       1, 1, 0, 1, 1, 0, 2, 1, 2, 1, 2, 1, 1, 1, 0, 1, 1, 0, 1, 0, 2, 2,\n",
    "       2, 1, 0, 2, 1, 2, 2, 2, 1, 1, 2, 1, 0, 1, 2, 1, 1, 0, 1, 2, 0, 1,\n",
    "       2, 1, 1, 1, 1, 1, 2, 2, 2, 2, 1, 1, 2, 1, 1, 2, 2, 1, 1, 0, 1, 0,\n",
    "       1, 1, 1, 1, 0, 0, 2, 1, 0, 1, 2, 0, 1, 0, 0, 1, 1, 1, 1, 2, 1, 1,\n",
    "       2, 1, 1, 0, 0, 2, 2, 1, 1, 0, 0, 1, 1, 1, 1, 1, 2, 1, 1, 1, 1, 0,\n",
    "       1, 2, 0, 0, 0, 0, 2, 1, 1, 0, 1, 1, 0, 1, 1, 1, 1, 0, 1, 1, 1, 2,\n",
    "       1, 0, 0, 1, 0, 1, 2, 1, 1, 1, 1, 1, 2, 1, 2, 2, 0, 0, 0, 0, 0, 1,\n",
    "       0, 1, 2, 0, 2, 1, 0, 1, 1, 2, 1, 2, 1, 0, 2, 2, 2, 1, 1, 2, 1, 2,\n",
    "       2, 1, 2, 2, 0, 2, 1, 2, 1, 2, 1, 0, 2, 0, 1, 2, 2, 1, 1, 1, 1, 1,\n",
    "       1, 2, 2, 2, 0, 1, 0, 1, 1, 2, 1, 0, 0, 2, 1, 0, 0, 1, 0, 2, 1, 0,\n",
    "       0, 2, 1, 1, 2, 2, 2, 2, 1, 0, 2, 1, 1, 2, 0, 1, 0, 1, 0, 0, 0, 1,\n",
    "       1, 1, 2, 1, 1, 2, 0, 2, 0, 2, 0, 2, 1, 2, 0, 1, 2, 1, 1, 1, 1, 1,\n",
    "       1, 2, 0, 1, 2, 2, 1, 1, 1, 0, 1, 1, 1, 0, 2, 2, 1, 1, 1, 2, 1, 0,\n",
    "       2, 2, 2, 1, 1, 1, 2, 2, 0, 0, 1, 2, 2, 0, 1, 1, 2, 2, 2, 1, 1, 1,\n",
    "       0, 2, 2, 2, 2, 1, 2, 2, 2, 0, 1, 0, 2, 1, 0, 1, 1, 1, 0, 1, 1, 2,\n",
    "       1, 2, 1, 1, 2, 1, 0, 0, 2, 1, 1, 0, 0, 0, 1, 1, 1, 1, 2, 1, 1, 2,\n",
    "       1, 1, 2, 2, 0, 2, 1, 1, 1, 2, 1, 1, 1, 0, 0, 0, 0, 0, 0, 1, 0, 1,\n",
    "       2, 1, 1, 0, 0, 0, 0, 1, 0, 0, 0, 1, 0, 1, 1, 1, 0, 2, 1, 0, 2, 2,\n",
    "       0, 1, 2, 1, 0, 0, 1, 1, 1, 1, 1, 1, 0, 1, 1, 2, 1, 1, 0, 1, 1, 0,\n",
    "       1, 1, 0, 1, 0, 1, 0, 2, 1, 1, 2, 1, 0, 1, 1, 1, 1, 0, 1, 1, 1, 1,\n",
    "       1, 2, 1, 0, 0, 0, 0, 0, 0, 1, 0, 2, 0, 1, 1, 2, 0, 1, 2, 2, 2, 1,\n",
    "       0, 1, 2, 1, 1, 1, 2, 0, 1, 1, 1, 0, 0, 1, 1, 1, 0, 1, 1, 0, 1, 0,\n",
    "       0, 2, 1, 2, 1, 1, 2, 1, 1, 1, 1, 2, 2, 2, 0, 1, 2, 0, 0, 1, 1, 2,\n",
    "       0, 2, 0, 0, 0, 2, 1, 1, 1, 2, 1, 2, 1, 1, 1, 1, 1, 1, 0, 2, 1, 1,\n",
    "       2, 1, 0, 2, 1, 1, 0, 2, 1, 1, 2, 2, 0, 1, 0, 1, 0, 1, 2, 2, 1, 2,\n",
    "       0, 2, 0, 1, 2, 0, 0, 1, 1, 1, 1, 1, 1, 1, 0, 2, 1, 1, 1, 2, 0, 1,\n",
    "       1, 1, 0, 2, 2, 1, 1, 2, 1, 0, 1, 1, 1, 1, 2, 2, 1, 0, 2, 2, 0, 2,\n",
    "       2, 1, 1, 1, 0, 1, 2, 0, 1, 1, 1, 2, 1, 1, 1, 1, 0, 1, 0, 0, 1, 1,\n",
    "       2, 1, 1, 1, 0, 1, 0, 2, 0, 1, 0, 2, 1, 1, 0, 1, 0, 2, 0, 0, 0, 1,\n",
    "       1, 0, 2, 1, 1, 1, 1, 1, 0, 0, 2, 2, 1, 1, 1, 1, 0, 0, 1, 1, 0, 0,\n",
    "       0, 1, 0, 0, 2, 0, 1, 0, 0, 0, 1, 2, 2, 1, 1, 0, 1, 2, 0, 0, 0, 0,\n",
    "       0, 1, 1, 2, 2, 1, 1, 1, 1, 1, 1, 1, 1, 1, 1, 2, 2, 0, 2, 1, 2, 2,\n",
    "       1, 0, 1, 1, 1, 1, 0, 2, 2, 1, 0, 1, 0, 2, 0, 1, 1, 1, 1, 2, 0, 0,\n",
    "       0, 2, 2, 1, 1, 1, 0, 2, 1, 1, 1, 0, 0, 1, 0, 1, 0, 1, 1, 1, 1, 1,\n",
    "       1, 1, 1, 2, 1, 0, 0, 1, 1, 0, 1, 1, 1, 2, 0, 0, 1, 1, 1, 1, 0, 2,\n",
    "       2, 1, 1, 1, 1, 0, 2, 0, 2, 1]\n",
    ")"
   ]
  },
  {
   "cell_type": "code",
   "execution_count": 3,
   "id": "87c6e0a6-b159-41af-8720-6f9bf40a9b98",
   "metadata": {},
   "outputs": [],
   "source": [
    "from scipy.stats import find_repeats, relfreq\n",
    "from scipy.stats import binom"
   ]
  },
  {
   "cell_type": "code",
   "execution_count": 4,
   "id": "72bac7e1-31fe-4ad7-ae3e-572fd10599bd",
   "metadata": {},
   "outputs": [
    {
     "data": {
      "text/plain": [
       "RepeatedResults(values=array([0., 1., 2.]), counts=array([269, 488, 243]))"
      ]
     },
     "execution_count": 4,
     "metadata": {},
     "output_type": "execute_result"
    }
   ],
   "source": [
    "find_repeats(sample_of_two_coin_flips)"
   ]
  },
  {
   "cell_type": "code",
   "execution_count": 6,
   "id": "f5aa6205-3a8e-40a2-8e4b-5ad06dbe1c55",
   "metadata": {},
   "outputs": [
    {
     "name": "stdout",
     "output_type": "stream",
     "text": [
      "0.243\n"
     ]
    }
   ],
   "source": [
    "\n",
    "count_2_heads = find_repeats(sample_of_two_coin_flips).counts[2]\n",
    "\n",
    "\n",
    "prob_2_heads = count_2_heads / len(sample_of_two_coin_flips)\n",
    "\n",
    "\n",
    "print(prob_2_heads)"
   ]
  },
  {
   "cell_type": "code",
   "execution_count": 10,
   "id": "24442051-65d3-479b-8cac-71478e77e409",
   "metadata": {},
   "outputs": [
    {
     "name": "stdout",
     "output_type": "stream",
     "text": [
      "[0.269 0.488 0.243]\n"
     ]
    }
   ],
   "source": [
    "\n",
    "\n",
    "\n",
    "rel_freq = relfreq(sample_of_two_coin_flips, numbins=3).frequency\n",
    "print(rel_freq)"
   ]
  },
  {
   "cell_type": "code",
   "execution_count": 22,
   "id": "adbcbea1-600d-4558-a03b-491c873d2a77",
   "metadata": {},
   "outputs": [
    {
     "name": "stdout",
     "output_type": "stream",
     "text": [
      "[0.25 0.5  0.25]\n"
     ]
    }
   ],
   "source": [
    "probabilities = binom.pmf([0, 1, 2], n=2, p=0.5)\n",
    "print(probabilities)"
   ]
  },
  {
   "cell_type": "markdown",
   "id": "491028d9-a69e-465b-a3da-eeeee7e9b630",
   "metadata": {},
   "source": [
    "### Joint probabilities"
   ]
  },
  {
   "cell_type": "markdown",
   "id": "78accc8b-1ad2-4de8-85e1-f47522a5b307",
   "metadata": {},
   "source": [
    "![https://assets.datacamp.com/production/repositories/3819/datasets/cee10abf503db19eb82cf5eb1cda124ed1337b3a/Datacamp-Slides-Ex.png](https://assets.datacamp.com/production/repositories/3819/datasets/cee10abf503db19eb82cf5eb1cda124ed1337b3a/Datacamp-Slides-Ex.png)"
   ]
  },
  {
   "cell_type": "markdown",
   "id": "f0a98dc5-e3b8-43b0-a938-f524cdc2b288",
   "metadata": {},
   "source": [
    "Calculate the probability that the engine and gear box both work."
   ]
  },
  {
   "cell_type": "code",
   "execution_count": 1,
   "id": "ffbc5c3e-6aed-482b-86e0-80c0b93af86d",
   "metadata": {},
   "outputs": [
    {
     "name": "stdout",
     "output_type": "stream",
     "text": [
      "0.98505\n"
     ]
    }
   ],
   "source": [
    "\n",
    "P_Eng_works = 0.99\n",
    "P_GearB_works = 0.995\n",
    "\n",
    "\n",
    "P_both_works = P_Eng_works * P_GearB_works\n",
    "\n",
    "print(P_both_works)"
   ]
  },
  {
   "cell_type": "markdown",
   "id": "500a003e-6744-4dff-b380-29e2f5cfb168",
   "metadata": {},
   "source": [
    "Calculate the probability that one fails -- either engine or gear box -- but not both."
   ]
  },
  {
   "cell_type": "code",
   "execution_count": null,
   "id": "c341dcb3-df92-4588-a4af-817e2b067e92",
   "metadata": {},
   "outputs": [],
   "source": [
    "\n",
    "P_Eng_fails = 0.01\n",
    "P_Eng_works = 0.99\n",
    "P_GearB_fails = 0.005\n",
    "P_GearB_works = 0.995\n",
    "\n",
    "\n",
    "P_only_GearB_fails = P_GearB_fails * P_Eng_works\n",
    "P_only_Eng_fails = P_Eng_fails * P_GearB_works\n",
    "\n",
    "\n",
    "P_one_fails = P_only_GearB_fails + P_only_Eng_fails\n",
    "\n",
    "print(P_one_fails)"
   ]
  },
  {
   "cell_type": "markdown",
   "id": "d70cb4f9-61ef-4480-b521-a88970c87aa9",
   "metadata": {},
   "source": [
    "What is the probability that either both work or both fail?"
   ]
  },
  {
   "cell_type": "code",
   "execution_count": null,
   "id": "b50d66ac-0f2b-4b1f-b199-df9306f76973",
   "metadata": {},
   "outputs": [],
   "source": [
    "\n",
    "P_Eng_fails = 0.01\n",
    "P_Eng_works = 0.99\n",
    "P_GearB_fails = 0.005\n",
    "P_GearB_works = 0.995\n",
    "\n",
    "\n",
    "P_EngW_GearBW = P_Eng_works * P_GearB_works\n",
    "P_EngF_GearBF = P_Eng_fails * P_GearB_fails\n",
    "\n",
    "\n",
    "P_fails_or_works = P_EngW_GearBW + P_EngF_GearBF\n",
    "\n",
    "print(P_fails_or_works)"
   ]
  },
  {
   "cell_type": "markdown",
   "id": "6a7a8074-4243-4957-a1d7-9b9b355dc858",
   "metadata": {},
   "source": [
    "Calculate the probability of not getting an Ace."
   ]
  },
  {
   "cell_type": "code",
   "execution_count": null,
   "id": "2cd4697f-e736-4dd3-b34d-4c64ed3bc6ba",
   "metadata": {},
   "outputs": [],
   "source": [
    "\n",
    "P_Ace = 4/52\n",
    "\n",
    "\n",
    "P_not_Ace = 1 - P_Ace\n",
    "\n",
    "print(P_not_Ace)"
   ]
  },
  {
   "cell_type": "markdown",
   "id": "8c97031f-4895-47d3-8786-aa10ff265e2b",
   "metadata": {},
   "source": [
    "Calculate the probability of getting a red card."
   ]
  },
  {
   "cell_type": "code",
   "execution_count": null,
   "id": "3208dfce-d1d3-437c-8f31-8fa3dfae8f3d",
   "metadata": {},
   "outputs": [],
   "source": [
    "\n",
    "P_Hearts = 13/52\n",
    "P_Diamonds = 13/52\n",
    "\n",
    "\n",
    "P_Red = P_Hearts + P_Diamonds\n",
    "\n",
    "print(P_Red)"
   ]
  },
  {
   "cell_type": "markdown",
   "id": "710c2a47-d4ea-4bd9-8699-2b6667607b75",
   "metadata": {},
   "source": [
    "Calculate the probability of getting a Jack or a spade."
   ]
  },
  {
   "cell_type": "code",
   "execution_count": null,
   "id": "05323777-1430-4aa7-a410-2fbcfa00f6d8",
   "metadata": {},
   "outputs": [],
   "source": [
    "\n",
    "P_Jack = 4/52\n",
    "P_Spade = 13/52\n",
    "\n",
    "\n",
    "P_Jack_n_Spade = 1/52\n",
    "\n",
    "\n",
    "P_Jack_or_Spade = P_Jack + P_Spade - P_Jack_n_Spade\n",
    "\n",
    "print(P_Jack_or_Spade)"
   ]
  },
  {
   "cell_type": "markdown",
   "id": "d7aaed91-086c-4b7a-98f8-f491d382d0f4",
   "metadata": {},
   "source": [
    "Calculate the probability of getting a King or a Queen."
   ]
  },
  {
   "cell_type": "code",
   "execution_count": null,
   "id": "0902aab6-e68c-46ef-8710-cc5b2cc106c6",
   "metadata": {},
   "outputs": [],
   "source": [
    "\n",
    "P_King = 4/52\n",
    "P_Queen = 4/52\n",
    "\n",
    "\n",
    "P_King_n_Queen = 0\n",
    "\n",
    "\n",
    "P_King_or_Queen = P_King + P_Queen - P_King_n_Queen\n",
    "\n",
    "print(P_King_or_Queen)"
   ]
  },
  {
   "cell_type": "markdown",
   "id": "573411c0-a06a-4fe2-a468-efd63ef6d16a",
   "metadata": {},
   "source": [
    "### Conditional probabilities"
   ]
  },
  {
   "cell_type": "markdown",
   "id": "53a43898-c627-4c30-b66b-cf930cf6425e",
   "metadata": {},
   "source": [
    "### Delayed flights"
   ]
  },
  {
   "cell_type": "markdown",
   "id": "1f5b890a-3dd9-457c-b31b-27da3c078a3f",
   "metadata": {},
   "source": [
    "<table>\n",
    "<thead>\n",
    "<tr>\n",
    "<th></th>\n",
    "<th>Delayed</th>\n",
    "<th>On time</th>\n",
    "<th>Total</th>\n",
    "</tr>\n",
    "</thead>\n",
    "<tbody>\n",
    "<tr>\n",
    "<td>Tuesday</td>\n",
    "<td>24</td>\n",
    "<td>114</td>\n",
    "<td>138</td>\n",
    "</tr>\n",
    "<tr>\n",
    "<td>Friday</td>\n",
    "<td>11</td>\n",
    "<td>127</td>\n",
    "<td>138</td>\n",
    "</tr>\n",
    "<tr>\n",
    "<td>Total</td>\n",
    "<td>35</td>\n",
    "<td>241</td>\n",
    "<td>276</td>\n",
    "</tr>\n",
    "</tbody>\n",
    "</table>"
   ]
  },
  {
   "cell_type": "markdown",
   "id": "741060f1-5172-426f-a5bb-e137ad6366ee",
   "metadata": {},
   "source": [
    "What is the probability of a flight being on time?"
   ]
  },
  {
   "cell_type": "code",
   "execution_count": null,
   "id": "6e7e6b67-46ed-427c-a1d7-18331a6096e9",
   "metadata": {},
   "outputs": [],
   "source": [
    "\n",
    "On_time = 241\n",
    "Total_departures = 276\n",
    "\n",
    "\n",
    "P_On_time = On_time / Total_departures\n",
    "\n",
    "print(P_On_time)"
   ]
  },
  {
   "cell_type": "markdown",
   "id": "85f194c7-a19c-49de-8267-0580b6454bc6",
   "metadata": {},
   "source": [
    "Every departure is on time with probability P_On_time. What is the probability of a flight being delayed?"
   ]
  },
  {
   "cell_type": "code",
   "execution_count": null,
   "id": "9f49805b-835e-433d-9680-4ea7090c25c2",
   "metadata": {},
   "outputs": [],
   "source": [
    "\n",
    "P_On_time = 241 / 276\n",
    "\n",
    "\n",
    "P_Delayed = 1 - P_On_time\n",
    "\n",
    "print(P_Delayed)"
   ]
  },
  {
   "cell_type": "markdown",
   "id": "1829b704-44f3-46c3-a7c6-bc31c6d408e0",
   "metadata": {},
   "source": [
    "Given that it's Tuesday, what is the probability of a flight being delayed (P(Delayed|Tuesday))?"
   ]
  },
  {
   "cell_type": "code",
   "execution_count": null,
   "id": "09e405e9-7c40-43b1-87e7-6702829dc22e",
   "metadata": {},
   "outputs": [],
   "source": [
    "\n",
    "Delayed_on_Tuesday = 24\n",
    "On_Tuesday = 138\n",
    "\n",
    "\n",
    "P_Delayed_g_Tuesday = Delayed_on_Tuesday / On_Tuesday\n",
    "\n",
    "print(P_Delayed_g_Tuesday)"
   ]
  },
  {
   "cell_type": "markdown",
   "id": "5f0cda47-5c7a-4612-9218-11aecae4cc86",
   "metadata": {},
   "source": [
    "Given that it's Friday, what is the probability of a flight being delayed (P(Delayed|Friday))?"
   ]
  },
  {
   "cell_type": "code",
   "execution_count": null,
   "id": "904f18eb-c3a0-4b57-9311-d9af875310a7",
   "metadata": {},
   "outputs": [],
   "source": [
    "\n",
    "Delayed_on_Friday = 11\n",
    "On_Friday = 138\n",
    "\n",
    "\n",
    "P_Delayed_g_Friday = Delayed_on_Friday / On_Friday\n",
    "\n",
    "print(P_Delayed_g_Friday)"
   ]
  },
  {
   "cell_type": "markdown",
   "id": "87ad6c75-84d6-4f37-aaaa-ab996c0c7c0b",
   "metadata": {},
   "source": [
    "### Contingency table"
   ]
  },
  {
   "cell_type": "markdown",
   "id": "901ac103-43b4-4f60-bb9e-ab35df306ae2",
   "metadata": {},
   "source": [
    "<table>\n",
    "<thead>\n",
    "<tr>\n",
    "<th></th>\n",
    "<th>Red</th>\n",
    "<th>Black</th>\n",
    "<th>Total</th>\n",
    "</tr>\n",
    "</thead>\n",
    "<tbody>\n",
    "<tr>\n",
    "<td>Ace</td>\n",
    "<td>2</td>\n",
    "<td>2</td>\n",
    "<td>4</td>\n",
    "</tr>\n",
    "<tr>\n",
    "<td>Non Ace</td>\n",
    "<td>24</td>\n",
    "<td>24</td>\n",
    "<td>48</td>\n",
    "</tr>\n",
    "<tr>\n",
    "<td>Total</td>\n",
    "<td>26</td>\n",
    "<td>26</td>\n",
    "<td>52</td>\n",
    "</tr>\n",
    "</tbody>\n",
    "</table>"
   ]
  },
  {
   "cell_type": "markdown",
   "id": "dfc34229-f69d-4490-a46a-600e5f89dfc7",
   "metadata": {},
   "source": [
    "Calculate P(Ace|Red)."
   ]
  },
  {
   "cell_type": "code",
   "execution_count": null,
   "id": "80eac57f-b0be-476c-adfe-ef9e5c7fd1c8",
   "metadata": {},
   "outputs": [],
   "source": [
    "\n",
    "P_Red = 26/52\n",
    "P_Red_n_Ace = 2/52\n",
    "\n",
    "\n",
    "P_Ace_given_Red = P_Red_n_Ace / P_Red\n",
    "\n",
    "print(P_Ace_given_Red)"
   ]
  },
  {
   "cell_type": "markdown",
   "id": "ef419016-e63e-4a0a-85a5-1b3429e0fe4c",
   "metadata": {},
   "source": [
    "Calculate P(Black|Ace)."
   ]
  },
  {
   "cell_type": "code",
   "execution_count": null,
   "id": "63080279-e00f-4095-958b-5dd13b0aff25",
   "metadata": {},
   "outputs": [],
   "source": [
    "\n",
    "P_Ace = 4/52\n",
    "P_Ace_n_Black = 2/52\n",
    "\n",
    "\n",
    "P_Black_given_Ace = P_Ace_n_Black / P_Ace\n",
    "\n",
    "print(P_Black_given_Ace)"
   ]
  },
  {
   "cell_type": "markdown",
   "id": "7503d043-6651-4584-a355-4a7e6cf20dd5",
   "metadata": {},
   "source": [
    "Calculate P(Non Ace|Black)."
   ]
  },
  {
   "cell_type": "code",
   "execution_count": null,
   "id": "5635848b-5828-4450-b36f-804aef993bb5",
   "metadata": {},
   "outputs": [],
   "source": [
    "\n",
    "P_Black = 26/52\n",
    "P_Black_n_Non_ace = 24/52\n",
    "\n",
    "\n",
    "P_Non_ace_given_Black = P_Black_n_Non_ace / P_Black\n",
    "\n",
    "print(P_Non_ace_given_Black)"
   ]
  },
  {
   "cell_type": "markdown",
   "id": "a8aaa652-806a-4df7-b9c2-bfc23154bcdf",
   "metadata": {},
   "source": [
    "Calculate P(Red|Non Ace)."
   ]
  },
  {
   "cell_type": "code",
   "execution_count": null,
   "id": "d9c80528-db6d-43b7-aab1-f8b7f237b38e",
   "metadata": {},
   "outputs": [],
   "source": [
    "\n",
    "P_Non_ace = 48/52\n",
    "P_Non_ace_n_Red = 24/52\n",
    "\n",
    "\n",
    "P_Red_given_Non_ace = P_Non_ace_n_Red / P_Non_ace\n",
    "\n",
    "print(P_Red_given_Non_ace)"
   ]
  },
  {
   "cell_type": "markdown",
   "id": "857153ad-d92f-4154-92f8-751addb58ec4",
   "metadata": {},
   "source": [
    "### More cards"
   ]
  },
  {
   "cell_type": "markdown",
   "id": "d09a61cd-9361-4738-b531-d116a90f27b9",
   "metadata": {},
   "source": [
    "![https://assets.datacamp.com/production/repositories/3819/datasets/8058ee2cc91dd029518cd28ac1f42ae75408f5cd/cards.png](https://assets.datacamp.com/production/repositories/3819/datasets/8058ee2cc91dd029518cd28ac1f42ae75408f5cd/cards.png)"
   ]
  },
  {
   "cell_type": "markdown",
   "id": "e9223f66-6321-49c6-9dd8-77ca041df8ae",
   "metadata": {},
   "source": [
    "Calculate the probability of getting two Jacks (P(Jack and Jack))."
   ]
  },
  {
   "cell_type": "code",
   "execution_count": null,
   "id": "8c95a43d-276e-49ee-91e1-e13e232ce0be",
   "metadata": {},
   "outputs": [],
   "source": [
    "\n",
    "P_first_Jack = 4/52\n",
    "P_Jack_given_Jack = 3/51\n",
    "\n",
    "\n",
    "P_two_Jacks = P_first_Jack * P_Jack_given_Jack\n",
    "\n",
    "print(P_two_Jacks)"
   ]
  },
  {
   "cell_type": "markdown",
   "id": "c676f6fd-7d93-40b8-a7c3-cc5b828aee7d",
   "metadata": {},
   "source": [
    "Calculate P(Ace|Spade)."
   ]
  },
  {
   "cell_type": "code",
   "execution_count": null,
   "id": "28154aca-cb93-4eea-90fc-113b613907c1",
   "metadata": {},
   "outputs": [],
   "source": [
    "\n",
    "P_Spade = 13/52\n",
    "P_Spade_n_Ace = 1/52\n",
    "\n",
    "\n",
    "P_Ace_given_Spade = P_Spade_n_Ace / P_Spade\n",
    "\n",
    "print(P_Ace_given_Spade)"
   ]
  },
  {
   "cell_type": "markdown",
   "id": "1a4661ab-814f-42c1-9b02-ca530ec0a0a0",
   "metadata": {},
   "source": [
    "Calculate P(Queen|Face card)."
   ]
  },
  {
   "cell_type": "code",
   "execution_count": null,
   "id": "11edf391-ca3d-42e3-af53-09e9aa3f00c2",
   "metadata": {},
   "outputs": [],
   "source": [
    "\n",
    "P_Face_card = 12/52\n",
    "P_Face_card_n_Queen = 4/52\n",
    "\n",
    "\n",
    "P_Queen_given_Face_card = P_Face_card_n_Queen / P_Face_card\n",
    "\n",
    "print(P_Queen_given_Face_card)\n"
   ]
  },
  {
   "cell_type": "markdown",
   "id": "fa86a973-8a48-446b-afd7-b320406dfbd2",
   "metadata": {},
   "source": [
    "### Formula 1 engines"
   ]
  },
  {
   "cell_type": "markdown",
   "id": "3bb5cfa3-3c13-4f65-94db-0d1373a2ec94",
   "metadata": {},
   "source": [
    "Calculate the following probabilities:\n",
    "* The manufacturer is A (P_A).\n",
    "* The engine lasts more than 5,000 km given that manufacturer is A (P_last5000_g_A).\n",
    "* The manufacturer is B (P_B).\n",
    "* The engine lasts more than 5,000 km given that manufacturer is B (P_last5000_g_B).\n",
    "\n",
    "Use the total probability law to calculate the probability that the engine will last more than 5,000 km and store the result into P_last_5000."
   ]
  },
  {
   "cell_type": "code",
   "execution_count": null,
   "id": "420d1f10-36a2-4c0b-ab36-a2b3cac18f9d",
   "metadata": {},
   "outputs": [],
   "source": [
    "\n",
    "P_A = 0.7\n",
    "P_last5000_g_A = .99\n",
    "P_B = 0.3\n",
    "P_last5000_g_B = .95\n",
    "\n",
    "\n",
    "P_last_5000 = P_A * P_last5000_g_A + P_B * P_last5000_g_B\n",
    "\n",
    "print(P_last_5000)\n"
   ]
  },
  {
   "cell_type": "markdown",
   "id": "df37382b-030a-40b5-976c-f893be334d9a",
   "metadata": {},
   "source": [
    "### Voters"
   ]
  },
  {
   "cell_type": "markdown",
   "id": "2ccf560e-8440-43bc-93a7-bff0fbdf02bb",
   "metadata": {},
   "source": [
    "Of the total population of three states X, Y, and Z, 43% are from state X, 25% are from state Y, and 32% are from state Z. A poll is taken and the result is the following:\n",
    "\n",
    "* 53% of the voters support John Doe in state X.\n",
    "* 67% of the voters support John Doe in state Y.\n",
    "* 32% of the voters support John Doe in state Z."
   ]
  },
  {
   "cell_type": "code",
   "execution_count": 1,
   "id": "3ed7ed05-27b0-4a0a-9930-e36210b930c3",
   "metadata": {},
   "outputs": [],
   "source": []
  },
  {
   "cell_type": "code",
   "execution_count": 2,
   "id": "79e8017a-30c8-4146-8b5a-b28016a55c5b",
   "metadata": {},
   "outputs": [
    {
     "name": "stdout",
     "output_type": "stream",
     "text": [
      "0.22790000000000002\n"
     ]
    }
   ],
   "source": [
    "\n",
    "P_X = .43\n",
    "\n",
    "\n",
    "P_Support_g_X = .53\n",
    "\n",
    "\n",
    "P_X_n_Support = P_Support_g_X * P_X\n",
    "print(P_X_n_Support)"
   ]
  },
  {
   "cell_type": "code",
   "execution_count": 3,
   "id": "069f0c85-a249-4019-be44-cdf7a09c7fe1",
   "metadata": {},
   "outputs": [],
   "source": []
  },
  {
   "cell_type": "code",
   "execution_count": 4,
   "id": "cab6f153-bd70-46f3-aca5-14f5afd5abf9",
   "metadata": {},
   "outputs": [
    {
     "name": "stdout",
     "output_type": "stream",
     "text": [
      "0.2176\n"
     ]
    }
   ],
   "source": [
    "\n",
    "P_Z = .32\n",
    "\n",
    "\n",
    "P_Support_g_Z = 0.32\n",
    "P_NoSupport_g_Z = 1 - P_Support_g_Z\n",
    "\n",
    "\n",
    "P_Z_n_NoSupport = P_Z * P_NoSupport_g_Z\n",
    "print(P_Z_n_NoSupport)"
   ]
  },
  {
   "cell_type": "code",
   "execution_count": null,
   "id": "d30ae45b-356a-43cb-9d99-211bd609cce8",
   "metadata": {},
   "outputs": [],
   "source": []
  },
  {
   "cell_type": "code",
   "execution_count": null,
   "id": "d36ae2c1-80bb-46a2-90ba-58fc92661509",
   "metadata": {},
   "outputs": [],
   "source": [
    "\n",
    "P_X = .43\n",
    "P_Y = .25\n",
    "P_Z = .32\n",
    "\n",
    "\n",
    "P_Support_g_X = .53\n",
    "P_Support_g_Y = .67\n",
    "P_Support_g_Z = .32\n",
    "\n",
    "\n",
    "P_Support = P_X * P_Support_g_X + P_Y * P_Support_g_Y + P_Z * P_Support_g_Z\n",
    "print(P_Support)"
   ]
  },
  {
   "cell_type": "code",
   "execution_count": null,
   "id": "82cd6fa6-ca2c-4f88-8301-1477df1c880e",
   "metadata": {},
   "outputs": [],
   "source": [
    "\n",
    "\n"
   ]
  },
  {
   "cell_type": "markdown",
   "id": "60d61bdc-76bf-4703-a4a6-8cf6125cea55",
   "metadata": {},
   "source": [
    "### Factories and parts"
   ]
  },
  {
   "cell_type": "code",
   "execution_count": null,
   "id": "3fd42cbf-a191-4c02-9bb8-9562660fc227",
   "metadata": {},
   "outputs": [],
   "source": [
    "\n",
    "\n",
    "P_V1 = .50\n",
    "P_V2 = .25\n",
    "P_V3 = .25\n",
    "P_D_g_V1 = .01\n",
    "P_D_g_V2 = .02\n",
    "P_D_g_V3 = .03\n",
    "\n",
    "\n",
    "P_Damaged = (P_V1 * P_D_g_V1) + (P_V2 * P_D_g_V2) + (P_V3 * P_D_g_V3)\n",
    "\n",
    "\n",
    "P_V1_g_D = (P_V1 * P_D_g_V1) / P_Damaged\n",
    "\n",
    "print(P_V1_g_D)"
   ]
  },
  {
   "cell_type": "code",
   "execution_count": null,
   "id": "a32909d4-c702-4a52-9269-8664127fa12b",
   "metadata": {},
   "outputs": [],
   "source": []
  }
 ],
 "metadata": {
  "kernelspec": {
   "display_name": "Python 3 (ipykernel)",
   "language": "python",
   "name": "python3"
  },
  "language_info": {
   "codemirror_mode": {
    "name": "ipython",
    "version": 3
   },
   "file_extension": ".py",
   "mimetype": "text/x-python",
   "name": "python",
   "nbconvert_exporter": "python",
   "pygments_lexer": "ipython3",
   "version": "3.8.0"
  }
 },
 "nbformat": 4,
 "nbformat_minor": 5
}
