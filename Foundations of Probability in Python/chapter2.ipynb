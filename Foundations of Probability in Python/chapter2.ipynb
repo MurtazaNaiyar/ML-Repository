{
 "cells": [
  {
   "cell_type": "markdown",
   "id": "835e6345-88fa-4df8-8ded-1a3a573235ff",
   "metadata": {},
   "source": [
    "## Calculate some probabilities"
   ]
  },
  {
   "cell_type": "markdown",
   "id": "b6e4eeaa-bd90-40c1-b9f4-d672e5f08f34",
   "metadata": {},
   "source": [
    "### Measuring a sample"
   ]
  },
  {
   "cell_type": "code",
   "execution_count": 2,
   "id": "4a6cbd72-d3f5-449b-aaaf-eecea59d1bc4",
   "metadata": {},
   "outputs": [],
   "source": [
    "import numpy as np"
   ]
  },
  {
   "cell_type": "code",
   "execution_count": 3,
   "id": "7748e099-5382-454c-8a60-8f05ce4a3f1d",
   "metadata": {},
   "outputs": [],
   "source": [
    "sample_of_two_coin_flips = np.array(\n",
    "    [1, 2, 1, 1, 0, 0, 0, 2, 1, 1, 0, 2, 2, 0, 0, 0, 1, 1, 1, 1, 1, 0,\n",
    "       1, 1, 1, 2, 0, 1, 1, 0, 1, 0, 0, 2, 2, 2, 1, 0, 1, 1, 0, 1, 0, 2,\n",
    "       1, 1, 1, 1, 1, 0, 2, 2, 2, 2, 1, 2, 0, 0, 0, 1, 1, 1, 2, 1, 1, 1,\n",
    "       0, 2, 0, 2, 2, 0, 0, 2, 1, 1, 2, 0, 1, 0, 2, 1, 1, 0, 1, 1, 1, 1,\n",
    "       2, 1, 0, 1, 2, 1, 2, 1, 1, 1, 0, 0, 0, 1, 1, 1, 2, 0, 1, 2, 0, 0,\n",
    "       1, 0, 2, 2, 1, 2, 2, 0, 2, 1, 2, 2, 1, 0, 0, 1, 2, 2, 0, 1, 1, 0,\n",
    "       0, 1, 2, 1, 1, 1, 1, 2, 2, 1, 1, 1, 1, 0, 1, 1, 0, 1, 2, 0, 0, 1,\n",
    "       2, 0, 1, 2, 0, 1, 1, 1, 1, 1, 0, 2, 1, 0, 0, 1, 1, 0, 1, 0, 1, 0,\n",
    "       1, 1, 2, 0, 1, 0, 2, 2, 1, 1, 2, 1, 1, 0, 0, 2, 2, 1, 1, 1, 1, 2,\n",
    "       2, 2, 1, 0, 0, 2, 1, 0, 0, 1, 0, 0, 1, 1, 1, 0, 1, 0, 1, 1, 1, 2,\n",
    "       1, 1, 0, 1, 1, 0, 2, 1, 2, 1, 2, 1, 1, 1, 0, 1, 1, 0, 1, 0, 2, 2,\n",
    "       2, 1, 0, 2, 1, 2, 2, 2, 1, 1, 2, 1, 0, 1, 2, 1, 1, 0, 1, 2, 0, 1,\n",
    "       2, 1, 1, 1, 1, 1, 2, 2, 2, 2, 1, 1, 2, 1, 1, 2, 2, 1, 1, 0, 1, 0,\n",
    "       1, 1, 1, 1, 0, 0, 2, 1, 0, 1, 2, 0, 1, 0, 0, 1, 1, 1, 1, 2, 1, 1,\n",
    "       2, 1, 1, 0, 0, 2, 2, 1, 1, 0, 0, 1, 1, 1, 1, 1, 2, 1, 1, 1, 1, 0,\n",
    "       1, 2, 0, 0, 0, 0, 2, 1, 1, 0, 1, 1, 0, 1, 1, 1, 1, 0, 1, 1, 1, 2,\n",
    "       1, 0, 0, 1, 0, 1, 2, 1, 1, 1, 1, 1, 2, 1, 2, 2, 0, 0, 0, 0, 0, 1,\n",
    "       0, 1, 2, 0, 2, 1, 0, 1, 1, 2, 1, 2, 1, 0, 2, 2, 2, 1, 1, 2, 1, 2,\n",
    "       2, 1, 2, 2, 0, 2, 1, 2, 1, 2, 1, 0, 2, 0, 1, 2, 2, 1, 1, 1, 1, 1,\n",
    "       1, 2, 2, 2, 0, 1, 0, 1, 1, 2, 1, 0, 0, 2, 1, 0, 0, 1, 0, 2, 1, 0,\n",
    "       0, 2, 1, 1, 2, 2, 2, 2, 1, 0, 2, 1, 1, 2, 0, 1, 0, 1, 0, 0, 0, 1,\n",
    "       1, 1, 2, 1, 1, 2, 0, 2, 0, 2, 0, 2, 1, 2, 0, 1, 2, 1, 1, 1, 1, 1,\n",
    "       1, 2, 0, 1, 2, 2, 1, 1, 1, 0, 1, 1, 1, 0, 2, 2, 1, 1, 1, 2, 1, 0,\n",
    "       2, 2, 2, 1, 1, 1, 2, 2, 0, 0, 1, 2, 2, 0, 1, 1, 2, 2, 2, 1, 1, 1,\n",
    "       0, 2, 2, 2, 2, 1, 2, 2, 2, 0, 1, 0, 2, 1, 0, 1, 1, 1, 0, 1, 1, 2,\n",
    "       1, 2, 1, 1, 2, 1, 0, 0, 2, 1, 1, 0, 0, 0, 1, 1, 1, 1, 2, 1, 1, 2,\n",
    "       1, 1, 2, 2, 0, 2, 1, 1, 1, 2, 1, 1, 1, 0, 0, 0, 0, 0, 0, 1, 0, 1,\n",
    "       2, 1, 1, 0, 0, 0, 0, 1, 0, 0, 0, 1, 0, 1, 1, 1, 0, 2, 1, 0, 2, 2,\n",
    "       0, 1, 2, 1, 0, 0, 1, 1, 1, 1, 1, 1, 0, 1, 1, 2, 1, 1, 0, 1, 1, 0,\n",
    "       1, 1, 0, 1, 0, 1, 0, 2, 1, 1, 2, 1, 0, 1, 1, 1, 1, 0, 1, 1, 1, 1,\n",
    "       1, 2, 1, 0, 0, 0, 0, 0, 0, 1, 0, 2, 0, 1, 1, 2, 0, 1, 2, 2, 2, 1,\n",
    "       0, 1, 2, 1, 1, 1, 2, 0, 1, 1, 1, 0, 0, 1, 1, 1, 0, 1, 1, 0, 1, 0,\n",
    "       0, 2, 1, 2, 1, 1, 2, 1, 1, 1, 1, 2, 2, 2, 0, 1, 2, 0, 0, 1, 1, 2,\n",
    "       0, 2, 0, 0, 0, 2, 1, 1, 1, 2, 1, 2, 1, 1, 1, 1, 1, 1, 0, 2, 1, 1,\n",
    "       2, 1, 0, 2, 1, 1, 0, 2, 1, 1, 2, 2, 0, 1, 0, 1, 0, 1, 2, 2, 1, 2,\n",
    "       0, 2, 0, 1, 2, 0, 0, 1, 1, 1, 1, 1, 1, 1, 0, 2, 1, 1, 1, 2, 0, 1,\n",
    "       1, 1, 0, 2, 2, 1, 1, 2, 1, 0, 1, 1, 1, 1, 2, 2, 1, 0, 2, 2, 0, 2,\n",
    "       2, 1, 1, 1, 0, 1, 2, 0, 1, 1, 1, 2, 1, 1, 1, 1, 0, 1, 0, 0, 1, 1,\n",
    "       2, 1, 1, 1, 0, 1, 0, 2, 0, 1, 0, 2, 1, 1, 0, 1, 0, 2, 0, 0, 0, 1,\n",
    "       1, 0, 2, 1, 1, 1, 1, 1, 0, 0, 2, 2, 1, 1, 1, 1, 0, 0, 1, 1, 0, 0,\n",
    "       0, 1, 0, 0, 2, 0, 1, 0, 0, 0, 1, 2, 2, 1, 1, 0, 1, 2, 0, 0, 0, 0,\n",
    "       0, 1, 1, 2, 2, 1, 1, 1, 1, 1, 1, 1, 1, 1, 1, 2, 2, 0, 2, 1, 2, 2,\n",
    "       1, 0, 1, 1, 1, 1, 0, 2, 2, 1, 0, 1, 0, 2, 0, 1, 1, 1, 1, 2, 0, 0,\n",
    "       0, 2, 2, 1, 1, 1, 0, 2, 1, 1, 1, 0, 0, 1, 0, 1, 0, 1, 1, 1, 1, 1,\n",
    "       1, 1, 1, 2, 1, 0, 0, 1, 1, 0, 1, 1, 1, 2, 0, 0, 1, 1, 1, 1, 0, 2,\n",
    "       2, 1, 1, 1, 1, 0, 2, 0, 2, 1]\n",
    ")"
   ]
  },
  {
   "cell_type": "code",
   "execution_count": 20,
   "id": "87c6e0a6-b159-41af-8720-6f9bf40a9b98",
   "metadata": {},
   "outputs": [],
   "source": [
    "from scipy.stats import find_repeats, relfreq\n",
    "from scipy.stats import binom"
   ]
  },
  {
   "cell_type": "code",
   "execution_count": 8,
   "id": "72bac7e1-31fe-4ad7-ae3e-572fd10599bd",
   "metadata": {},
   "outputs": [
    {
     "data": {
      "text/plain": [
       "RepeatedResults(values=array([0., 1., 2.]), counts=array([269, 488, 243]))"
      ]
     },
     "execution_count": 8,
     "metadata": {},
     "output_type": "execute_result"
    }
   ],
   "source": [
    "find_repeats(sample_of_two_coin_flips)"
   ]
  },
  {
   "cell_type": "code",
   "execution_count": 6,
   "id": "f5aa6205-3a8e-40a2-8e4b-5ad06dbe1c55",
   "metadata": {},
   "outputs": [
    {
     "name": "stdout",
     "output_type": "stream",
     "text": [
      "0.243\n"
     ]
    }
   ],
   "source": [
    "\n",
    "count_2_heads = find_repeats(sample_of_two_coin_flips).counts[2]\n",
    "\n",
    "\n",
    "prob_2_heads = count_2_heads / len(sample_of_two_coin_flips)\n",
    "\n",
    "\n",
    "print(prob_2_heads)"
   ]
  },
  {
   "cell_type": "code",
   "execution_count": 10,
   "id": "24442051-65d3-479b-8cac-71478e77e409",
   "metadata": {},
   "outputs": [
    {
     "name": "stdout",
     "output_type": "stream",
     "text": [
      "[0.269 0.488 0.243]\n"
     ]
    }
   ],
   "source": [
    "\n",
    "\n",
    "\n",
    "rel_freq = relfreq(sample_of_two_coin_flips, numbins=3).frequency\n",
    "print(rel_freq)"
   ]
  },
  {
   "cell_type": "code",
   "execution_count": 22,
   "id": "adbcbea1-600d-4558-a03b-491c873d2a77",
   "metadata": {},
   "outputs": [
    {
     "name": "stdout",
     "output_type": "stream",
     "text": [
      "[0.25 0.5  0.25]\n"
     ]
    }
   ],
   "source": [
    "\n",
    "probabilities = binom.pmf([0, 1, 2], n=2, p=0.5)\n",
    "print(probabilities)"
   ]
  },
  {
   "cell_type": "code",
   "execution_count": null,
   "id": "a287798d-9716-4512-b41d-2608d786e43f",
   "metadata": {},
   "outputs": [],
   "source": []
  }
 ],
 "metadata": {
  "kernelspec": {
   "display_name": "Python 3 (ipykernel)",
   "language": "python",
   "name": "python3"
  },
  "language_info": {
   "codemirror_mode": {
    "name": "ipython",
    "version": 3
   },
   "file_extension": ".py",
   "mimetype": "text/x-python",
   "name": "python",
   "nbconvert_exporter": "python",
   "pygments_lexer": "ipython3",
   "version": "3.7.8"
  }
 },
 "nbformat": 4,
 "nbformat_minor": 5
}
