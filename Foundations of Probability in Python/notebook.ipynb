{
 "cells": [
  {
   "cell_type": "markdown",
   "id": "3df789e0-23f4-4246-9619-4fa917d5fb33",
   "metadata": {},
   "source": [
    "# Foundations of Probability in Python"
   ]
  },
  {
   "cell_type": "markdown",
   "id": "5fd5ea0b-d054-4399-9e1f-0d283af3b673",
   "metadata": {},
   "source": [
    "## Let's start flipping coins"
   ]
  },
  {
   "cell_type": "markdown",
   "id": "911ccaf2-473e-4d75-bba9-f92352e1984d",
   "metadata": {},
   "source": [
    "Binary outcome: Bernulli trial"
   ]
  },
  {
   "cell_type": "markdown",
   "id": "5830ebfd-ff07-4753-a9b5-d0372e5d9344",
   "metadata": {},
   "source": [
    "### Flipping coins"
   ]
  },
  {
   "cell_type": "code",
   "execution_count": 3,
   "id": "552ebd9d-03c2-49c1-8f96-22adb112e668",
   "metadata": {},
   "outputs": [],
   "source": [
    "import numpy as np"
   ]
  },
  {
   "cell_type": "code",
   "execution_count": 4,
   "id": "63766293-fb9c-4025-be17-8b42f64e36e2",
   "metadata": {},
   "outputs": [
    {
     "name": "stdout",
     "output_type": "stream",
     "text": [
      "[0]\n"
     ]
    }
   ],
   "source": [
    "\n",
    "from scipy.stats import bernoulli\n",
    "\n",
    "\n",
    "np.random.seed(42)\n",
    "\n",
    "\n",
    "coin_flip = bernoulli.rvs(p=.35, size=1)\n",
    "print(coin_flip)"
   ]
  },
  {
   "cell_type": "code",
   "execution_count": 5,
   "id": "627530bb-3d4d-4659-a397-ec43959f0f28",
   "metadata": {},
   "outputs": [
    {
     "name": "stdout",
     "output_type": "stream",
     "text": [
      "4\n"
     ]
    }
   ],
   "source": [
    "\n",
    "ten_coin_flips = bernoulli.rvs(p=.35, size=10)\n",
    "coin_flips_sum = sum(ten_coin_flips)\n",
    "print(coin_flips_sum)"
   ]
  },
  {
   "cell_type": "markdown",
   "id": "142edbc6-7f9a-4ca5-a6d5-9f49ff786436",
   "metadata": {},
   "source": [
    "### Using binom to flip even more coins"
   ]
  },
  {
   "cell_type": "code",
   "execution_count": 7,
   "id": "f40b66a7-0375-4472-8ba9-6b8df0edce75",
   "metadata": {},
   "outputs": [],
   "source": [
    "from scipy.stats import binom"
   ]
  },
  {
   "cell_type": "code",
   "execution_count": 8,
   "id": "1bc49475-246f-443b-864c-2e78c826e5ca",
   "metadata": {},
   "outputs": [
    {
     "name": "stdout",
     "output_type": "stream",
     "text": [
      "[6 5 2 2 2 3 4 3 3 4 2 3 3 3 5 2 4 4 1 4]\n"
     ]
    }
   ],
   "source": [
    "\n",
    "draws = binom.rvs(n=10, p=.35, size=20)\n",
    "print(draws)"
   ]
  },
  {
   "cell_type": "markdown",
   "id": "fea9d0c8-93fc-4340-bd9d-8cd6c78f177c",
   "metadata": {},
   "source": [
    "### Predicting the probability of defects"
   ]
  },
  {
   "cell_type": "markdown",
   "id": "c8ad4de7-5a53-498a-b76a-90a0d5b5e4ee",
   "metadata": {},
   "source": [
    "* `binom.pmf()` - calculates the probability of having exactly k heads out of n coin flips.\n",
    "* `binom.cdf()` - calculates the probability of having k heads or less out of n coin flips.\n",
    "* `binom.sf()` - calculates the probability of having more than k heads out of n coin flips."
   ]
  },
  {
   "cell_type": "code",
   "execution_count": 9,
   "id": "67d903ee-9074-4a1e-b9e0-7229c0b66121",
   "metadata": {},
   "outputs": [
    {
     "name": "stdout",
     "output_type": "stream",
     "text": [
      "0.37160171437460954\n"
     ]
    }
   ],
   "source": [
    "\n",
    "prob_one_defect = binom.pmf(k=1, n=50, p=0.02)\n",
    "print(prob_one_defect)"
   ]
  },
  {
   "cell_type": "code",
   "execution_count": 10,
   "id": "db41f366-705b-4312-8430-754ef894f415",
   "metadata": {},
   "outputs": [
    {
     "name": "stdout",
     "output_type": "stream",
     "text": [
      "0.36416968008711675\n"
     ]
    }
   ],
   "source": [
    "\n",
    "prob_no_defects = binom.pmf(k=0, n=50, p=0.02)\n",
    "print(prob_no_defects)"
   ]
  },
  {
   "cell_type": "code",
   "execution_count": 11,
   "id": "e7316706-d635-4562-bc18-dbc3e22cb731",
   "metadata": {},
   "outputs": [
    {
     "name": "stdout",
     "output_type": "stream",
     "text": [
      "0.921572251649031\n"
     ]
    }
   ],
   "source": [
    "\n",
    "prob_two_or_less_defects = binom.cdf(k=2, n=50, p=0.02)\n",
    "print(prob_two_or_less_defects)"
   ]
  },
  {
   "cell_type": "markdown",
   "id": "c04938c4-120d-4bd0-8ca8-55fc210c022c",
   "metadata": {},
   "source": [
    "### Predicting employment status"
   ]
  },
  {
   "cell_type": "code",
   "execution_count": 13,
   "id": "4211fdb2-268f-4875-b2b7-31ee43aeb4ca",
   "metadata": {},
   "outputs": [
    {
     "name": "stdout",
     "output_type": "stream",
     "text": [
      "0.2785857790625\n"
     ]
    }
   ],
   "source": [
    "\n",
    "prob_five_yes = binom.pmf(k=5, n=8, p=0.65)\n",
    "print(prob_five_yes)"
   ]
  },
  {
   "cell_type": "code",
   "execution_count": 14,
   "id": "69c099d4-36ea-471b-937c-71cd7e264b81",
   "metadata": {},
   "outputs": [
    {
     "name": "stdout",
     "output_type": "stream",
     "text": [
      "0.8939090951171875\n"
     ]
    }
   ],
   "source": [
    "\n",
    "prob_three_or_less_no = 1-binom.cdf(k=3, n=8, p=0.65)\n",
    "print(prob_three_or_less_no)"
   ]
  },
  {
   "cell_type": "code",
   "execution_count": 15,
   "id": "34e9951a-07e1-4777-89c4-18ff96009d65",
   "metadata": {},
   "outputs": [
    {
     "name": "stdout",
     "output_type": "stream",
     "text": [
      "0.8939090951171875\n"
     ]
    }
   ],
   "source": [
    "\n",
    "prob_more_than_three_yes = binom.sf(k=3, n=8, p=0.65)\n",
    "print(prob_more_than_three_yes)"
   ]
  },
  {
   "cell_type": "markdown",
   "id": "df0e178b-dc8c-4527-bcfe-6b0a67778b51",
   "metadata": {},
   "source": [
    "### Predicting burglary conviction rate\n"
   ]
  },
  {
   "cell_type": "code",
   "execution_count": 16,
   "id": "2b8b4371-2e22-4248-9a35-70461a1a331c",
   "metadata": {},
   "outputs": [
    {
     "name": "stdout",
     "output_type": "stream",
     "text": [
      "0.04587520000000002\n"
     ]
    }
   ],
   "source": [
    "\n",
    "four_solved = binom.pmf(k=4, n=9, p=0.20)\n",
    "print(four_solved)"
   ]
  },
  {
   "cell_type": "code",
   "execution_count": 17,
   "id": "c433f306-f783-4466-b0bd-31614b32bd16",
   "metadata": {},
   "outputs": [
    {
     "name": "stdout",
     "output_type": "stream",
     "text": [
      "0.08564172800000006\n"
     ]
    }
   ],
   "source": [
    "\n",
    "more_than_three_solved = binom.sf(k=3, n=9, p=0.2)\n",
    "print(more_than_three_solved)"
   ]
  },
  {
   "cell_type": "code",
   "execution_count": 18,
   "id": "62978c67-a41e-4828-8756-5f92b7dad9fe",
   "metadata": {},
   "outputs": [
    {
     "name": "stdout",
     "output_type": "stream",
     "text": [
      "0.4781506560000002\n"
     ]
    }
   ],
   "source": [
    "\n",
    "\n",
    "two_or_three_solved = binom.pmf(k=2, n=9, p=0.2) + binom.pmf(k=3, n=9, p=0.2)\n",
    "print(two_or_three_solved)"
   ]
  },
  {
   "cell_type": "code",
   "execution_count": 19,
   "id": "a750d176-5943-49b9-ada0-be03f497e293",
   "metadata": {},
   "outputs": [
    {
     "name": "stdout",
     "output_type": "stream",
     "text": [
      "0.4362265599999997\n"
     ]
    }
   ],
   "source": [
    "\n",
    "tail_probabilities = binom.cdf(k=1, n=9, p=0.2) + binom.sf(k=7, n=9, p=0.2)\n",
    "print(tail_probabilities)"
   ]
  },
  {
   "cell_type": "markdown",
   "id": "268e49e3-d9bf-4679-ad47-78b64262074a",
   "metadata": {},
   "source": [
    "### Calculating the sample mean"
   ]
  },
  {
   "cell_type": "code",
   "execution_count": 20,
   "id": "1d90cb95-a219-4d4c-8d80-12f30ea7c948",
   "metadata": {},
   "outputs": [],
   "source": [
    "from scipy.stats import describe"
   ]
  },
  {
   "cell_type": "code",
   "execution_count": 21,
   "id": "5a214064-a1f3-48df-b30b-1a70b622836b",
   "metadata": {},
   "outputs": [
    {
     "name": "stdout",
     "output_type": "stream",
     "text": [
      "0.49\n"
     ]
    }
   ],
   "source": [
    "\n",
    "sample_of_100_flips = binom.rvs(n=1, p=0.5, size=100)\n",
    "sample_mean_100_flips = describe(sample_of_100_flips).mean\n",
    "print(sample_mean_100_flips)"
   ]
  },
  {
   "cell_type": "code",
   "execution_count": 22,
   "id": "138071d0-f712-4ea6-82e4-330c1db103a3",
   "metadata": {},
   "outputs": [
    {
     "name": "stdout",
     "output_type": "stream",
     "text": [
      "0.505\n"
     ]
    }
   ],
   "source": [
    "\n",
    "sample_mean_1000_flips = describe(binom.rvs(n=1, p=0.5, size=1000)).mean\n",
    "print(sample_mean_1000_flips)"
   ]
  },
  {
   "cell_type": "code",
   "execution_count": 23,
   "id": "e540af50-ab93-4ca9-826d-7074750f9803",
   "metadata": {},
   "outputs": [
    {
     "name": "stdout",
     "output_type": "stream",
     "text": [
      "0.5045\n"
     ]
    }
   ],
   "source": [
    "\n",
    "sample_mean_2000_flips = describe(binom.rvs(n=1, p=0.5, size=2000)).mean\n",
    "print(sample_mean_2000_flips)"
   ]
  },
  {
   "cell_type": "markdown",
   "id": "6fe17641-35c3-44dc-9fcd-fd7ae0e165d6",
   "metadata": {},
   "source": [
    "### Checking the result"
   ]
  },
  {
   "cell_type": "code",
   "execution_count": 24,
   "id": "51ee4943-e118-4a38-a942-09b959d1a2a2",
   "metadata": {},
   "outputs": [
    {
     "name": "stdout",
     "output_type": "stream",
     "text": [
      "2.9655 2.002310905452726 3.0 2.0999999999999996 (array(3.), array(2.1))\n"
     ]
    }
   ],
   "source": [
    "sample = binom.rvs(n=10, p=0.3, size=2000)\n",
    "\n",
    "\n",
    "sample_describe = describe(sample)\n",
    "\n",
    "\n",
    "mean = 10*0.3\n",
    "\n",
    "\n",
    "variance = mean*(1-0.3)\n",
    "\n",
    "\n",
    "binom_stats = binom.stats(n=10, p=0.3)\n",
    "\n",
    "print(sample_describe.mean, sample_describe.variance, mean, variance, binom_stats)"
   ]
  },
  {
   "cell_type": "markdown",
   "id": "80c34614-b000-4733-942e-cffc937a0a60",
   "metadata": {},
   "source": [
    "### Calculating the mean and variance of a sample"
   ]
  },
  {
   "cell_type": "code",
   "execution_count": 27,
   "id": "a64e074a-7888-44cb-bcc2-f79f5f20c286",
   "metadata": {},
   "outputs": [],
   "source": [
    "averages = []\n",
    "variances = []"
   ]
  },
  {
   "cell_type": "code",
   "execution_count": 29,
   "id": "8d899db3-193d-42b4-8c89-90ec615f8889",
   "metadata": {},
   "outputs": [
    {
     "name": "stdout",
     "output_type": "stream",
     "text": [
      "Mean 2.5001333333333333\n",
      "Variance 1.8629703703703704\n",
      "(array(2.5), array(1.875))\n"
     ]
    }
   ],
   "source": [
    "for i in range(0, 1500):\n",
    "    \n",
    "    sample = binom.rvs(n=10, p=0.25, size=10)\n",
    "    \n",
    "    averages.append(describe(sample).mean)\n",
    "    variances.append(describe(sample).variance)\n",
    "  \n",
    "\n",
    "print(\"Mean {}\".format(describe(averages).mean))\n",
    "\n",
    "\n",
    "print(\"Variance {}\".format(describe(variances).mean))\n",
    "\n",
    "\n",
    "print(binom.stats(n=10, p=0.25))"
   ]
  },
  {
   "cell_type": "code",
   "execution_count": null,
   "id": "1f9f2575-4ff5-43ce-be97-7242131dd98e",
   "metadata": {},
   "outputs": [],
   "source": []
  }
 ],
 "metadata": {
  "kernelspec": {
   "display_name": "Python 3 (ipykernel)",
   "language": "python",
   "name": "python3"
  },
  "language_info": {
   "codemirror_mode": {
    "name": "ipython",
    "version": 3
   },
   "file_extension": ".py",
   "mimetype": "text/x-python",
   "name": "python",
   "nbconvert_exporter": "python",
   "pygments_lexer": "ipython3",
   "version": "3.9.6"
  }
 },
 "nbformat": 4,
 "nbformat_minor": 5
}
