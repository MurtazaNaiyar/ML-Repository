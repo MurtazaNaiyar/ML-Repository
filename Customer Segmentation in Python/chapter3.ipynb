{
 "cells": [
  {
   "cell_type": "markdown",
   "id": "24b87647-2ef9-4408-8d9f-28237d449d01",
   "metadata": {},
   "source": [
    "## Data pre-processing for clustering"
   ]
  },
  {
   "cell_type": "markdown",
   "id": "73161405-c58c-4168-841b-199eb0f72c75",
   "metadata": {},
   "source": [
    "### Calculate statistics of variables"
   ]
  },
  {
   "cell_type": "code",
   "execution_count": 5,
   "id": "b57f4edf-10bf-4ce4-b1ea-1ec8e112fcdd",
   "metadata": {},
   "outputs": [],
   "source": [
    "import numpy as np\n",
    "import pandas as pd\n",
    "import seaborn as sns\n",
    "\n",
    "import matplotlib.pyplot as plt"
   ]
  },
  {
   "cell_type": "code",
   "execution_count": 2,
   "id": "d0736e23-8c7b-4910-a4d1-0d7d3bd22958",
   "metadata": {},
   "outputs": [],
   "source": [
    "data = pd.read_csv('data.csv')"
   ]
  },
  {
   "cell_type": "code",
   "execution_count": 5,
   "id": "110d25b7-67fc-49e1-b943-04e0b582f544",
   "metadata": {},
   "outputs": [
    {
     "data": {
      "text/html": [
       "<div>\n",
       "<style scoped>\n",
       "    .dataframe tbody tr th:only-of-type {\n",
       "        vertical-align: middle;\n",
       "    }\n",
       "\n",
       "    .dataframe tbody tr th {\n",
       "        vertical-align: top;\n",
       "    }\n",
       "\n",
       "    .dataframe thead th {\n",
       "        text-align: right;\n",
       "    }\n",
       "</style>\n",
       "<table border=\"1\" class=\"dataframe\">\n",
       "  <thead>\n",
       "    <tr style=\"text-align: right;\">\n",
       "      <th></th>\n",
       "      <th>var1</th>\n",
       "      <th>var2</th>\n",
       "      <th>var3</th>\n",
       "    </tr>\n",
       "  </thead>\n",
       "  <tbody>\n",
       "    <tr>\n",
       "      <th>0</th>\n",
       "      <td>137</td>\n",
       "      <td>1.840</td>\n",
       "      <td>2.898</td>\n",
       "    </tr>\n",
       "    <tr>\n",
       "      <th>1</th>\n",
       "      <td>335</td>\n",
       "      <td>0.910</td>\n",
       "      <td>0.687</td>\n",
       "    </tr>\n",
       "    <tr>\n",
       "      <th>2</th>\n",
       "      <td>172</td>\n",
       "      <td>4.104</td>\n",
       "      <td>8.326</td>\n",
       "    </tr>\n",
       "    <tr>\n",
       "      <th>3</th>\n",
       "      <td>355</td>\n",
       "      <td>6.661</td>\n",
       "      <td>1.582</td>\n",
       "    </tr>\n",
       "    <tr>\n",
       "      <th>4</th>\n",
       "      <td>303</td>\n",
       "      <td>15.285</td>\n",
       "      <td>110.750</td>\n",
       "    </tr>\n",
       "  </tbody>\n",
       "</table>\n",
       "</div>"
      ],
      "text/plain": [
       "   var1    var2     var3\n",
       "0   137   1.840    2.898\n",
       "1   335   0.910    0.687\n",
       "2   172   4.104    8.326\n",
       "3   355   6.661    1.582\n",
       "4   303  15.285  110.750"
      ]
     },
     "execution_count": 5,
     "metadata": {},
     "output_type": "execute_result"
    }
   ],
   "source": [
    "data.head()"
   ]
  },
  {
   "cell_type": "code",
   "execution_count": 6,
   "id": "fcb84097-e8e7-4b3a-9a1f-13d13ac97826",
   "metadata": {},
   "outputs": [
    {
     "name": "stdout",
     "output_type": "stream",
     "text": [
      "var1    251.85000\n",
      "var2      1.92559\n",
      "var3     12.55028\n",
      "dtype: float64\n",
      "var1    90.993104\n",
      "var2     2.583730\n",
      "var3    34.516362\n",
      "dtype: float64\n",
      "             var1       var2        var3\n",
      "count  100.000000  100.00000  100.000000\n",
      "mean   251.850000    1.92559   12.550280\n",
      "std     90.993104    2.58373   34.516362\n",
      "min    101.000000    0.04800    0.002000\n",
      "25%    171.750000    0.61250    0.280750\n",
      "50%    250.000000    1.17550    1.260500\n",
      "75%    339.250000    2.20800    5.568000\n",
      "max    397.000000   15.31200  228.779000\n"
     ]
    }
   ],
   "source": [
    "\n",
    "print(data.mean())\n",
    "\n",
    "\n",
    "print(data.std())\n",
    "\n",
    "\n",
    "print(data.describe())"
   ]
  },
  {
   "cell_type": "markdown",
   "id": "96a959b2-6734-4977-a8ca-85cdf2027664",
   "metadata": {},
   "source": [
    "### Detect skewed variables"
   ]
  },
  {
   "cell_type": "code",
   "execution_count": 7,
   "id": "5043c834-4c4a-4f32-9e01-4580cd991f26",
   "metadata": {},
   "outputs": [
    {
     "data": {
      "image/png": "[encoded data removed]",
      "text/plain": [
       "<Figure size 432x288 with 3 Axes>"
      ]
     },
     "metadata": {
      "needs_background": "light"
     },
     "output_type": "display_data"
    }
   ],
   "source": [
    "\n",
    "plt.subplot(3, 1, 1); sns.histplot(data['var1'])\n",
    "\n",
    "\n",
    "plt.subplot(3, 1, 2); sns.histplot(data['var2'])\n",
    "\n",
    "\n",
    "plt.subplot(3, 1, 3); sns.histplot(data['var3'])\n",
    "\n",
    "\n",
    "plt.show()"
   ]
  },
  {
   "cell_type": "code",
   "execution_count": null,
   "id": "64144a41-a094-46ab-94d1-7e3eb0b4d323",
   "metadata": {},
   "outputs": [],
   "source": []
  }
 ],
 "metadata": {
  "kernelspec": {
   "display_name": "Python 3",
   "language": "python",
   "name": "python3"
  },
  "language_info": {
   "codemirror_mode": {
    "name": "ipython",
    "version": 3
   },
   "file_extension": ".py",
   "mimetype": "text/x-python",
   "name": "python",
   "nbconvert_exporter": "python",
   "pygments_lexer": "ipython3",
   "version": "3.7.8"
  }
 },
 "nbformat": 4,
 "nbformat_minor": 5
}
