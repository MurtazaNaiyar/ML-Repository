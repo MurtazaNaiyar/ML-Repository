{
 "cells": [
  {
   "cell_type": "markdown",
   "id": "24b87647-2ef9-4408-8d9f-28237d449d01",
   "metadata": {},
   "source": [
    "## Data pre-processing for clustering"
   ]
  },
  {
   "cell_type": "markdown",
   "id": "73161405-c58c-4168-841b-199eb0f72c75",
   "metadata": {},
   "source": [
    "### Calculate statistics of variables"
   ]
  },
  {
   "cell_type": "code",
   "execution_count": 9,
   "id": "b57f4edf-10bf-4ce4-b1ea-1ec8e112fcdd",
   "metadata": {},
   "outputs": [],
   "source": [
    "import numpy as np\n",
    "import pandas as pd\n",
    "import seaborn as sns\n",
    "\n",
    "import matplotlib.pyplot as plt"
   ]
  },
  {
   "cell_type": "code",
   "execution_count": 10,
   "id": "d0736e23-8c7b-4910-a4d1-0d7d3bd22958",
   "metadata": {},
   "outputs": [],
   "source": [
    "data = pd.read_csv('data.csv')"
   ]
  },
  {
   "cell_type": "code",
   "execution_count": 3,
   "id": "110d25b7-67fc-49e1-b943-04e0b582f544",
   "metadata": {},
   "outputs": [
    {
     "data": {
      "text/html": [
       "<div>\n",
       "<style scoped>\n",
       "    .dataframe tbody tr th:only-of-type {\n",
       "        vertical-align: middle;\n",
       "    }\n",
       "\n",
       "    .dataframe tbody tr th {\n",
       "        vertical-align: top;\n",
       "    }\n",
       "\n",
       "    .dataframe thead th {\n",
       "        text-align: right;\n",
       "    }\n",
       "</style>\n",
       "<table border=\"1\" class=\"dataframe\">\n",
       "  <thead>\n",
       "    <tr style=\"text-align: right;\">\n",
       "      <th></th>\n",
       "      <th>var1</th>\n",
       "      <th>var2</th>\n",
       "      <th>var3</th>\n",
       "    </tr>\n",
       "  </thead>\n",
       "  <tbody>\n",
       "    <tr>\n",
       "      <th>0</th>\n",
       "      <td>137</td>\n",
       "      <td>1.840</td>\n",
       "      <td>2.898</td>\n",
       "    </tr>\n",
       "    <tr>\n",
       "      <th>1</th>\n",
       "      <td>335</td>\n",
       "      <td>0.910</td>\n",
       "      <td>0.687</td>\n",
       "    </tr>\n",
       "    <tr>\n",
       "      <th>2</th>\n",
       "      <td>172</td>\n",
       "      <td>4.104</td>\n",
       "      <td>8.326</td>\n",
       "    </tr>\n",
       "    <tr>\n",
       "      <th>3</th>\n",
       "      <td>355</td>\n",
       "      <td>6.661</td>\n",
       "      <td>1.582</td>\n",
       "    </tr>\n",
       "    <tr>\n",
       "      <th>4</th>\n",
       "      <td>303</td>\n",
       "      <td>15.285</td>\n",
       "      <td>110.750</td>\n",
       "    </tr>\n",
       "  </tbody>\n",
       "</table>\n",
       "</div>"
      ],
      "text/plain": [
       "   var1    var2     var3\n",
       "0   137   1.840    2.898\n",
       "1   335   0.910    0.687\n",
       "2   172   4.104    8.326\n",
       "3   355   6.661    1.582\n",
       "4   303  15.285  110.750"
      ]
     },
     "execution_count": 3,
     "metadata": {},
     "output_type": "execute_result"
    }
   ],
   "source": [
    "data.head()"
   ]
  },
  {
   "cell_type": "code",
   "execution_count": 4,
   "id": "fcb84097-e8e7-4b3a-9a1f-13d13ac97826",
   "metadata": {},
   "outputs": [
    {
     "name": "stdout",
     "output_type": "stream",
     "text": [
      "var1    251.85000\n",
      "var2      1.92559\n",
      "var3     12.55028\n",
      "dtype: float64\n",
      "var1    90.993104\n",
      "var2     2.583730\n",
      "var3    34.516362\n",
      "dtype: float64\n",
      "             var1       var2        var3\n",
      "count  100.000000  100.00000  100.000000\n",
      "mean   251.850000    1.92559   12.550280\n",
      "std     90.993104    2.58373   34.516362\n",
      "min    101.000000    0.04800    0.002000\n",
      "25%    171.750000    0.61250    0.280750\n",
      "50%    250.000000    1.17550    1.260500\n",
      "75%    339.250000    2.20800    5.568000\n",
      "max    397.000000   15.31200  228.779000\n"
     ]
    }
   ],
   "source": [
    "\n",
    "print(data.mean())\n",
    "\n",
    "\n",
    "print(data.std())\n",
    "\n",
    "\n",
    "print(data.describe())"
   ]
  },
  {
   "cell_type": "markdown",
   "id": "96a959b2-6734-4977-a8ca-85cdf2027664",
   "metadata": {},
   "source": [
    "### Detect skewed variables"
   ]
  },
  {
   "cell_type": "code",
   "execution_count": 5,
   "id": "5043c834-4c4a-4f32-9e01-4580cd991f26",
   "metadata": {},
   "outputs": [
    {
     "data": {
      "image/png": "[encoded data removed]",
      "text/plain": [
       "<Figure size 432x288 with 3 Axes>"
      ]
     },
     "metadata": {
      "needs_background": "light"
     },
     "output_type": "display_data"
    }
   ],
   "source": [
    "\n",
    "plt.subplot(3, 1, 1); sns.histplot(data['var1'])\n",
    "\n",
    "\n",
    "plt.subplot(3, 1, 2); sns.histplot(data['var2'])\n",
    "\n",
    "\n",
    "plt.subplot(3, 1, 3); sns.histplot(data['var3'])\n",
    "\n",
    "\n",
    "plt.show()"
   ]
  },
  {
   "cell_type": "markdown",
   "id": "34341d82-4815-42c3-a1c9-1e193337859c",
   "metadata": {},
   "source": [
    "### Manage skewness"
   ]
  },
  {
   "cell_type": "code",
   "execution_count": 6,
   "id": "64144a41-a094-46ab-94d1-7e3eb0b4d323",
   "metadata": {},
   "outputs": [
    {
     "name": "stderr",
     "output_type": "stream",
     "text": [
      "/Users/hakan.ozler/Developer/Notebooks/venv-3.7/lib/python3.7/site-packages/seaborn/distributions.py:2619: FutureWarning: `distplot` is a deprecated function and will be removed in a future version. Please adapt your code to use either `displot` (a figure-level function with similar flexibility) or `histplot` (an axes-level function for histograms).\n",
      "  warnings.warn(msg, FutureWarning)\n",
      "/Users/hakan.ozler/Developer/Notebooks/venv-3.7/lib/python3.7/site-packages/seaborn/distributions.py:2619: FutureWarning: `distplot` is a deprecated function and will be removed in a future version. Please adapt your code to use either `displot` (a figure-level function with similar flexibility) or `histplot` (an axes-level function for histograms).\n",
      "  warnings.warn(msg, FutureWarning)\n"
     ]
    },
    {
     "data": {
      "image/png": "[encoded data removed]",
      "text/plain": [
       "<Figure size 432x288 with 2 Axes>"
      ]
     },
     "metadata": {
      "needs_background": "light"
     },
     "output_type": "display_data"
    }
   ],
   "source": [
    "\n",
    "data['var2_log'] = np.log(data['var2'])\n",
    "\n",
    "\n",
    "data['var3_log'] = np.log(data['var3'])\n",
    "\n",
    "\n",
    "plt.subplot(2, 1, 1); sns.distplot(data['var2_log'])\n",
    "\n",
    "\n",
    "plt.subplot(2, 1, 2); sns.distplot(data['var3_log'])\n",
    "\n",
    "\n",
    "plt.show()"
   ]
  },
  {
   "cell_type": "markdown",
   "id": "98346f36-3ab0-4d52-99a6-e415239b1bf4",
   "metadata": {},
   "source": [
    "### Center and scale manually"
   ]
  },
  {
   "cell_type": "code",
   "execution_count": 7,
   "id": "2f5c61da-7b32-48b9-96e9-634409ff69e2",
   "metadata": {},
   "outputs": [
    {
     "name": "stdout",
     "output_type": "stream",
     "text": [
      "         var1    var2    var3  var2_log  var3_log\n",
      "count  100.00  100.00  100.00    100.00    100.00\n",
      "mean     0.00    0.00    0.00      0.00     -0.00\n",
      "std      1.00    1.00    1.00      1.00      1.00\n",
      "min     -1.66   -0.73   -0.36     -2.83     -2.76\n",
      "25%     -0.88   -0.51   -0.36     -0.52     -0.64\n",
      "50%     -0.02   -0.29   -0.33      0.07      0.01\n",
      "75%      0.96    0.11   -0.20      0.64      0.64\n",
      "max      1.60    5.18    6.26      2.39      2.23\n"
     ]
    }
   ],
   "source": [
    "\n",
    "data_centered = data - data.mean()\n",
    "\n",
    "\n",
    "data_scaled = data / data.std()\n",
    "\n",
    "\n",
    "data_normalized = (data - data.mean()) / data.std()\n",
    "\n",
    "\n",
    "print(data_normalized.describe().round(2))"
   ]
  },
  {
   "cell_type": "markdown",
   "id": "f2114d0b-be87-41f7-a2fd-73225e0e334f",
   "metadata": {},
   "source": [
    "### Center and scale with StandardScaler()"
   ]
  },
  {
   "cell_type": "code",
   "execution_count": 12,
   "id": "5bebd012-fa17-464f-ac47-b7928f917dfa",
   "metadata": {},
   "outputs": [],
   "source": [
    "from sklearn.preprocessing import StandardScaler"
   ]
  },
  {
   "cell_type": "code",
   "execution_count": 13,
   "id": "ee698925-21d7-4a5c-970c-023444c027e6",
   "metadata": {},
   "outputs": [
    {
     "name": "stdout",
     "output_type": "stream",
     "text": [
      "         var1    var2    var3\n",
      "count  100.00  100.00  100.00\n",
      "mean     0.00    0.00    0.00\n",
      "std      1.01    1.01    1.01\n",
      "min     -1.67   -0.73   -0.37\n",
      "25%     -0.88   -0.51   -0.36\n",
      "50%     -0.02   -0.29   -0.33\n",
      "75%      0.97    0.11   -0.20\n",
      "max      1.60    5.21    6.30\n"
     ]
    }
   ],
   "source": [
    "\n",
    "scaler = StandardScaler()\n",
    "\n",
    "\n",
    "scaler.fit(data)\n",
    "\n",
    "\n",
    "data_normalized = scaler.transform(data)\n",
    "\n",
    "\n",
    "data_normalized = pd.DataFrame(data_normalized, index=data.index, columns=data.columns)\n",
    "\n",
    "\n",
    "print(data_normalized.describe().round(2))"
   ]
  },
  {
   "cell_type": "code",
   "execution_count": null,
   "id": "67fc66e0-a759-4c3f-86a6-4af32f063ae5",
   "metadata": {},
   "outputs": [],
   "source": []
  }
 ],
 "metadata": {
  "kernelspec": {
   "display_name": "Python 3",
   "language": "python",
   "name": "python3"
  },
  "language_info": {
   "codemirror_mode": {
    "name": "ipython",
    "version": 3
   },
   "file_extension": ".py",
   "mimetype": "text/x-python",
   "name": "python",
   "nbconvert_exporter": "python",
   "pygments_lexer": "ipython3",
   "version": "3.7.8"
  }
 },
 "nbformat": 4,
 "nbformat_minor": 5
}
