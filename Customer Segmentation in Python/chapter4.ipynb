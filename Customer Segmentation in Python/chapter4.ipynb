{
 "cells": [
  {
   "cell_type": "markdown",
   "id": "4dbaf7d2-c969-4dcb-be8d-2cb8a2521c74",
   "metadata": {},
   "source": [
    "## Customer Segmentation with K-means"
   ]
  },
  {
   "cell_type": "code",
   "execution_count": 6,
   "id": "bd66bfaf-8e7d-4624-a327-fea198a6aa60",
   "metadata": {},
   "outputs": [],
   "source": [
    "import numpy as np\n",
    "import pandas as pd\n",
    "import seaborn as sns\n",
    "\n",
    "import matplotlib.pyplot as plt\n",
    "from sklearn.preprocessing import StandardScaler"
   ]
  },
  {
   "cell_type": "markdown",
   "id": "e18bbb5a-f8dc-448e-ab92-a20c4a964740",
   "metadata": {},
   "source": [
    "### Run k-means"
   ]
  },
  {
   "cell_type": "code",
   "execution_count": 4,
   "id": "48ca4dde-f6d0-4eaa-ae0b-0ad24fd18c9a",
   "metadata": {},
   "outputs": [],
   "source": [
    "datamart_rfm = pd.read_csv('datamart_rfm.csv')"
   ]
  },
  {
   "cell_type": "code",
   "execution_count": 7,
   "id": "4779738d-4b24-41b6-b881-d60ecb93880c",
   "metadata": {},
   "outputs": [],
   "source": [
    "datamart_log = np.log(datamart_rfm)\n",
    "\n",
    "\n",
    "scaler = StandardScaler()\n",
    "scaler.fit(datamart_log)\n",
    "\n",
    "\n",
    "datamart_normalized = scaler.transform(datamart_log)"
   ]
  },
  {
   "cell_type": "code",
   "execution_count": 8,
   "id": "dbf73a34-719c-4bb0-b7be-c184ad8bc608",
   "metadata": {},
   "outputs": [],
   "source": [
    "\n",
    "from sklearn.cluster import KMeans\n",
    "\n",
    "\n",
    "kmeans = KMeans(n_clusters=3, random_state=1) \n",
    "\n",
    "\n",
    "kmeans.fit(datamart_normalized)\n",
    "\n",
    "\n",
    "cluster_labels = kmeans.labels_"
   ]
  },
  {
   "cell_type": "markdown",
   "id": "b8283631-8a96-4247-8b90-634730db16dd",
   "metadata": {},
   "source": [
    "### Assign labels to raw data"
   ]
  },
  {
   "cell_type": "code",
   "execution_count": null,
   "id": "ffdd2427-ee07-45e8-9a95-825ea9bd879c",
   "metadata": {},
   "outputs": [],
   "source": [
    "\n",
    "datamart_rfm_k3 = datamart_rfm.assign(Cluster=cluster_labels)\n",
    "\n",
    "\n",
    "grouped = datamart_rfm_k3.groupby(['Cluster'])\n",
    "\n",
    "\n",
    "grouped.agg({\n",
    "    'Recency': 'mean',\n",
    "    'Frequency': 'mean',\n",
    "    'MonetaryValue': ['mean', 'count']\n",
    "  }).round(1)"
   ]
  }
 ],
 "metadata": {
  "kernelspec": {
   "display_name": "Python 3 (ipykernel)",
   "language": "python",
   "name": "python3"
  },
  "language_info": {
   "codemirror_mode": {
    "name": "ipython",
    "version": 3
   },
   "file_extension": ".py",
   "mimetype": "text/x-python",
   "name": "python",
   "nbconvert_exporter": "python",
   "pygments_lexer": "ipython3",
   "version": "3.8.2"
  }
 },
 "nbformat": 4,
 "nbformat_minor": 5
}
