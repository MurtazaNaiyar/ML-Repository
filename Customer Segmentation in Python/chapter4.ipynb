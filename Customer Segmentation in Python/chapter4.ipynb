{
 "cells": [
  {
   "cell_type": "markdown",
   "id": "4dbaf7d2-c969-4dcb-be8d-2cb8a2521c74",
   "metadata": {},
   "source": [
    "## Customer Segmentation with K-means"
   ]
  },
  {
   "cell_type": "code",
   "execution_count": 1,
   "id": "bd66bfaf-8e7d-4624-a327-fea198a6aa60",
   "metadata": {},
   "outputs": [],
   "source": [
    "import numpy as np\n",
    "import pandas as pd\n",
    "import seaborn as sns\n",
    "\n",
    "import matplotlib.pyplot as plt\n",
    "from sklearn.preprocessing import StandardScaler"
   ]
  },
  {
   "cell_type": "markdown",
   "id": "e18bbb5a-f8dc-448e-ab92-a20c4a964740",
   "metadata": {},
   "source": [
    "### Run k-means"
   ]
  },
  {
   "cell_type": "code",
   "execution_count": 18,
   "id": "48ca4dde-f6d0-4eaa-ae0b-0ad24fd18c9a",
   "metadata": {},
   "outputs": [],
   "source": [
    "datamart_rfm = pd.read_csv('datamart_rfm.csv')"
   ]
  },
  {
   "cell_type": "code",
   "execution_count": 21,
   "id": "aecef743-7545-4c6b-b932-cce9f3495f08",
   "metadata": {},
   "outputs": [
    {
     "data": {
      "text/html": [
       "<div>\n",
       "<style scoped>\n",
       "    .dataframe tbody tr th:only-of-type {\n",
       "        vertical-align: middle;\n",
       "    }\n",
       "\n",
       "    .dataframe tbody tr th {\n",
       "        vertical-align: top;\n",
       "    }\n",
       "\n",
       "    .dataframe thead th {\n",
       "        text-align: right;\n",
       "    }\n",
       "</style>\n",
       "<table border=\"1\" class=\"dataframe\">\n",
       "  <thead>\n",
       "    <tr style=\"text-align: right;\">\n",
       "      <th></th>\n",
       "      <th>Recency</th>\n",
       "      <th>Frequency</th>\n",
       "      <th>MonetaryValue</th>\n",
       "    </tr>\n",
       "  </thead>\n",
       "  <tbody>\n",
       "    <tr>\n",
       "      <th>0</th>\n",
       "      <td>3</td>\n",
       "      <td>25</td>\n",
       "      <td>948.70</td>\n",
       "    </tr>\n",
       "    <tr>\n",
       "      <th>1</th>\n",
       "      <td>1</td>\n",
       "      <td>888</td>\n",
       "      <td>7046.16</td>\n",
       "    </tr>\n",
       "    <tr>\n",
       "      <th>2</th>\n",
       "      <td>4</td>\n",
       "      <td>37</td>\n",
       "      <td>813.45</td>\n",
       "    </tr>\n",
       "    <tr>\n",
       "      <th>3</th>\n",
       "      <td>4</td>\n",
       "      <td>17</td>\n",
       "      <td>268.02</td>\n",
       "    </tr>\n",
       "    <tr>\n",
       "      <th>4</th>\n",
       "      <td>71</td>\n",
       "      <td>9</td>\n",
       "      <td>146.15</td>\n",
       "    </tr>\n",
       "  </tbody>\n",
       "</table>\n",
       "</div>"
      ],
      "text/plain": [
       "   Recency  Frequency  MonetaryValue\n",
       "0        3         25         948.70\n",
       "1        1        888        7046.16\n",
       "2        4         37         813.45\n",
       "3        4         17         268.02\n",
       "4       71          9         146.15"
      ]
     },
     "execution_count": 21,
     "metadata": {},
     "output_type": "execute_result"
    }
   ],
   "source": [
    "datamart_rfm.head()"
   ]
  },
  {
   "cell_type": "code",
   "execution_count": 19,
   "id": "4779738d-4b24-41b6-b881-d60ecb93880c",
   "metadata": {},
   "outputs": [],
   "source": [
    "datamart_log = np.log(datamart_rfm)\n",
    "\n",
    "\n",
    "scaler = StandardScaler()\n",
    "scaler.fit(datamart_log)\n",
    "\n",
    "\n",
    "datamart_normalized = scaler.transform(datamart_log)"
   ]
  },
  {
   "cell_type": "code",
   "execution_count": 4,
   "id": "dbf73a34-719c-4bb0-b7be-c184ad8bc608",
   "metadata": {},
   "outputs": [],
   "source": [
    "\n",
    "from sklearn.cluster import KMeans\n",
    "\n",
    "\n",
    "kmeans = KMeans(n_clusters=3, random_state=1) \n",
    "\n",
    "\n",
    "kmeans.fit(datamart_normalized)\n",
    "\n",
    "\n",
    "cluster_labels = kmeans.labels_"
   ]
  },
  {
   "cell_type": "markdown",
   "id": "b8283631-8a96-4247-8b90-634730db16dd",
   "metadata": {},
   "source": [
    "### Assign labels to raw data"
   ]
  },
  {
   "cell_type": "code",
   "execution_count": 5,
   "id": "ffdd2427-ee07-45e8-9a95-825ea9bd879c",
   "metadata": {},
   "outputs": [
    {
     "data": {
      "text/html": [
       "<div>\n",
       "<style scoped>\n",
       "    .dataframe tbody tr th:only-of-type {\n",
       "        vertical-align: middle;\n",
       "    }\n",
       "\n",
       "    .dataframe tbody tr th {\n",
       "        vertical-align: top;\n",
       "    }\n",
       "\n",
       "    .dataframe thead tr th {\n",
       "        text-align: left;\n",
       "    }\n",
       "\n",
       "    .dataframe thead tr:last-of-type th {\n",
       "        text-align: right;\n",
       "    }\n",
       "</style>\n",
       "<table border=\"1\" class=\"dataframe\">\n",
       "  <thead>\n",
       "    <tr>\n",
       "      <th></th>\n",
       "      <th>Recency</th>\n",
       "      <th>Frequency</th>\n",
       "      <th colspan=\"2\" halign=\"left\">MonetaryValue</th>\n",
       "    </tr>\n",
       "    <tr>\n",
       "      <th></th>\n",
       "      <th>mean</th>\n",
       "      <th>mean</th>\n",
       "      <th>mean</th>\n",
       "      <th>count</th>\n",
       "    </tr>\n",
       "    <tr>\n",
       "      <th>Cluster</th>\n",
       "      <th></th>\n",
       "      <th></th>\n",
       "      <th></th>\n",
       "      <th></th>\n",
       "    </tr>\n",
       "  </thead>\n",
       "  <tbody>\n",
       "    <tr>\n",
       "      <th>0</th>\n",
       "      <td>16.1</td>\n",
       "      <td>50.1</td>\n",
       "      <td>1050.6</td>\n",
       "      <td>901</td>\n",
       "    </tr>\n",
       "    <tr>\n",
       "      <th>1</th>\n",
       "      <td>166.6</td>\n",
       "      <td>3.0</td>\n",
       "      <td>53.0</td>\n",
       "      <td>1156</td>\n",
       "    </tr>\n",
       "    <tr>\n",
       "      <th>2</th>\n",
       "      <td>77.1</td>\n",
       "      <td>12.3</td>\n",
       "      <td>216.0</td>\n",
       "      <td>1586</td>\n",
       "    </tr>\n",
       "  </tbody>\n",
       "</table>\n",
       "</div>"
      ],
      "text/plain": [
       "        Recency Frequency MonetaryValue      \n",
       "           mean      mean          mean count\n",
       "Cluster                                      \n",
       "0          16.1      50.1        1050.6   901\n",
       "1         166.6       3.0          53.0  1156\n",
       "2          77.1      12.3         216.0  1586"
      ]
     },
     "execution_count": 5,
     "metadata": {},
     "output_type": "execute_result"
    }
   ],
   "source": [
    "\n",
    "datamart_rfm_k3 = datamart_rfm.assign(Cluster=cluster_labels)\n",
    "\n",
    "\n",
    "grouped = datamart_rfm_k3.groupby(['Cluster'])\n",
    "\n",
    "\n",
    "grouped.agg({\n",
    "    'Recency': 'mean',\n",
    "    'Frequency': 'mean',\n",
    "    'MonetaryValue': ['mean', 'count']\n",
    "  }).round(1)"
   ]
  },
  {
   "cell_type": "markdown",
   "id": "0ca01505-e3d2-4235-a7ab-f5778d7e0824",
   "metadata": {},
   "source": [
    "### Calculate sum of squared errors"
   ]
  },
  {
   "cell_type": "code",
   "execution_count": 6,
   "id": "5488bcd5-5973-4be5-ac34-cad54466ce79",
   "metadata": {},
   "outputs": [],
   "source": [
    "sse = {}"
   ]
  },
  {
   "cell_type": "code",
   "execution_count": 7,
   "id": "e40952d2-c0a3-40c4-bd77-acefeccebe7f",
   "metadata": {},
   "outputs": [],
   "source": [
    "\n",
    "for k in range(1, 15):\n",
    "  \n",
    "    \n",
    "    kmeans = KMeans(n_clusters=k, random_state=1)\n",
    "    \n",
    "    \n",
    "    kmeans.fit(datamart_normalized)\n",
    "    \n",
    "    \n",
    "    sse[k] = kmeans.inertia_ "
   ]
  },
  {
   "cell_type": "code",
   "execution_count": 8,
   "id": "4dd88fd8-2de1-4ecc-9614-8ee915359eec",
   "metadata": {},
   "outputs": [
    {
     "data": {
      "image/png": "[encoded data removed]",
      "text/plain": [
       "<Figure size 640x480 with 1 Axes>"
      ]
     },
     "metadata": {},
     "output_type": "display_data"
    }
   ],
   "source": [
    "plt.plot(sse.keys(), sse.values());"
   ]
  },
  {
   "cell_type": "markdown",
   "id": "04b4522e-8e75-4fd2-8ce8-2218b0af563f",
   "metadata": {},
   "source": [
    "### Plot sum of squared errors"
   ]
  },
  {
   "cell_type": "code",
   "execution_count": 9,
   "id": "7e507a46-82ad-4403-9b9a-8c00f224d120",
   "metadata": {},
   "outputs": [
    {
     "data": {
      "image/png": "[encoded data removed]",
      "text/plain": [
       "<Figure size 640x480 with 1 Axes>"
      ]
     },
     "metadata": {},
     "output_type": "display_data"
    }
   ],
   "source": [
    "\n",
    "plt.title('The Elbow Method')\n",
    "\n",
    "\n",
    "plt.xlabel('k')\n",
    "\n",
    "\n",
    "plt.ylabel('SSE')\n",
    "\n",
    "\n",
    "sns.pointplot(x=list(sse.keys()), y=list(sse.values()))\n",
    "plt.show()"
   ]
  },
  {
   "cell_type": "markdown",
   "id": "fe8e1579-7f7b-4e81-9b49-1231a6e18a32",
   "metadata": {},
   "source": [
    "### Prepare data for the snake plot"
   ]
  },
  {
   "cell_type": "code",
   "execution_count": 22,
   "id": "49c753fd-f774-424e-94b9-a77b86a6f3a9",
   "metadata": {},
   "outputs": [],
   "source": [
    "\n",
    "datamart_melt = pd.melt(\n",
    "    datamart_rfm_k3.reset_index(), \n",
    "\n",
    "                    id_vars=['Cluster'],\n",
    "\n",
    "                    value_vars=['Recency', 'Frequency', 'MonetaryValue'],                         \n",
    "\n",
    "                    var_name='Metric', value_name='Value'\n",
    ")"
   ]
  },
  {
   "cell_type": "code",
   "execution_count": 24,
   "id": "0660edea-bce4-4d54-afdf-1749a4fcef33",
   "metadata": {},
   "outputs": [
    {
     "data": {
      "text/html": [
       "<div>\n",
       "<style scoped>\n",
       "    .dataframe tbody tr th:only-of-type {\n",
       "        vertical-align: middle;\n",
       "    }\n",
       "\n",
       "    .dataframe tbody tr th {\n",
       "        vertical-align: top;\n",
       "    }\n",
       "\n",
       "    .dataframe thead th {\n",
       "        text-align: right;\n",
       "    }\n",
       "</style>\n",
       "<table border=\"1\" class=\"dataframe\">\n",
       "  <thead>\n",
       "    <tr style=\"text-align: right;\">\n",
       "      <th></th>\n",
       "      <th>Cluster</th>\n",
       "      <th>Metric</th>\n",
       "      <th>Value</th>\n",
       "    </tr>\n",
       "  </thead>\n",
       "  <tbody>\n",
       "    <tr>\n",
       "      <th>4253</th>\n",
       "      <td>2</td>\n",
       "      <td>Frequency</td>\n",
       "      <td>8.00</td>\n",
       "    </tr>\n",
       "    <tr>\n",
       "      <th>5884</th>\n",
       "      <td>2</td>\n",
       "      <td>Frequency</td>\n",
       "      <td>8.00</td>\n",
       "    </tr>\n",
       "    <tr>\n",
       "      <th>6321</th>\n",
       "      <td>1</td>\n",
       "      <td>Frequency</td>\n",
       "      <td>5.00</td>\n",
       "    </tr>\n",
       "    <tr>\n",
       "      <th>4543</th>\n",
       "      <td>2</td>\n",
       "      <td>Frequency</td>\n",
       "      <td>8.00</td>\n",
       "    </tr>\n",
       "    <tr>\n",
       "      <th>6940</th>\n",
       "      <td>0</td>\n",
       "      <td>Frequency</td>\n",
       "      <td>41.00</td>\n",
       "    </tr>\n",
       "    <tr>\n",
       "      <th>8740</th>\n",
       "      <td>1</td>\n",
       "      <td>MonetaryValue</td>\n",
       "      <td>37.05</td>\n",
       "    </tr>\n",
       "    <tr>\n",
       "      <th>6943</th>\n",
       "      <td>0</td>\n",
       "      <td>Frequency</td>\n",
       "      <td>43.00</td>\n",
       "    </tr>\n",
       "    <tr>\n",
       "      <th>9407</th>\n",
       "      <td>1</td>\n",
       "      <td>MonetaryValue</td>\n",
       "      <td>23.10</td>\n",
       "    </tr>\n",
       "    <tr>\n",
       "      <th>1314</th>\n",
       "      <td>2</td>\n",
       "      <td>Recency</td>\n",
       "      <td>9.00</td>\n",
       "    </tr>\n",
       "    <tr>\n",
       "      <th>3124</th>\n",
       "      <td>1</td>\n",
       "      <td>Recency</td>\n",
       "      <td>66.00</td>\n",
       "    </tr>\n",
       "  </tbody>\n",
       "</table>\n",
       "</div>"
      ],
      "text/plain": [
       "      Cluster         Metric  Value\n",
       "4253        2      Frequency   8.00\n",
       "5884        2      Frequency   8.00\n",
       "6321        1      Frequency   5.00\n",
       "4543        2      Frequency   8.00\n",
       "6940        0      Frequency  41.00\n",
       "8740        1  MonetaryValue  37.05\n",
       "6943        0      Frequency  43.00\n",
       "9407        1  MonetaryValue  23.10\n",
       "1314        2        Recency   9.00\n",
       "3124        1        Recency  66.00"
      ]
     },
     "execution_count": 24,
     "metadata": {},
     "output_type": "execute_result"
    }
   ],
   "source": [
    "datamart_melt.sample(10)"
   ]
  },
  {
   "cell_type": "code",
   "execution_count": null,
   "id": "b8d0e780-3fd4-4bbc-a20a-2232f97ed99c",
   "metadata": {},
   "outputs": [],
   "source": []
  }
 ],
 "metadata": {
  "kernelspec": {
   "display_name": "Python 3 (ipykernel)",
   "language": "python",
   "name": "python3"
  },
  "language_info": {
   "codemirror_mode": {
    "name": "ipython",
    "version": 3
   },
   "file_extension": ".py",
   "mimetype": "text/x-python",
   "name": "python",
   "nbconvert_exporter": "python",
   "pygments_lexer": "ipython3",
   "version": "3.8.0"
  }
 },
 "nbformat": 4,
 "nbformat_minor": 5
}
