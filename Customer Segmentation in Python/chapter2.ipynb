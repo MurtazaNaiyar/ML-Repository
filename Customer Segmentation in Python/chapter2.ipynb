{
 "cells": [
  {
   "cell_type": "code",
   "execution_count": 1,
   "id": "faab4b1a-3262-460a-a212-cefc0ebb46d3",
   "metadata": {},
   "outputs": [],
   "source": [
    "import numpy as np\n",
    "import pandas as pd"
   ]
  },
  {
   "cell_type": "code",
   "execution_count": 2,
   "id": "09caf7ac-6c6c-48a8-8465-d70cd3225adc",
   "metadata": {},
   "outputs": [],
   "source": [
    "data = pd.read_csv('customers.csv')"
   ]
  },
  {
   "cell_type": "code",
   "execution_count": 3,
   "id": "be10568e-b48d-41d5-8f6c-1aace20d7b3f",
   "metadata": {},
   "outputs": [
    {
     "name": "stdout",
     "output_type": "stream",
     "text": [
      "   Unnamed: 0  CustomerID  Spend Spend_Quartile\n",
      "0           0           0    137              1\n",
      "2           2           2    172              1\n",
      "7           7           7    229              2\n",
      "5           5           5    233              2\n",
      "6           6           6    244              3\n",
      "4           4           4    303              3\n",
      "1           1           1    335              4\n",
      "3           3           3    355              4\n"
     ]
    }
   ],
   "source": [
    "\n",
    "spend_quartile = pd.qcut(data['Spend'], q=4, labels=range(1,5))\n",
    "\n",
    "\n",
    "data['Spend_Quartile'] = spend_quartile\n",
    "\n",
    "\n",
    "print(data.sort_values('Spend'))"
   ]
  },
  {
   "cell_type": "code",
   "execution_count": null,
   "id": "8ee981e3-f6f4-451c-bc60-867bfc7bc868",
   "metadata": {},
   "outputs": [],
   "source": []
  }
 ],
 "metadata": {
  "kernelspec": {
   "display_name": "Python 3",
   "language": "python",
   "name": "python3"
  },
  "language_info": {
   "codemirror_mode": {
    "name": "ipython",
    "version": 3
   },
   "file_extension": ".py",
   "mimetype": "text/x-python",
   "name": "python",
   "nbconvert_exporter": "python",
   "pygments_lexer": "ipython3",
   "version": "3.7.8"
  }
 },
 "nbformat": 4,
 "nbformat_minor": 5
}
