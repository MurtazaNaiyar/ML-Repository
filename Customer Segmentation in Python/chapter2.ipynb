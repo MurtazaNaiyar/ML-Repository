{
 "cells": [
  {
   "cell_type": "markdown",
   "id": "5708ebed-ef96-4d1b-a3bc-992cf73e926f",
   "metadata": {},
   "source": [
    "## Recency, Frequency, Monetary Value analysis\n"
   ]
  },
  {
   "cell_type": "code",
   "execution_count": 2,
   "id": "ce1e22ef-ca2c-44f0-8cf0-55b102332734",
   "metadata": {},
   "outputs": [],
   "source": [
    "import numpy as np\n",
    "import pandas as pd"
   ]
  },
  {
   "cell_type": "code",
   "execution_count": 3,
   "id": "09caf7ac-6c6c-48a8-8465-d70cd3225adc",
   "metadata": {},
   "outputs": [],
   "source": [
    "data = pd.read_csv('customers.csv')"
   ]
  },
  {
   "cell_type": "markdown",
   "id": "fe22c035-5f01-40c2-beed-995650210524",
   "metadata": {},
   "source": [
    "### Calculate spend quartiles (q=4)"
   ]
  },
  {
   "cell_type": "code",
   "execution_count": 7,
   "id": "be10568e-b48d-41d5-8f6c-1aace20d7b3f",
   "metadata": {},
   "outputs": [
    {
     "name": "stdout",
     "output_type": "stream",
     "text": [
      "   Unnamed: 0  CustomerID  Spend Spend_Quartile\n",
      "0           0           0    137              1\n",
      "2           2           2    172              1\n",
      "7           7           7    229              2\n",
      "5           5           5    233              2\n",
      "6           6           6    244              3\n",
      "4           4           4    303              3\n",
      "1           1           1    335              4\n",
      "3           3           3    355              4\n"
     ]
    }
   ],
   "source": [
    "\n",
    "spend_quartile = pd.qcut(data['Spend'], q=4, labels=range(1,5))\n",
    "\n",
    "\n",
    "data['Spend_Quartile'] = spend_quartile\n",
    "\n",
    "\n",
    "print(data.sort_values('Spend'))"
   ]
  },
  {
   "cell_type": "markdown",
   "id": "0f18c6ea-5521-4f64-bfab-1c70714e53a9",
   "metadata": {},
   "source": [
    "### Calculate recency deciles (q=4)"
   ]
  },
  {
   "cell_type": "code",
   "execution_count": null,
   "id": "8ee981e3-f6f4-451c-bc60-867bfc7bc868",
   "metadata": {},
   "outputs": [],
   "source": [
    "\n",
    "r_labels = list(range(4, 0, -1))\n",
    "\n",
    "\n",
    "recency_quartiles = pd.qcut(data['Recency_Days'], q=4, labels=r_labels)\n",
    "\n",
    "\n",
    "data['Recency_Quartile'] = recency_quartiles \n",
    "\n",
    "\n",
    "print(data.sort_values('Recency_Days'))"
   ]
  },
  {
   "cell_type": "markdown",
   "id": "90403d0a-6301-4b9f-97ce-49ad27c9f1d9",
   "metadata": {},
   "source": [
    "### Calculate RFM values"
   ]
  },
  {
   "cell_type": "code",
   "execution_count": 4,
   "id": "eaaf08ca-92b0-422c-9ca9-a4497ddc5d98",
   "metadata": {},
   "outputs": [],
   "source": [
    "online = pd.read_csv('online.csv')"
   ]
  },
  {
   "cell_type": "code",
   "execution_count": 5,
   "id": "59ccef46-b729-4653-a966-941ab30e1387",
   "metadata": {},
   "outputs": [],
   "source": [
    "snapshot_date = pd.Timestamp(2011,12,10)"
   ]
  },
  {
   "cell_type": "code",
   "execution_count": 6,
   "id": "64886197-0a1b-4cf4-8ed5-682ba04a1a11",
   "metadata": {},
   "outputs": [
    {
     "data": {
      "text/plain": [
       "Timestamp('2011-12-10 00:00:00')"
      ]
     },
     "execution_count": 6,
     "metadata": {},
     "output_type": "execute_result"
    }
   ],
   "source": [
    "snapshot_date"
   ]
  },
  {
   "cell_type": "code",
   "execution_count": 7,
   "id": "df944602-657c-4b04-8bef-ac2923f53b75",
   "metadata": {},
   "outputs": [
    {
     "data": {
      "text/html": [
       "<div>\n",
       "<style scoped>\n",
       "    .dataframe tbody tr th:only-of-type {\n",
       "        vertical-align: middle;\n",
       "    }\n",
       "\n",
       "    .dataframe tbody tr th {\n",
       "        vertical-align: top;\n",
       "    }\n",
       "\n",
       "    .dataframe thead th {\n",
       "        text-align: right;\n",
       "    }\n",
       "</style>\n",
       "<table border=\"1\" class=\"dataframe\">\n",
       "  <thead>\n",
       "    <tr style=\"text-align: right;\">\n",
       "      <th></th>\n",
       "      <th>InvoiceNo</th>\n",
       "      <th>StockCode</th>\n",
       "      <th>Description</th>\n",
       "      <th>Quantity</th>\n",
       "      <th>InvoiceDate</th>\n",
       "      <th>UnitPrice</th>\n",
       "      <th>CustomerID</th>\n",
       "      <th>Country</th>\n",
       "      <th>TotalSum</th>\n",
       "    </tr>\n",
       "  </thead>\n",
       "  <tbody>\n",
       "    <tr>\n",
       "      <th>0</th>\n",
       "      <td>572558</td>\n",
       "      <td>22745</td>\n",
       "      <td>POPPY'S PLAYHOUSE BEDROOM</td>\n",
       "      <td>6</td>\n",
       "      <td>2011-10-25</td>\n",
       "      <td>2.10</td>\n",
       "      <td>14286</td>\n",
       "      <td>United Kingdom</td>\n",
       "      <td>12.60</td>\n",
       "    </tr>\n",
       "    <tr>\n",
       "      <th>1</th>\n",
       "      <td>577485</td>\n",
       "      <td>23196</td>\n",
       "      <td>VINTAGE LEAF MAGNETIC NOTEPAD</td>\n",
       "      <td>1</td>\n",
       "      <td>2011-11-20</td>\n",
       "      <td>1.45</td>\n",
       "      <td>16360</td>\n",
       "      <td>United Kingdom</td>\n",
       "      <td>1.45</td>\n",
       "    </tr>\n",
       "    <tr>\n",
       "      <th>2</th>\n",
       "      <td>560034</td>\n",
       "      <td>23299</td>\n",
       "      <td>FOOD COVER WITH BEADS SET 2</td>\n",
       "      <td>6</td>\n",
       "      <td>2011-07-14</td>\n",
       "      <td>3.75</td>\n",
       "      <td>13933</td>\n",
       "      <td>United Kingdom</td>\n",
       "      <td>22.50</td>\n",
       "    </tr>\n",
       "    <tr>\n",
       "      <th>3</th>\n",
       "      <td>578307</td>\n",
       "      <td>72349B</td>\n",
       "      <td>SET/6 PURPLE BUTTERFLY T-LIGHTS</td>\n",
       "      <td>1</td>\n",
       "      <td>2011-11-23</td>\n",
       "      <td>2.10</td>\n",
       "      <td>17290</td>\n",
       "      <td>United Kingdom</td>\n",
       "      <td>2.10</td>\n",
       "    </tr>\n",
       "    <tr>\n",
       "      <th>4</th>\n",
       "      <td>554656</td>\n",
       "      <td>21756</td>\n",
       "      <td>BATH BUILDING BLOCK WORD</td>\n",
       "      <td>3</td>\n",
       "      <td>2011-05-25</td>\n",
       "      <td>5.95</td>\n",
       "      <td>17663</td>\n",
       "      <td>United Kingdom</td>\n",
       "      <td>17.85</td>\n",
       "    </tr>\n",
       "  </tbody>\n",
       "</table>\n",
       "</div>"
      ],
      "text/plain": [
       "   InvoiceNo StockCode                      Description  Quantity InvoiceDate  \\\n",
       "0     572558     22745       POPPY'S PLAYHOUSE BEDROOM          6  2011-10-25   \n",
       "1     577485     23196    VINTAGE LEAF MAGNETIC NOTEPAD         1  2011-11-20   \n",
       "2     560034     23299     FOOD COVER WITH BEADS SET 2          6  2011-07-14   \n",
       "3     578307    72349B  SET/6 PURPLE BUTTERFLY T-LIGHTS         1  2011-11-23   \n",
       "4     554656     21756         BATH BUILDING BLOCK WORD         3  2011-05-25   \n",
       "\n",
       "   UnitPrice  CustomerID         Country  TotalSum  \n",
       "0       2.10       14286  United Kingdom     12.60  \n",
       "1       1.45       16360  United Kingdom      1.45  \n",
       "2       3.75       13933  United Kingdom     22.50  \n",
       "3       2.10       17290  United Kingdom      2.10  \n",
       "4       5.95       17663  United Kingdom     17.85  "
      ]
     },
     "execution_count": 7,
     "metadata": {},
     "output_type": "execute_result"
    }
   ],
   "source": [
    "online.head()"
   ]
  },
  {
   "cell_type": "code",
   "execution_count": 8,
   "id": "16fa624b-1914-48ce-b5bd-76ed503b2f00",
   "metadata": {},
   "outputs": [],
   "source": [
    "online['InvoiceDate'] = pd.to_datetime(online.InvoiceDate)"
   ]
  },
  {
   "cell_type": "code",
   "execution_count": 9,
   "id": "8fa8195f-be17-461d-b439-5b13d5226666",
   "metadata": {},
   "outputs": [
    {
     "name": "stdout",
     "output_type": "stream",
     "text": [
      "            Recency  Frequency  MonetaryValue\n",
      "CustomerID                                   \n",
      "12747             3         25         948.70\n",
      "12748             1        888        7046.16\n",
      "12749             4         37         813.45\n",
      "12820             4         17         268.02\n",
      "12822            71          9         146.15\n"
     ]
    }
   ],
   "source": [
    "\n",
    "datamart = online.groupby(['CustomerID']).agg({\n",
    "    'InvoiceDate': lambda x: (snapshot_date - x.max()).days,\n",
    "    'InvoiceNo': 'count',\n",
    "    'TotalSum': 'sum'})\n",
    "\n",
    "\n",
    "datamart.rename(columns={'InvoiceDate': 'Recency',\n",
    "                         'InvoiceNo': 'Frequency',\n",
    "                         'TotalSum': 'MonetaryValue'}, inplace=True)\n",
    "\n",
    "\n",
    "print(datamart.head())"
   ]
  },
  {
   "cell_type": "markdown",
   "id": "8704d3cd-8b23-41a6-9fcd-7585c218fa46",
   "metadata": {},
   "source": [
    "### Calculate 3 groups for recency and frequency"
   ]
  },
  {
   "cell_type": "code",
   "execution_count": 10,
   "id": "38bfd4c5-9860-44dc-918b-e41ca142a763",
   "metadata": {},
   "outputs": [],
   "source": [
    "\n",
    "r_labels = range(3, 0, -1); f_labels = range(1, 4)\n",
    "\n",
    "\n",
    "r_groups = pd.qcut(datamart['Recency'], q=3, labels=r_labels)\n",
    "\n",
    "\n",
    "f_groups = pd.qcut(datamart['Frequency'], q=3, labels=f_labels)\n",
    "\n",
    "\n",
    "datamart = datamart.assign(R=r_groups.values, F=f_groups.values)"
   ]
  },
  {
   "cell_type": "code",
   "execution_count": 12,
   "id": "74022dc1-2607-4fd7-ac89-4806165bdfed",
   "metadata": {},
   "outputs": [
    {
     "data": {
      "text/plain": [
       "range(3, 0, -1)"
      ]
     },
     "execution_count": 12,
     "metadata": {},
     "output_type": "execute_result"
    }
   ],
   "source": [
    "r_labels"
   ]
  },
  {
   "cell_type": "code",
   "execution_count": 13,
   "id": "ef9a45e8-eb78-427e-94d1-fd9510895775",
   "metadata": {},
   "outputs": [
    {
     "data": {
      "text/plain": [
       "range(1, 4)"
      ]
     },
     "execution_count": 13,
     "metadata": {},
     "output_type": "execute_result"
    }
   ],
   "source": [
    "f_labels"
   ]
  },
  {
   "cell_type": "code",
   "execution_count": 11,
   "id": "59c4b68a-db45-4624-a016-c725e53010ad",
   "metadata": {},
   "outputs": [
    {
     "data": {
      "text/html": [
       "<div>\n",
       "<style scoped>\n",
       "    .dataframe tbody tr th:only-of-type {\n",
       "        vertical-align: middle;\n",
       "    }\n",
       "\n",
       "    .dataframe tbody tr th {\n",
       "        vertical-align: top;\n",
       "    }\n",
       "\n",
       "    .dataframe thead th {\n",
       "        text-align: right;\n",
       "    }\n",
       "</style>\n",
       "<table border=\"1\" class=\"dataframe\">\n",
       "  <thead>\n",
       "    <tr style=\"text-align: right;\">\n",
       "      <th></th>\n",
       "      <th>Recency</th>\n",
       "      <th>Frequency</th>\n",
       "      <th>MonetaryValue</th>\n",
       "      <th>R</th>\n",
       "      <th>F</th>\n",
       "    </tr>\n",
       "    <tr>\n",
       "      <th>CustomerID</th>\n",
       "      <th></th>\n",
       "      <th></th>\n",
       "      <th></th>\n",
       "      <th></th>\n",
       "      <th></th>\n",
       "    </tr>\n",
       "  </thead>\n",
       "  <tbody>\n",
       "    <tr>\n",
       "      <th>12747</th>\n",
       "      <td>3</td>\n",
       "      <td>25</td>\n",
       "      <td>948.70</td>\n",
       "      <td>3</td>\n",
       "      <td>3</td>\n",
       "    </tr>\n",
       "    <tr>\n",
       "      <th>12748</th>\n",
       "      <td>1</td>\n",
       "      <td>888</td>\n",
       "      <td>7046.16</td>\n",
       "      <td>3</td>\n",
       "      <td>3</td>\n",
       "    </tr>\n",
       "    <tr>\n",
       "      <th>12749</th>\n",
       "      <td>4</td>\n",
       "      <td>37</td>\n",
       "      <td>813.45</td>\n",
       "      <td>3</td>\n",
       "      <td>3</td>\n",
       "    </tr>\n",
       "    <tr>\n",
       "      <th>12820</th>\n",
       "      <td>4</td>\n",
       "      <td>17</td>\n",
       "      <td>268.02</td>\n",
       "      <td>3</td>\n",
       "      <td>3</td>\n",
       "    </tr>\n",
       "    <tr>\n",
       "      <th>12822</th>\n",
       "      <td>71</td>\n",
       "      <td>9</td>\n",
       "      <td>146.15</td>\n",
       "      <td>2</td>\n",
       "      <td>2</td>\n",
       "    </tr>\n",
       "  </tbody>\n",
       "</table>\n",
       "</div>"
      ],
      "text/plain": [
       "            Recency  Frequency  MonetaryValue  R  F\n",
       "CustomerID                                         \n",
       "12747             3         25         948.70  3  3\n",
       "12748             1        888        7046.16  3  3\n",
       "12749             4         37         813.45  3  3\n",
       "12820             4         17         268.02  3  3\n",
       "12822            71          9         146.15  2  2"
      ]
     },
     "execution_count": 11,
     "metadata": {},
     "output_type": "execute_result"
    }
   ],
   "source": [
    "datamart.head()"
   ]
  },
  {
   "cell_type": "code",
   "execution_count": null,
   "id": "81f8c87a-35b5-45f0-9c13-5adce536763a",
   "metadata": {},
   "outputs": [],
   "source": []
  }
 ],
 "metadata": {
  "kernelspec": {
   "display_name": "Python 3",
   "language": "python",
   "name": "python3"
  },
  "language_info": {
   "codemirror_mode": {
    "name": "ipython",
    "version": 3
   },
   "file_extension": ".py",
   "mimetype": "text/x-python",
   "name": "python",
   "nbconvert_exporter": "python",
   "pygments_lexer": "ipython3",
   "version": "3.7.8"
  }
 },
 "nbformat": 4,
 "nbformat_minor": 5
}
